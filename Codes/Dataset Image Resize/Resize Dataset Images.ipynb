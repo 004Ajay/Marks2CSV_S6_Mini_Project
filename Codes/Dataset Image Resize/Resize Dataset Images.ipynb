{
 "cells": [
  {
   "cell_type": "markdown",
   "id": "7dbff110",
   "metadata": {},
   "source": [
    "# Specific Program to Resize Online Dataset Images\n",
    "\n",
    "* This code takes in path to a folder, image to be resized are stored, and find all images in sub-folders\n",
    "* This code also need a path to a folder, where resized images are to be saved"
   ]
  },
  {
   "cell_type": "code",
   "execution_count": 2,
   "id": "5cb19e99",
   "metadata": {},
   "outputs": [],
   "source": [
    "from PIL import Image\n",
    "import os\n",
    "import glob"
   ]
  },
  {
   "cell_type": "code",
   "execution_count": 3,
   "id": "f9a086d6",
   "metadata": {},
   "outputs": [
    {
     "name": "stdout",
     "output_type": "stream",
     "text": [
      "Total images in 0: 2236\n",
      "Total images in 1: 2241\n",
      "Total images in 2: 2233\n",
      "Total images in 3: 2202\n",
      "Total images in 4: 2179\n",
      "Total images in 5: 2126\n",
      "Total images in 6: 2121\n",
      "Total images in 7: 2116\n",
      "\n",
      "\n",
      "Work Done.\n"
     ]
    }
   ],
   "source": [
    "ls=[\"zero\",\"one\",\"two\",\"three\",\"four\",\"five\",\"six\",\"seven\"]\n",
    "\n",
    "for i in range(0,8):\n",
    "    \n",
    "    #-----To create new folder-------#\n",
    "    \n",
    "    folder_name = f\"{i}\"\n",
    "    directory = \"C:/Users/ASUS/Desktop/Numbers\"  # New folder to save resized images, path here...\n",
    "    folder_path1 = os.path.join(directory, folder_name)\n",
    "    if not os.path.exists(folder_path1):\n",
    "        os.mkdir(folder_path1)\n",
    "        \n",
    "    #------ To find number of images in the folder-----------#\n",
    "    \n",
    "    folder_path = f\"C:/Users/ASUS/Desktop/Old_Numbers/{i}\"\n",
    "    image_files = glob.glob(os.path.join(folder_path, \"*.jpg\"))\n",
    "    num_images = len(image_files)\n",
    "    \n",
    "    print(f\"Total images in {i}: {num_images}\")\n",
    "    \n",
    "    k = 0\n",
    "    for j in image_files:\n",
    "        img=Image.open(j)\n",
    "        crp=img.resize((40, 40)) # Resizing the image to 40x40\n",
    "        new_image_file = os.path.join(folder_path1, f\"im_{k}.jpg\")\n",
    "        crp.save(new_image_file)\n",
    "        k += 1\n",
    "        \n",
    "print(\"\\n\\nWork Done.\")        "
   ]
  },
  {
   "cell_type": "code",
   "execution_count": null,
   "id": "43485f13",
   "metadata": {},
   "outputs": [],
   "source": []
  }
 ],
 "metadata": {
  "kernelspec": {
   "display_name": "Python 3 (ipykernel)",
   "language": "python",
   "name": "python3"
  },
  "language_info": {
   "codemirror_mode": {
    "name": "ipython",
    "version": 3
   },
   "file_extension": ".py",
   "mimetype": "text/x-python",
   "name": "python",
   "nbconvert_exporter": "python",
   "pygments_lexer": "ipython3",
   "version": "3.10.8"
  }
 },
 "nbformat": 4,
 "nbformat_minor": 5
}
