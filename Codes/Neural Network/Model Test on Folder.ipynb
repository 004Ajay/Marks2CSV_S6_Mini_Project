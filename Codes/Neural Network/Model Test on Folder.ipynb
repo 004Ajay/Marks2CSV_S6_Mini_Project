{
 "cells": [
  {
   "cell_type": "code",
   "execution_count": 1,
   "id": "5e9e111f",
   "metadata": {},
   "outputs": [],
   "source": [
    "from sklearn.metrics import confusion_matrix\n",
    "import tensorflow as tf\n",
    "import numpy as np\n",
    "import os"
   ]
  },
  {
   "cell_type": "code",
   "execution_count": 2,
   "id": "7c75185e",
   "metadata": {},
   "outputs": [
    {
     "name": "stdout",
     "output_type": "stream",
     "text": [
      "Total images: 67\n"
     ]
    }
   ],
   "source": [
    "model = tf.keras.models.load_model(\"D:/AJAYMON/AJAY/Programming/S6_Mini_Project/Codes/Neural Network/MP.h5\") # pre-trained model\n",
    "\n",
    "image_folder = \"D:/AJAYMON/AJAY/Programming/S6_Mini_Project/dataset/Marks/More/0\" # path to image folder\n",
    "\n",
    "# Get a list of all the images in the folder\n",
    "image_list = os.listdir(image_folder)\n",
    "\n",
    "true_labels = [int(image_folder[63])] * len(image_list)\n",
    "\n",
    "print(f\"Total images: {len(image_list)}\")"
   ]
  },
  {
   "cell_type": "code",
   "execution_count": 3,
   "id": "0e72443f",
   "metadata": {},
   "outputs": [
    {
     "name": "stdout",
     "output_type": "stream",
     "text": [
      "1/1 [==============================] - 0s 128ms/step\n",
      "1/1 [==============================] - 0s 32ms/step\n",
      "1/1 [==============================] - 0s 24ms/step\n",
      "1/1 [==============================] - 0s 16ms/step\n",
      "1/1 [==============================] - 0s 16ms/step\n",
      "1/1 [==============================] - 0s 24ms/step\n",
      "1/1 [==============================] - 0s 24ms/step\n",
      "1/1 [==============================] - 0s 24ms/step\n",
      "1/1 [==============================] - 0s 40ms/step\n",
      "1/1 [==============================] - 0s 32ms/step\n",
      "1/1 [==============================] - 0s 24ms/step\n",
      "1/1 [==============================] - 0s 32ms/step\n",
      "1/1 [==============================] - 0s 28ms/step\n",
      "1/1 [==============================] - 0s 24ms/step\n",
      "1/1 [==============================] - 0s 32ms/step\n",
      "1/1 [==============================] - 0s 28ms/step\n",
      "1/1 [==============================] - 0s 32ms/step\n",
      "1/1 [==============================] - 0s 32ms/step\n",
      "1/1 [==============================] - 0s 32ms/step\n",
      "1/1 [==============================] - 0s 24ms/step\n",
      "1/1 [==============================] - 0s 29ms/step\n",
      "1/1 [==============================] - 0s 24ms/step\n",
      "1/1 [==============================] - 0s 24ms/step\n",
      "1/1 [==============================] - 0s 24ms/step\n",
      "1/1 [==============================] - 0s 24ms/step\n",
      "1/1 [==============================] - 0s 32ms/step\n",
      "1/1 [==============================] - 0s 32ms/step\n",
      "1/1 [==============================] - 0s 32ms/step\n",
      "1/1 [==============================] - 0s 32ms/step\n",
      "1/1 [==============================] - 0s 24ms/step\n",
      "1/1 [==============================] - 0s 24ms/step\n",
      "1/1 [==============================] - 0s 24ms/step\n",
      "1/1 [==============================] - 0s 24ms/step\n",
      "1/1 [==============================] - 0s 32ms/step\n",
      "1/1 [==============================] - 0s 24ms/step\n",
      "1/1 [==============================] - 0s 24ms/step\n",
      "1/1 [==============================] - 0s 24ms/step\n",
      "1/1 [==============================] - 0s 24ms/step\n",
      "1/1 [==============================] - 0s 32ms/step\n",
      "1/1 [==============================] - 0s 32ms/step\n",
      "1/1 [==============================] - 0s 24ms/step\n",
      "1/1 [==============================] - 0s 24ms/step\n",
      "1/1 [==============================] - 0s 24ms/step\n",
      "1/1 [==============================] - 0s 32ms/step\n",
      "1/1 [==============================] - 0s 50ms/step\n",
      "1/1 [==============================] - 0s 24ms/step\n",
      "1/1 [==============================] - 0s 27ms/step\n",
      "1/1 [==============================] - 0s 32ms/step\n",
      "1/1 [==============================] - 0s 16ms/step\n",
      "1/1 [==============================] - 0s 32ms/step\n",
      "1/1 [==============================] - 0s 32ms/step\n",
      "1/1 [==============================] - 0s 88ms/step\n",
      "1/1 [==============================] - 0s 31ms/step\n",
      "1/1 [==============================] - 0s 24ms/step\n",
      "1/1 [==============================] - 0s 24ms/step\n",
      "1/1 [==============================] - 0s 24ms/step\n",
      "1/1 [==============================] - 0s 32ms/step\n",
      "1/1 [==============================] - 0s 16ms/step\n",
      "1/1 [==============================] - 0s 32ms/step\n",
      "1/1 [==============================] - 0s 32ms/step\n",
      "1/1 [==============================] - 0s 32ms/step\n",
      "1/1 [==============================] - 0s 26ms/step\n",
      "1/1 [==============================] - 0s 25ms/step\n",
      "1/1 [==============================] - 0s 24ms/step\n",
      "1/1 [==============================] - 0s 47ms/step\n",
      "1/1 [==============================] - 0s 31ms/step\n",
      "1/1 [==============================] - 0s 32ms/step\n"
     ]
    }
   ],
   "source": [
    "pred = []\n",
    "\n",
    "# Loop through all the images in the folder and classify them\n",
    "for image_name in image_list:\n",
    "    \n",
    "    test_image = tf.keras.preprocessing.image.load_img(os.path.join(image_folder, image_name), target_size=(90, 140), color_mode='grayscale')\n",
    "    test_image = np.expand_dims(test_image, axis=0) # Expand the dimensions of the image to match the input shape of the model\n",
    "    \n",
    "    result = model.predict(test_image)\n",
    "    \n",
    "    predicted_value = np.argmax(result[0])\n",
    "    \n",
    "    pred.append(predicted_value)"
   ]
  },
  {
   "cell_type": "code",
   "execution_count": 4,
   "id": "7ad1f1cd",
   "metadata": {},
   "outputs": [
    {
     "name": "stdout",
     "output_type": "stream",
     "text": [
      "Ground Truth: 0\n",
      "\n",
      "Classified Values:\n",
      "[6, 6, 6, 7, 7, 6, 6, 3, 6, 6, 3, 2, 6, 7, 2, 2, 6, 5, 6, 2, 6, 2, 6, 6, 2, 3, 7, 6, 3, 2, 6, 7, 6, 2, 3, 3, 3, 0, 7, 6, 3, 2, 3, 3, 0, 3, 7, 6, 3, 7, 7, 2, 6, 6, 3, 6, 3, 6, 3, 6, 3, 2, 2, 6, 6, 6, 6]\n"
     ]
    }
   ],
   "source": [
    "print(f\"Ground Truth: {int(image_folder[63])}\\n\")\n",
    "print(f\"Classified Values:\\n{pred}\")"
   ]
  },
  {
   "cell_type": "code",
   "execution_count": 5,
   "id": "dc389e3a",
   "metadata": {},
   "outputs": [
    {
     "name": "stdout",
     "output_type": "stream",
     "text": [
      "Accuracy: 2.99%\n"
     ]
    }
   ],
   "source": [
    "# Calculate the accuracy\n",
    "correct_predictions = sum(pred[i] == true_labels[i] for i in range(len(image_list)))\n",
    "accuracy = correct_predictions / len(true_labels) * 100\n",
    "\n",
    "print(f\"Accuracy: {accuracy:.2f}%\")"
   ]
  },
  {
   "cell_type": "code",
   "execution_count": null,
   "id": "a22a9d12",
   "metadata": {},
   "outputs": [],
   "source": []
  }
 ],
 "metadata": {
  "kernelspec": {
   "display_name": "Python 3 (ipykernel)",
   "language": "python",
   "name": "python3"
  },
  "language_info": {
   "codemirror_mode": {
    "name": "ipython",
    "version": 3
   },
   "file_extension": ".py",
   "mimetype": "text/x-python",
   "name": "python",
   "nbconvert_exporter": "python",
   "pygments_lexer": "ipython3",
   "version": "3.10.8"
  }
 },
 "nbformat": 4,
 "nbformat_minor": 5
}
