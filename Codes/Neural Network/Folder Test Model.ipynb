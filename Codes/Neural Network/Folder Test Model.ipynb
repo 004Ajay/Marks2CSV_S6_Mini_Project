{
 "cells": [
  {
   "cell_type": "code",
   "execution_count": 3,
   "id": "5e9e111f",
   "metadata": {},
   "outputs": [],
   "source": [
    "import tensorflow as tf\n",
    "import numpy as np\n",
    "import matplotlib.pyplot as plt"
   ]
  },
  {
   "cell_type": "code",
   "execution_count": 4,
   "id": "dbe04b6d",
   "metadata": {},
   "outputs": [],
   "source": [
    "# load the saved model from file\n",
    "model = tf.keras.models.load_model('MP.h5')"
   ]
  },
  {
   "cell_type": "code",
   "execution_count": 5,
   "id": "3e10eba4",
   "metadata": {},
   "outputs": [
    {
     "name": "stdout",
     "output_type": "stream",
     "text": [
      "Model: \"sequential_2\"\n",
      "_________________________________________________________________\n",
      " Layer (type)                Output Shape              Param #   \n",
      "=================================================================\n",
      " conv2d_4 (Conv2D)           (None, 88, 138, 16)       160       \n",
      "                                                                 \n",
      " max_pooling2d_4 (MaxPooling  (None, 44, 69, 16)       0         \n",
      " 2D)                                                             \n",
      "                                                                 \n",
      " conv2d_5 (Conv2D)           (None, 42, 67, 32)        4640      \n",
      "                                                                 \n",
      " max_pooling2d_5 (MaxPooling  (None, 21, 33, 32)       0         \n",
      " 2D)                                                             \n",
      "                                                                 \n",
      " flatten_2 (Flatten)         (None, 22176)             0         \n",
      "                                                                 \n",
      " dense_4 (Dense)             (None, 64)                1419328   \n",
      "                                                                 \n",
      " dense_5 (Dense)             (None, 8)                 520       \n",
      "                                                                 \n",
      "=================================================================\n",
      "Total params: 1,424,648\n",
      "Trainable params: 1,424,648\n",
      "Non-trainable params: 0\n",
      "_________________________________________________________________\n"
     ]
    }
   ],
   "source": [
    "# print the model summary\n",
    "model.summary()"
   ]
  },
  {
   "cell_type": "code",
   "execution_count": 10,
   "id": "7c75185e",
   "metadata": {},
   "outputs": [],
   "source": [
    "# Use the model to predict on new test data\n",
    "# test_image_path = \"D:/AJAYMON/AJAY/Programming/S6_Mini_Project/dataset/numbers/5/Five_full (101).jpg\"\n",
    "\n",
    "test_image_path = \"D:/AJAYMON/AJAY/Programming/S6_Mini_Project/dataset/Marks/5/alaika_crop18.jpg\""
   ]
  },
  {
   "cell_type": "code",
   "execution_count": 11,
   "id": "e770aa8b",
   "metadata": {},
   "outputs": [],
   "source": [
    "test_image = tf.keras.preprocessing.image.load_img(test_image_path, target_size=(90, 140), color_mode='grayscale')\n",
    "test_image = np.expand_dims(test_image, axis=0)"
   ]
  },
  {
   "cell_type": "code",
   "execution_count": 12,
   "id": "c7f5c0cf",
   "metadata": {},
   "outputs": [
    {
     "name": "stdout",
     "output_type": "stream",
     "text": [
      "1/1 [==============================] - 0s 26ms/step\n"
     ]
    },
    {
     "data": {
      "text/plain": [
       "array([[0., 0., 0., 0., 0., 1., 0., 0.]], dtype=float32)"
      ]
     },
     "execution_count": 12,
     "metadata": {},
     "output_type": "execute_result"
    }
   ],
   "source": [
    "result = model.predict(test_image)\n",
    "result"
   ]
  },
  {
   "cell_type": "code",
   "execution_count": 13,
   "id": "a92ce5a9",
   "metadata": {},
   "outputs": [
    {
     "data": {
      "text/plain": [
       "5"
      ]
     },
     "execution_count": 13,
     "metadata": {},
     "output_type": "execute_result"
    }
   ],
   "source": [
    "predicted_value = np.argmax(result[0])\n",
    "predicted_value"
   ]
  },
  {
   "cell_type": "code",
   "execution_count": 14,
   "id": "7a7dc66d",
   "metadata": {},
   "outputs": [
    {
     "name": "stdout",
     "output_type": "stream",
     "text": [
      "1/1 [==============================] - 0s 80ms/step\n",
      "1/1 [==============================] - 0s 24ms/step\n"
     ]
    },
    {
     "data": {
      "text/plain": [
       "[5, 1]"
      ]
     },
     "execution_count": 14,
     "metadata": {},
     "output_type": "execute_result"
    }
   ],
   "source": [
    "import tensorflow as tf\n",
    "import numpy as np\n",
    "import os\n",
    "\n",
    "pred = []\n",
    "\n",
    "model = tf.keras.models.load_model(\"D:/AJAYMON/AJAY/Programming/S6_Mini_Project/Codes/Neural Network/MP.h5\") # pre-trained model\n",
    "\n",
    "image_folder = \"D:/AJAYMON/AJAY/Programming/S6_Mini_Project/dataset/Marks/5\" # path to image folder\n",
    "\n",
    "# Get a list of all the images in the folder\n",
    "image_list = os.listdir(image_folder)\n",
    "\n",
    "# Loop through all the images and classify them\n",
    "for image_name in image_list:\n",
    "    \n",
    "    test_image = tf.keras.preprocessing.image.load_img(os.path.join(image_folder, image_name), target_size=(90, 140), color_mode='grayscale')\n",
    "    test_image = np.expand_dims(test_image, axis=0) # Expand the dimensions of the image to match the input shape of the model\n",
    "    \n",
    "    result = model.predict(test_image)\n",
    "    \n",
    "    predicted_value = np.argmax(result[0])\n",
    "    \n",
    "    pred.append(predicted_value)\n",
    "\n",
    "pred"
   ]
  },
  {
   "cell_type": "code",
   "execution_count": 9,
   "id": "6e1ed6e3",
   "metadata": {},
   "outputs": [],
   "source": [
    "import cv2\n",
    "import os\n",
    "\n",
    "# Define the folder containing the images you want to classify\n",
    "image_folder = \"D:/AJAYMON/AJAY/Programming/S6_Mini_Project/dataset/Marks/\"\n",
    "\n",
    "# Get a list of all the images in the folder\n",
    "image_list = os.listdir(image_folder)\n",
    "\n",
    "for image in image_list:\n",
    "    imm = os.path.join(image_folder, image)\n",
    "    ima = cv2.imread(imm)\n",
    "    cv2.imshow(\"im\", ima)\n",
    "    cv2.waitKey(400)\n",
    "    cv2.destroyAllWindows()"
   ]
  },
  {
   "cell_type": "code",
   "execution_count": 10,
   "id": "f82d816e",
   "metadata": {},
   "outputs": [
    {
     "ename": "NameError",
     "evalue": "name 'model' is not defined",
     "output_type": "error",
     "traceback": [
      "\u001b[1;31m---------------------------------------------------------------------------\u001b[0m",
      "\u001b[1;31mNameError\u001b[0m                                 Traceback (most recent call last)",
      "Cell \u001b[1;32mIn [10], line 1\u001b[0m\n\u001b[1;32m----> 1\u001b[0m \u001b[43mmodel\u001b[49m\n",
      "\u001b[1;31mNameError\u001b[0m: name 'model' is not defined"
     ]
    }
   ],
   "source": [
    "model"
   ]
  },
  {
   "cell_type": "code",
   "execution_count": null,
   "id": "3a1cbc9e",
   "metadata": {},
   "outputs": [],
   "source": []
  },
  {
   "cell_type": "code",
   "execution_count": null,
   "id": "71c480bf",
   "metadata": {},
   "outputs": [],
   "source": []
  },
  {
   "cell_type": "code",
   "execution_count": null,
   "id": "80ce2c63",
   "metadata": {},
   "outputs": [],
   "source": []
  }
 ],
 "metadata": {
  "kernelspec": {
   "display_name": "Python 3 (ipykernel)",
   "language": "python",
   "name": "python3"
  },
  "language_info": {
   "codemirror_mode": {
    "name": "ipython",
    "version": 3
   },
   "file_extension": ".py",
   "mimetype": "text/x-python",
   "name": "python",
   "nbconvert_exporter": "python",
   "pygments_lexer": "ipython3",
   "version": "3.10.8"
  }
 },
 "nbformat": 4,
 "nbformat_minor": 5
}
