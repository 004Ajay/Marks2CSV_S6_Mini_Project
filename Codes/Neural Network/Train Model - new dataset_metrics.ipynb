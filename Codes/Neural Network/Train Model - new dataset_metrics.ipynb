{
 "cells": [
  {
   "cell_type": "code",
   "execution_count": 1,
   "id": "4e44d236",
   "metadata": {},
   "outputs": [],
   "source": [
    "import tensorflow as tf # install tensorflow"
   ]
  },
  {
   "cell_type": "code",
   "execution_count": 2,
   "id": "f0060f84",
   "metadata": {},
   "outputs": [],
   "source": [
    "# define the image size and batch size\n",
    "img_size = (40, 40)\n",
    "batch_size = 32\n",
    "\n",
    "# Path to your dataset folder \n",
    "\n",
    "\n",
    "data_dir = \"C:/Users/EMIL/Desktop/Rezised 40X40 dataset\""
   ]
  },
  {
   "cell_type": "code",
   "execution_count": 3,
   "id": "fe5d71a7",
   "metadata": {},
   "outputs": [
    {
     "name": "stdout",
     "output_type": "stream",
     "text": [
      "Found 18135 files belonging to 8 classes.\n",
      "Using 15415 files for training.\n",
      "Found 18135 files belonging to 8 classes.\n",
      "Using 2720 files for validation.\n"
     ]
    }
   ],
   "source": [
    "# use image_dataset_from_directory to load the data and split it into training and testing sets\n",
    "train_ds = tf.keras.preprocessing.image_dataset_from_directory(\n",
    "    data_dir,\n",
    "    validation_split=0.15,\n",
    "    subset='training',\n",
    "    seed=123,\n",
    "    image_size=img_size,\n",
    "    batch_size=batch_size)\n",
    "\n",
    "val_ds = tf.keras.preprocessing.image_dataset_from_directory(\n",
    "    data_dir,\n",
    "    validation_split=0.15,\n",
    "    subset='validation',\n",
    "    seed=123,\n",
    "    image_size=img_size,\n",
    "    batch_size=batch_size)\n"
   ]
  },
  {
   "cell_type": "code",
   "execution_count": 4,
   "id": "84d8103c",
   "metadata": {},
   "outputs": [
    {
     "name": "stdout",
     "output_type": "stream",
     "text": [
      "Class names: ['0', '1', '2', '3', '4', '5', '6', '7']\n",
      "Number of classes: 8\n"
     ]
    }
   ],
   "source": [
    "# inspect the class names and number of classes\n",
    "class_names = train_ds.class_names\n",
    "num_classes = len(class_names)\n",
    "print('Class names:', class_names)\n",
    "print('Number of classes:', num_classes)"
   ]
  },
  {
   "cell_type": "code",
   "execution_count": 5,
   "id": "64c036d1",
   "metadata": {},
   "outputs": [],
   "source": [
    "# convert images to grayscale\n",
    "def grayscale(image, label):\n",
    "    image = tf.image.rgb_to_grayscale(image)\n",
    "    return image, label\n",
    "\n",
    "train_ds = train_ds.map(grayscale)\n",
    "val_ds = val_ds.map(grayscale)\n",
    "\n",
    "# normalize pixel values to be between 0 and 1\n",
    "train_ds = train_ds.map(lambda x, y: (x / 255.0, y))\n",
    "val_ds = val_ds.map(lambda x, y: (x / 255.0, y))"
   ]
  },
  {
   "cell_type": "code",
   "execution_count": 6,
   "id": "56ff5c5d",
   "metadata": {},
   "outputs": [],
   "source": [
    "# create the neural network\n",
    "model = tf.keras.Sequential([\n",
    "    tf.keras.layers.Conv2D(32, 3, activation='relu', input_shape=(40, 40, 1)),\n",
    "    tf.keras.layers.MaxPooling2D(),\n",
    "    tf.keras.layers.Conv2D(64, 4, activation='relu'),\n",
    "    tf.keras.layers.MaxPooling2D(),\n",
    "    tf.keras.layers.Flatten(),\n",
    "    tf.keras.layers.Dense(128, activation='relu'),\n",
    "    tf.keras.layers.Dense(num_classes, activation='softmax')\n",
    "])\n",
    "\n",
    "# The neural network architecture consists of sequential layers, where the output of one layer is passed as input to the next layer.\n",
    "\n",
    "# The first layer is a convolutional layer with 16 filters of size 3x3, followed by a ReLU activation function. \n",
    "# The input shape of the layer is (40, 40, 1), which means that the layer expects input images of size 40x40 with one color channel (grayscale).\n",
    "\n",
    "# The second layer is a max pooling layer that reduces the spatial dimensions of the output from the previous layer by taking the maximum value in each 2x2 window.\n",
    "\n",
    "# The third layer is another convolutional layer with 32 filters of size 3x3, followed by a ReLU activation function.\n",
    "\n",
    "# The fourth layer is another max pooling layer.\n",
    "\n",
    "# The fifth layer is a flatten layer that flattens the output from the previous layer into a 1D vector.\n",
    "\n",
    "# The sixth layer is a dense layer with 64 units and a ReLU activation function.\n",
    "\n",
    "# The seventh and final layer is a dense layer with num_classes units and a softmax activation function, which produces the predicted class probabilities for the input image."
   ]
  },
  {
   "cell_type": "code",
   "execution_count": 7,
   "id": "71b27730",
   "metadata": {},
   "outputs": [
    {
     "name": "stdout",
     "output_type": "stream",
     "text": [
      "You must install pydot (`pip install pydot`) and install graphviz (see instructions at https://graphviz.gitlab.io/download/) for plot_model to work.\n"
     ]
    }
   ],
   "source": [
    "# For visualizing the model\n",
    "\n",
    "from keras.utils.vis_utils import plot_model\n",
    "plot_model(model, \n",
    "           to_file='model.png',\n",
    "           show_shapes=True,\n",
    "           show_dtype=False,\n",
    "           show_layer_names=True,\n",
    "           rankdir='TB',\n",
    "           expand_nested=False,\n",
    "           dpi=300,\n",
    "           layer_range=None,\n",
    "           show_layer_activations=True\n",
    "          )"
   ]
  },
  {
   "cell_type": "code",
   "execution_count": 8,
   "id": "458c1918",
   "metadata": {},
   "outputs": [],
   "source": [
    "# compile the model\n",
    "model.compile(optimizer='adam',\n",
    "              loss=tf.keras.losses.SparseCategoricalCrossentropy(from_logits=True),\n",
    "              metrics=['accuracy'])"
   ]
  },
  {
   "cell_type": "code",
   "execution_count": 9,
   "id": "88caabd1",
   "metadata": {},
   "outputs": [
    {
     "name": "stdout",
     "output_type": "stream",
     "text": [
      "Epoch 1/20\n"
     ]
    },
    {
     "name": "stderr",
     "output_type": "stream",
     "text": [
      "c:\\Users\\EMIL\\AppData\\Local\\Programs\\Python\\Python310\\lib\\site-packages\\keras\\backend.py:5612: UserWarning: \"`sparse_categorical_crossentropy` received `from_logits=True`, but the `output` argument was produced by a Softmax activation and thus does not represent logits. Was this intended?\n",
      "  output, from_logits = _get_logits(\n"
     ]
    },
    {
     "name": "stdout",
     "output_type": "stream",
     "text": [
      "482/482 [==============================] - 156s 313ms/step - loss: 1.0059 - accuracy: 0.6564 - val_loss: 0.3741 - val_accuracy: 0.8938\n",
      "Epoch 2/20\n",
      "482/482 [==============================] - 32s 66ms/step - loss: 0.2459 - accuracy: 0.9282 - val_loss: 0.2155 - val_accuracy: 0.9371\n",
      "Epoch 3/20\n",
      "482/482 [==============================] - 29s 60ms/step - loss: 0.1306 - accuracy: 0.9633 - val_loss: 0.1346 - val_accuracy: 0.9607\n",
      "Epoch 4/20\n",
      "482/482 [==============================] - 34s 71ms/step - loss: 0.0844 - accuracy: 0.9761 - val_loss: 0.0991 - val_accuracy: 0.9721\n",
      "Epoch 5/20\n",
      "482/482 [==============================] - 28s 58ms/step - loss: 0.0504 - accuracy: 0.9870 - val_loss: 0.0914 - val_accuracy: 0.9739\n",
      "Epoch 6/20\n",
      "482/482 [==============================] - 32s 67ms/step - loss: 0.0344 - accuracy: 0.9904 - val_loss: 0.0879 - val_accuracy: 0.9732\n",
      "Epoch 7/20\n",
      "482/482 [==============================] - 37s 76ms/step - loss: 0.0255 - accuracy: 0.9927 - val_loss: 0.1351 - val_accuracy: 0.9640\n",
      "Epoch 8/20\n",
      "482/482 [==============================] - 29s 60ms/step - loss: 0.0199 - accuracy: 0.9938 - val_loss: 0.1006 - val_accuracy: 0.9695\n",
      "Epoch 9/20\n",
      "482/482 [==============================] - 30s 62ms/step - loss: 0.0186 - accuracy: 0.9950 - val_loss: 0.0802 - val_accuracy: 0.9776\n",
      "Epoch 10/20\n",
      "482/482 [==============================] - 32s 65ms/step - loss: 0.0132 - accuracy: 0.9961 - val_loss: 0.0673 - val_accuracy: 0.9831\n",
      "Epoch 11/20\n",
      "482/482 [==============================] - 35s 71ms/step - loss: 0.0095 - accuracy: 0.9974 - val_loss: 0.0822 - val_accuracy: 0.9816\n",
      "Epoch 12/20\n",
      "482/482 [==============================] - 36s 74ms/step - loss: 0.0055 - accuracy: 0.9988 - val_loss: 0.0886 - val_accuracy: 0.9812\n",
      "Epoch 13/20\n",
      "482/482 [==============================] - 36s 74ms/step - loss: 0.0205 - accuracy: 0.9938 - val_loss: 0.0904 - val_accuracy: 0.9728\n",
      "Epoch 14/20\n",
      "482/482 [==============================] - 34s 70ms/step - loss: 0.0152 - accuracy: 0.9946 - val_loss: 0.1210 - val_accuracy: 0.9739\n",
      "Epoch 15/20\n",
      "482/482 [==============================] - 34s 69ms/step - loss: 0.0107 - accuracy: 0.9966 - val_loss: 0.0731 - val_accuracy: 0.9824\n",
      "Epoch 16/20\n",
      "482/482 [==============================] - 36s 75ms/step - loss: 0.0044 - accuracy: 0.9989 - val_loss: 0.0687 - val_accuracy: 0.9864\n",
      "Epoch 17/20\n",
      "482/482 [==============================] - 37s 77ms/step - loss: 6.3847e-04 - accuracy: 1.0000 - val_loss: 0.0688 - val_accuracy: 0.9875\n",
      "Epoch 18/20\n",
      "482/482 [==============================] - 36s 74ms/step - loss: 0.0042 - accuracy: 0.9987 - val_loss: 0.1247 - val_accuracy: 0.9728\n",
      "Epoch 19/20\n",
      "482/482 [==============================] - 37s 76ms/step - loss: 0.0210 - accuracy: 0.9931 - val_loss: 0.0946 - val_accuracy: 0.9790\n",
      "Epoch 20/20\n",
      "482/482 [==============================] - 39s 81ms/step - loss: 0.0066 - accuracy: 0.9976 - val_loss: 0.1024 - val_accuracy: 0.9783\n"
     ]
    }
   ],
   "source": [
    "# train the model\n",
    "history= model.fit(train_ds, validation_data=val_ds, epochs=20)"
   ]
  },
  {
   "cell_type": "code",
   "execution_count": 10,
   "id": "8174140e",
   "metadata": {},
   "outputs": [
    {
     "name": "stdout",
     "output_type": "stream",
     "text": [
      "Testing accuracy: 97.83%\n"
     ]
    }
   ],
   "source": [
    "loss, accuracy = model.evaluate(val_ds, verbose=0)\n",
    "\n",
    "print(f'Testing accuracy: {(accuracy*100):.2f}%')"
   ]
  },
  {
   "cell_type": "code",
   "execution_count": 11,
   "id": "b80ba357",
   "metadata": {},
   "outputs": [
    {
     "name": "stdout",
     "output_type": "stream",
     "text": [
      "Model: \"sequential\"\n",
      "_________________________________________________________________\n",
      " Layer (type)                Output Shape              Param #   \n",
      "=================================================================\n",
      " conv2d (Conv2D)             (None, 38, 38, 32)        320       \n",
      "                                                                 \n",
      " max_pooling2d (MaxPooling2D  (None, 19, 19, 32)       0         \n",
      " )                                                               \n",
      "                                                                 \n",
      " conv2d_1 (Conv2D)           (None, 16, 16, 64)        32832     \n",
      "                                                                 \n",
      " max_pooling2d_1 (MaxPooling  (None, 8, 8, 64)         0         \n",
      " 2D)                                                             \n",
      "                                                                 \n",
      " flatten (Flatten)           (None, 4096)              0         \n",
      "                                                                 \n",
      " dense (Dense)               (None, 128)               524416    \n",
      "                                                                 \n",
      " dense_1 (Dense)             (None, 8)                 1032      \n",
      "                                                                 \n",
      "=================================================================\n",
      "Total params: 558,600\n",
      "Trainable params: 558,600\n",
      "Non-trainable params: 0\n",
      "_________________________________________________________________\n"
     ]
    }
   ],
   "source": [
    "model.summary()"
   ]
  },
  {
   "cell_type": "code",
   "execution_count": 12,
   "id": "fbaec046",
   "metadata": {},
   "outputs": [],
   "source": [
    "model.save('MP.h5')"
   ]
  },
  {
   "cell_type": "code",
   "execution_count": 13,
   "id": "7e1e2baa",
   "metadata": {},
   "outputs": [
    {
     "data": {
      "text/plain": [
       "'     \\nimport tensorflow as tf\\nimport numpy as np\\nhistory = tf.keras.models.load_model(\"MP.h5\") # pre-trained model\\n'"
      ]
     },
     "execution_count": 13,
     "metadata": {},
     "output_type": "execute_result"
    }
   ],
   "source": [
    "# for loading the Model \n",
    "\"\"\"     \n",
    "import tensorflow as tf\n",
    "import numpy as np\n",
    "history = tf.keras.models.load_model(\"MP.h5\") # pre-trained model\n",
    "\"\"\""
   ]
  },
  {
   "cell_type": "code",
   "execution_count": 14,
   "id": "bb0a83e0",
   "metadata": {},
   "outputs": [
    {
     "data": {
      "image/png": "[encoded data removed]",
      "text/plain": [
       "<Figure size 640x480 with 1 Axes>"
      ]
     },
     "metadata": {},
     "output_type": "display_data"
    }
   ],
   "source": [
    "import matplotlib.pyplot as plt\n",
    "import numpy as np\n",
    "\n",
    "# Plot the accuracy over epochs\n",
    "plt.plot(history.history['accuracy'])\n",
    "plt.plot(history.history['val_accuracy'])\n",
    "plt.title('Model Accuracy')\n",
    "plt.ylabel('Accuracy')\n",
    "plt.xlabel('Epoch')\n",
    "plt.legend(['Train', 'Validation'], loc='lower left')\n",
    "\n",
    "# Add annotations to display y-axis values at the top of each point\n",
    "for i, acc in enumerate(history.history['accuracy']):\n",
    "    plt.annotate('{:.3f}'.format(acc), (i, acc), xytext=(0, 10), textcoords='offset points', ha='center', va='bottom', fontsize=5)\n",
    "for i, val_acc in enumerate(history.history['val_accuracy']):\n",
    "    plt.annotate('{:.3f}'.format(val_acc), (i, val_acc), xytext=(0, 10), textcoords='offset points', ha='center', va='bottom', fontsize=5)\n",
    "\n",
    "# Find epoch with highest validation accuracy\n",
    "best_epoch = np.argmax(history.history['val_accuracy'])\n",
    "\n",
    "# Highlight region around best epoch\n",
    "plt.axvspan(best_epoch - 1, best_epoch + 1, facecolor='gray', alpha=0.3)    \n",
    "\n",
    "plt.show()\n"
   ]
  }
 ],
 "metadata": {
  "kernelspec": {
   "display_name": "Python 3 (ipykernel)",
   "language": "python",
   "name": "python3"
  },
  "language_info": {
   "codemirror_mode": {
    "name": "ipython",
    "version": 3
   },
   "file_extension": ".py",
   "mimetype": "text/x-python",
   "name": "python",
   "nbconvert_exporter": "python",
   "pygments_lexer": "ipython3",
   "version": "3.10.6"
  }
 },
 "nbformat": 4,
 "nbformat_minor": 5
}
