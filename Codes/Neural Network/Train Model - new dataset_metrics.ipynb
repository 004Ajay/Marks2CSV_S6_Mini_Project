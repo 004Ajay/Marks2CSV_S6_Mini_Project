{
 "cells": [
  {
   "cell_type": "code",
   "execution_count": 3,
   "id": "4e44d236",
   "metadata": {},
   "outputs": [],
   "source": [
    "import tensorflow as tf # install tensorflow"
   ]
  },
  {
   "cell_type": "code",
   "execution_count": 6,
   "id": "d3ecbb43",
   "metadata": {},
   "outputs": [],
   "source": [
    "# define the image size and batch size\n",
    "img_size = (40, 40)\n",
    "batch_size = 32\n",
    "\n",
    "# Path to your dataset folder \n",
    "\n",
    "\n",
    "data_dir = \"C:/Users/EMIL/Desktop/Mixed_Marks_Dataset/Mixed_Marks_Dataset\""
   ]
  },
  {
   "cell_type": "code",
   "execution_count": 7,
   "id": "fe5d71a7",
   "metadata": {},
   "outputs": [
    {
     "name": "stdout",
     "output_type": "stream",
     "text": [
      "Found 18135 files belonging to 8 classes.\n",
      "Using 14508 files for training.\n",
      "Found 18135 files belonging to 8 classes.\n",
      "Using 3627 files for validation.\n"
     ]
    }
   ],
   "source": [
    "# use image_dataset_from_directory to load the data and split it into training and testing sets\n",
    "train_ds = tf.keras.preprocessing.image_dataset_from_directory(\n",
    "    data_dir,\n",
    "    validation_split=0.2,\n",
    "    subset='training',\n",
    "    seed=123,\n",
    "    image_size=img_size,\n",
    "    batch_size=batch_size)\n",
    "\n",
    "val_ds = tf.keras.preprocessing.image_dataset_from_directory(\n",
    "    data_dir,\n",
    "    validation_split=0.2,\n",
    "    subset='validation',\n",
    "    seed=123,\n",
    "    image_size=img_size,\n",
    "    batch_size=batch_size)"
   ]
  },
  {
   "cell_type": "code",
   "execution_count": 8,
   "id": "84d8103c",
   "metadata": {},
   "outputs": [
    {
     "name": "stdout",
     "output_type": "stream",
     "text": [
      "Class names: ['0', '1', '2', '3', '4', '5', '6', '7']\n",
      "Number of classes: 8\n"
     ]
    }
   ],
   "source": [
    "# inspect the class names and number of classes\n",
    "class_names = train_ds.class_names\n",
    "num_classes = len(class_names)\n",
    "print('Class names:', class_names)\n",
    "print('Number of classes:', num_classes)"
   ]
  },
  {
   "cell_type": "code",
   "execution_count": 9,
   "id": "64c036d1",
   "metadata": {},
   "outputs": [],
   "source": [
    "# convert images to grayscale\n",
    "def grayscale(image, label):\n",
    "    image = tf.image.rgb_to_grayscale(image)\n",
    "    return image, label\n",
    "\n",
    "train_ds = train_ds.map(grayscale)\n",
    "val_ds = val_ds.map(grayscale)\n",
    "\n",
    "# normalize pixel values to be between 0 and 1\n",
    "train_ds = train_ds.map(lambda x, y: (x / 255.0, y))\n",
    "val_ds = val_ds.map(lambda x, y: (x / 255.0, y))"
   ]
  },
  {
   "cell_type": "code",
   "execution_count": 10,
   "id": "56ff5c5d",
   "metadata": {},
   "outputs": [],
   "source": [
    "# create the neural network\n",
    "model = tf.keras.Sequential([\n",
    "    tf.keras.layers.Conv2D(32, 3, activation='relu', input_shape=(40, 40, 1)),\n",
    "    tf.keras.layers.MaxPooling2D(),\n",
    "    tf.keras.layers.Conv2D(64, 4, activation='relu'),\n",
    "    tf.keras.layers.MaxPooling2D(),\n",
    "    tf.keras.layers.Flatten(),\n",
    "    tf.keras.layers.Dense(128, activation='relu'),\n",
    "    tf.keras.layers.Dense(num_classes, activation='softmax')\n",
    "])\n",
    "\n",
    "# The neural network architecture consists of sequential layers, where the output of one layer is passed as input to the next layer.\n",
    "\n",
    "# The first layer is a convolutional layer with 16 filters of size 3x3, followed by a ReLU activation function. \n",
    "# The input shape of the layer is (40, 40, 1), which means that the layer expects input images of size 40x40 with one color channel (grayscale).\n",
    "\n",
    "# The second layer is a max pooling layer that reduces the spatial dimensions of the output from the previous layer by taking the maximum value in each 2x2 window.\n",
    "\n",
    "# The third layer is another convolutional layer with 32 filters of size 3x3, followed by a ReLU activation function.\n",
    "\n",
    "# The fourth layer is another max pooling layer.\n",
    "\n",
    "# The fifth layer is a flatten layer that flattens the output from the previous layer into a 1D vector.\n",
    "\n",
    "# The sixth layer is a dense layer with 64 units and a ReLU activation function.\n",
    "\n",
    "# The seventh and final layer is a dense layer with num_classes units and a softmax activation function, which produces the predicted class probabilities for the input image."
   ]
  },
  {
   "cell_type": "code",
   "execution_count": 12,
   "id": "71b27730",
   "metadata": {},
   "outputs": [
    {
     "name": "stdout",
     "output_type": "stream",
     "text": [
      "You must install pydot (`pip install pydot`) and install graphviz (see instructions at https://graphviz.gitlab.io/download/) for plot_model to work.\n"
     ]
    }
   ],
   "source": [
    "# For visualizing the model\n",
    "\n",
    "from keras.utils.vis_utils import plot_model\n",
    "plot_model(model, \n",
    "           to_file='model.png',\n",
    "           show_shapes=True,\n",
    "           show_dtype=False,\n",
    "           show_layer_names=True,\n",
    "           rankdir='TB',\n",
    "           expand_nested=False,\n",
    "           dpi=300,\n",
    "           layer_range=None,\n",
    "           show_layer_activations=True\n",
    "          )"
   ]
  },
  {
   "cell_type": "code",
   "execution_count": 12,
   "id": "458c1918",
   "metadata": {},
   "outputs": [],
   "source": [
    "# compile the model\n",
    "model.compile(optimizer='adam',\n",
    "              loss=tf.keras.losses.SparseCategoricalCrossentropy(from_logits=True),\n",
    "              metrics=['accuracy'])"
   ]
  },
  {
   "cell_type": "code",
   "execution_count": 16,
   "id": "88caabd1",
   "metadata": {},
   "outputs": [
    {
     "name": "stdout",
     "output_type": "stream",
     "text": [
      "Epoch 1/20\n",
      "454/454 [==============================] - 28s 61ms/step - loss: 0.0112 - accuracy: 0.9968 - val_loss: 0.1615 - val_accuracy: 0.9655\n",
      "Epoch 2/20\n",
      "454/454 [==============================] - 29s 63ms/step - loss: 0.0141 - accuracy: 0.9952 - val_loss: 0.1193 - val_accuracy: 0.9749\n",
      "Epoch 3/20\n",
      "454/454 [==============================] - 31s 68ms/step - loss: 0.0040 - accuracy: 0.9989 - val_loss: 0.1554 - val_accuracy: 0.9744\n",
      "Epoch 4/20\n",
      "454/454 [==============================] - 31s 68ms/step - loss: 0.0242 - accuracy: 0.9923 - val_loss: 0.1650 - val_accuracy: 0.9694\n",
      "Epoch 5/20\n",
      "454/454 [==============================] - 31s 68ms/step - loss: 0.0135 - accuracy: 0.9954 - val_loss: 0.1266 - val_accuracy: 0.9766\n",
      "Epoch 6/20\n",
      "454/454 [==============================] - 36s 78ms/step - loss: 0.0028 - accuracy: 0.9993 - val_loss: 0.1197 - val_accuracy: 0.9815\n",
      "Epoch 7/20\n",
      "454/454 [==============================] - 38s 83ms/step - loss: 5.2510e-04 - accuracy: 1.0000 - val_loss: 0.1161 - val_accuracy: 0.9815\n",
      "Epoch 8/20\n",
      "454/454 [==============================] - 45s 100ms/step - loss: 1.7311e-04 - accuracy: 1.0000 - val_loss: 0.1188 - val_accuracy: 0.9810\n",
      "Epoch 9/20\n",
      "454/454 [==============================] - 56s 123ms/step - loss: 1.1835e-04 - accuracy: 1.0000 - val_loss: 0.1199 - val_accuracy: 0.9813\n",
      "Epoch 10/20\n",
      "454/454 [==============================] - 51s 112ms/step - loss: 9.3825e-05 - accuracy: 1.0000 - val_loss: 0.1211 - val_accuracy: 0.9807\n",
      "Epoch 11/20\n",
      "454/454 [==============================] - 54s 119ms/step - loss: 7.5220e-05 - accuracy: 1.0000 - val_loss: 0.1227 - val_accuracy: 0.9807\n",
      "Epoch 12/20\n",
      "454/454 [==============================] - 52s 115ms/step - loss: 6.0791e-05 - accuracy: 1.0000 - val_loss: 0.1238 - val_accuracy: 0.9807\n",
      "Epoch 13/20\n",
      "454/454 [==============================] - 53s 116ms/step - loss: 4.9956e-05 - accuracy: 1.0000 - val_loss: 0.1251 - val_accuracy: 0.9810\n",
      "Epoch 14/20\n",
      "454/454 [==============================] - 54s 119ms/step - loss: 4.0547e-05 - accuracy: 1.0000 - val_loss: 0.1266 - val_accuracy: 0.9807\n",
      "Epoch 15/20\n",
      "454/454 [==============================] - 48s 105ms/step - loss: 3.3194e-05 - accuracy: 1.0000 - val_loss: 0.1280 - val_accuracy: 0.9801\n",
      "Epoch 16/20\n",
      "454/454 [==============================] - 34s 75ms/step - loss: 2.6991e-05 - accuracy: 1.0000 - val_loss: 0.1297 - val_accuracy: 0.9801\n",
      "Epoch 17/20\n",
      "454/454 [==============================] - 45s 99ms/step - loss: 2.2034e-05 - accuracy: 1.0000 - val_loss: 0.1313 - val_accuracy: 0.9801\n",
      "Epoch 18/20\n",
      "454/454 [==============================] - 50s 110ms/step - loss: 1.7730e-05 - accuracy: 1.0000 - val_loss: 0.1330 - val_accuracy: 0.9793\n",
      "Epoch 19/20\n",
      "454/454 [==============================] - 39s 86ms/step - loss: 1.4374e-05 - accuracy: 1.0000 - val_loss: 0.1349 - val_accuracy: 0.9796\n",
      "Epoch 20/20\n",
      "454/454 [==============================] - 31s 69ms/step - loss: 1.1622e-05 - accuracy: 1.0000 - val_loss: 0.1370 - val_accuracy: 0.9796\n"
     ]
    }
   ],
   "source": [
    "# train the model\n",
    "history= model.fit(train_ds, validation_data=val_ds, epochs=20)"
   ]
  },
  {
   "cell_type": "code",
   "execution_count": 17,
   "id": "8174140e",
   "metadata": {},
   "outputs": [
    {
     "name": "stdout",
     "output_type": "stream",
     "text": [
      "Testing accuracy: 97.96%\n"
     ]
    }
   ],
   "source": [
    "loss, accuracy = model.evaluate(val_ds, verbose=0)\n",
    "\n",
    "print(f'Testing accuracy: {(accuracy*100):.2f}%')"
   ]
  },
  {
   "cell_type": "code",
   "execution_count": null,
   "id": "b80ba357",
   "metadata": {},
   "outputs": [
    {
     "name": "stdout",
     "output_type": "stream",
     "text": [
      "Model: \"sequential_2\"\n",
      "_________________________________________________________________\n",
      " Layer (type)                Output Shape              Param #   \n",
      "=================================================================\n",
      " conv2d_4 (Conv2D)           (None, 38, 38, 32)        320       \n",
      "                                                                 \n",
      " max_pooling2d_4 (MaxPooling  (None, 19, 19, 32)       0         \n",
      " 2D)                                                             \n",
      "                                                                 \n",
      " conv2d_5 (Conv2D)           (None, 16, 16, 64)        32832     \n",
      "                                                                 \n",
      " max_pooling2d_5 (MaxPooling  (None, 8, 8, 64)         0         \n",
      " 2D)                                                             \n",
      "                                                                 \n",
      " flatten_2 (Flatten)         (None, 4096)              0         \n",
      "                                                                 \n",
      " dense_4 (Dense)             (None, 128)               524416    \n",
      "                                                                 \n",
      " dense_5 (Dense)             (None, 8)                 1032      \n",
      "                                                                 \n",
      "=================================================================\n",
      "Total params: 558,600\n",
      "Trainable params: 558,600\n",
      "Non-trainable params: 0\n",
      "_________________________________________________________________\n"
     ]
    }
   ],
   "source": [
    "model.summary()"
   ]
  },
  {
   "cell_type": "code",
   "execution_count": 18,
   "id": "fbaec046",
   "metadata": {},
   "outputs": [],
   "source": [
    "# model.save('MP.h5')"
   ]
  },
  {
   "cell_type": "code",
   "execution_count": 21,
   "id": "bb0a83e0",
   "metadata": {},
   "outputs": [
    {
     "data": {
      "image/png": "[encoded data removed]",
      "text/plain": [
       "<Figure size 640x480 with 1 Axes>"
      ]
     },
     "metadata": {},
     "output_type": "display_data"
    }
   ],
   "source": [
    "import matplotlib.pyplot as plt\n",
    "import numpy as np\n",
    "\n",
    "# Plot the accuracy over epochs\n",
    "plt.plot(history.history['accuracy'])\n",
    "plt.plot(history.history['val_accuracy'])\n",
    "plt.title('Model Accuracy')\n",
    "plt.ylabel('Accuracy')\n",
    "plt.xlabel('Epoch')\n",
    "plt.legend(['Train', 'Validation'], loc='lower left')\n",
    "\n",
    "# Add annotations to display y-axis values at the top of each point\n",
    "for i, acc in enumerate(history.history['accuracy']):\n",
    "    plt.annotate('{:.3f}'.format(acc), (i, acc), xytext=(0, 10), textcoords='offset points', ha='center', va='bottom', fontsize=5)\n",
    "for i, val_acc in enumerate(history.history['val_accuracy']):\n",
    "    plt.annotate('{:.3f}'.format(val_acc), (i, val_acc), xytext=(0, 10), textcoords='offset points', ha='center', va='bottom', fontsize=5)\n",
    "    \n",
    "# avg_acc = [(train_acc + val_acc) / 2 for train_acc, val_acc in zip(history.history['accuracy'], history.history['val_accuracy'])]  \n",
    "# plt.plot(avg_acc, label='Average accuracy')\n",
    "\n",
    "# Find epoch with minimum distance between train and validation accuracy\n",
    "diff = np.abs(np.array(history.history['accuracy']) - np.array(history.history['val_accuracy']))\n",
    "min_diff_epoch = np.argmin(diff)\n",
    "\n",
    "# Highlight region around minimum difference epoch\n",
    "plt.axvspan(min_diff_epoch - 2, min_diff_epoch + 2, facecolor='gray', alpha=0.5)    \n",
    "\n",
    "plt.show()"
   ]
  }
 ],
 "metadata": {
  "kernelspec": {
   "display_name": "Python 3 (ipykernel)",
   "language": "python",
   "name": "python3"
  },
  "language_info": {
   "codemirror_mode": {
    "name": "ipython",
    "version": 3
   },
   "file_extension": ".py",
   "mimetype": "text/x-python",
   "name": "python",
   "nbconvert_exporter": "python",
   "pygments_lexer": "ipython3",
   "version": "3.10.6"
  }
 },
 "nbformat": 4,
 "nbformat_minor": 5
}
