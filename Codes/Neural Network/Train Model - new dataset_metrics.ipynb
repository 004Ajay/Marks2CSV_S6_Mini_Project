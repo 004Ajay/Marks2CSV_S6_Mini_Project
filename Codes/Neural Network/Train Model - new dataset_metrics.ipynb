{
 "cells": [
  {
   "cell_type": "code",
   "execution_count": 12,
   "id": "4e44d236",
   "metadata": {},
   "outputs": [],
   "source": [
    "import tensorflow as tf # install tensorflow"
   ]
  },
  {
   "cell_type": "code",
   "execution_count": 13,
   "id": "f0060f84",
   "metadata": {},
   "outputs": [],
   "source": [
    "# define the image size and batch size\n",
    "img_size = (40, 40)\n",
    "batch_size = 32\n",
    "\n",
    "# Path to your dataset folder \n",
    "\n",
    "\n",
    "data_dir = \"C:/Users/EMIL/Desktop/Rezised 40X40 dataset\""
   ]
  },
  {
   "cell_type": "code",
   "execution_count": 14,
   "id": "fe5d71a7",
   "metadata": {},
   "outputs": [
    {
     "name": "stdout",
     "output_type": "stream",
     "text": [
      "Found 18135 files belonging to 8 classes.\n",
      "Using 14508 files for training.\n",
      "Found 18135 files belonging to 8 classes.\n",
      "Using 3627 files for validation.\n"
     ]
    }
   ],
   "source": [
    "# use image_dataset_from_directory to load the data and split it into training and testing sets\n",
    "train_ds = tf.keras.preprocessing.image_dataset_from_directory(\n",
    "    data_dir,\n",
    "    validation_split=0.2,\n",
    "    subset='training',\n",
    "    seed=123,\n",
    "    image_size=img_size,\n",
    "    batch_size=batch_size)\n",
    "\n",
    "val_ds = tf.keras.preprocessing.image_dataset_from_directory(\n",
    "    data_dir,\n",
    "    validation_split=0.2,\n",
    "    subset='validation',\n",
    "    seed=123,\n",
    "    image_size=img_size,\n",
    "    batch_size=batch_size)"
   ]
  },
  {
   "cell_type": "code",
   "execution_count": 15,
   "id": "84d8103c",
   "metadata": {},
   "outputs": [
    {
     "name": "stdout",
     "output_type": "stream",
     "text": [
      "Class names: ['0', '1', '2', '3', '4', '5', '6', '7']\n",
      "Number of classes: 8\n"
     ]
    }
   ],
   "source": [
    "# inspect the class names and number of classes\n",
    "class_names = train_ds.class_names\n",
    "num_classes = len(class_names)\n",
    "print('Class names:', class_names)\n",
    "print('Number of classes:', num_classes)"
   ]
  },
  {
   "cell_type": "code",
   "execution_count": 16,
   "id": "64c036d1",
   "metadata": {},
   "outputs": [],
   "source": [
    "# convert images to grayscale\n",
    "def grayscale(image, label):\n",
    "    image = tf.image.rgb_to_grayscale(image)\n",
    "    return image, label\n",
    "\n",
    "train_ds = train_ds.map(grayscale)\n",
    "val_ds = val_ds.map(grayscale)\n",
    "\n",
    "# normalize pixel values to be between 0 and 1\n",
    "train_ds = train_ds.map(lambda x, y: (x / 255.0, y))\n",
    "val_ds = val_ds.map(lambda x, y: (x / 255.0, y))"
   ]
  },
  {
   "cell_type": "code",
   "execution_count": 17,
   "id": "56ff5c5d",
   "metadata": {},
   "outputs": [],
   "source": [
    "# create the neural network\n",
    "model = tf.keras.Sequential([\n",
    "    tf.keras.layers.Conv2D(32, 3, activation='relu', input_shape=(40, 40, 1)),\n",
    "    tf.keras.layers.MaxPooling2D(),\n",
    "    tf.keras.layers.Conv2D(64, 4, activation='relu'),\n",
    "    tf.keras.layers.MaxPooling2D(),\n",
    "    tf.keras.layers.Flatten(),\n",
    "    tf.keras.layers.Dense(128, activation='relu'),\n",
    "    tf.keras.layers.Dense(num_classes, activation='softmax')\n",
    "])\n",
    "\n",
    "# The neural network architecture consists of sequential layers, where the output of one layer is passed as input to the next layer.\n",
    "\n",
    "# The first layer is a convolutional layer with 16 filters of size 3x3, followed by a ReLU activation function. \n",
    "# The input shape of the layer is (40, 40, 1), which means that the layer expects input images of size 40x40 with one color channel (grayscale).\n",
    "\n",
    "# The second layer is a max pooling layer that reduces the spatial dimensions of the output from the previous layer by taking the maximum value in each 2x2 window.\n",
    "\n",
    "# The third layer is another convolutional layer with 32 filters of size 3x3, followed by a ReLU activation function.\n",
    "\n",
    "# The fourth layer is another max pooling layer.\n",
    "\n",
    "# The fifth layer is a flatten layer that flattens the output from the previous layer into a 1D vector.\n",
    "\n",
    "# The sixth layer is a dense layer with 64 units and a ReLU activation function.\n",
    "\n",
    "# The seventh and final layer is a dense layer with num_classes units and a softmax activation function, which produces the predicted class probabilities for the input image."
   ]
  },
  {
   "cell_type": "code",
   "execution_count": 18,
   "id": "71b27730",
   "metadata": {},
   "outputs": [
    {
     "name": "stdout",
     "output_type": "stream",
     "text": [
      "You must install pydot (`pip install pydot`) and install graphviz (see instructions at https://graphviz.gitlab.io/download/) for plot_model to work.\n"
     ]
    }
   ],
   "source": [
    "# For visualizing the model\n",
    "\n",
    "from keras.utils.vis_utils import plot_model\n",
    "plot_model(model, \n",
    "           to_file='model.png',\n",
    "           show_shapes=True,\n",
    "           show_dtype=False,\n",
    "           show_layer_names=True,\n",
    "           rankdir='TB',\n",
    "           expand_nested=False,\n",
    "           dpi=300,\n",
    "           layer_range=None,\n",
    "           show_layer_activations=True\n",
    "          )"
   ]
  },
  {
   "cell_type": "code",
   "execution_count": 19,
   "id": "458c1918",
   "metadata": {},
   "outputs": [],
   "source": [
    "# compile the model\n",
    "model.compile(optimizer='adam',\n",
    "              loss=tf.keras.losses.SparseCategoricalCrossentropy(from_logits=True),\n",
    "              metrics=['accuracy'])"
   ]
  },
  {
   "cell_type": "code",
   "execution_count": 20,
   "id": "88caabd1",
   "metadata": {},
   "outputs": [
    {
     "name": "stdout",
     "output_type": "stream",
     "text": [
      "Epoch 1/20\n"
     ]
    },
    {
     "name": "stderr",
     "output_type": "stream",
     "text": [
      "c:\\Users\\EMIL\\AppData\\Local\\Programs\\Python\\Python310\\lib\\site-packages\\keras\\backend.py:5612: UserWarning: \"`sparse_categorical_crossentropy` received `from_logits=True`, but the `output` argument was produced by a Softmax activation and thus does not represent logits. Was this intended?\n",
      "  output, from_logits = _get_logits(\n"
     ]
    },
    {
     "name": "stdout",
     "output_type": "stream",
     "text": [
      "454/454 [==============================] - 149s 313ms/step - loss: 0.9073 - accuracy: 0.6967 - val_loss: 0.2827 - val_accuracy: 0.9250\n",
      "Epoch 2/20\n",
      "454/454 [==============================] - 25s 55ms/step - loss: 0.1948 - accuracy: 0.9462 - val_loss: 0.1610 - val_accuracy: 0.9534\n",
      "Epoch 3/20\n",
      "454/454 [==============================] - 27s 59ms/step - loss: 0.1100 - accuracy: 0.9692 - val_loss: 0.1084 - val_accuracy: 0.9688\n",
      "Epoch 4/20\n",
      "454/454 [==============================] - 28s 62ms/step - loss: 0.0644 - accuracy: 0.9831 - val_loss: 0.0969 - val_accuracy: 0.9705\n",
      "Epoch 5/20\n",
      "454/454 [==============================] - 130s 286ms/step - loss: 0.0388 - accuracy: 0.9899 - val_loss: 0.0882 - val_accuracy: 0.9746\n",
      "Epoch 6/20\n",
      "454/454 [==============================] - 167s 361ms/step - loss: 0.0333 - accuracy: 0.9902 - val_loss: 0.0900 - val_accuracy: 0.9755\n",
      "Epoch 7/20\n",
      "454/454 [==============================] - 108s 232ms/step - loss: 0.0184 - accuracy: 0.9953 - val_loss: 0.0902 - val_accuracy: 0.9755\n",
      "Epoch 8/20\n",
      "454/454 [==============================] - 33s 71ms/step - loss: 0.0128 - accuracy: 0.9968 - val_loss: 0.0960 - val_accuracy: 0.9738\n",
      "Epoch 9/20\n",
      "454/454 [==============================] - 39s 86ms/step - loss: 0.0081 - accuracy: 0.9977 - val_loss: 0.1194 - val_accuracy: 0.9727\n",
      "Epoch 10/20\n",
      "454/454 [==============================] - 42s 91ms/step - loss: 0.0164 - accuracy: 0.9955 - val_loss: 0.1136 - val_accuracy: 0.9738\n",
      "Epoch 11/20\n",
      "454/454 [==============================] - 42s 91ms/step - loss: 0.0088 - accuracy: 0.9977 - val_loss: 0.1096 - val_accuracy: 0.9766\n",
      "Epoch 12/20\n",
      "454/454 [==============================] - 45s 98ms/step - loss: 0.0177 - accuracy: 0.9948 - val_loss: 0.1078 - val_accuracy: 0.9752\n",
      "Epoch 13/20\n",
      "454/454 [==============================] - 31s 69ms/step - loss: 0.0198 - accuracy: 0.9934 - val_loss: 0.1397 - val_accuracy: 0.9672\n",
      "Epoch 14/20\n",
      "454/454 [==============================] - 28s 62ms/step - loss: 0.0127 - accuracy: 0.9960 - val_loss: 0.1092 - val_accuracy: 0.9760\n",
      "Epoch 15/20\n",
      "454/454 [==============================] - 33s 72ms/step - loss: 0.0073 - accuracy: 0.9983 - val_loss: 0.1001 - val_accuracy: 0.9807\n",
      "Epoch 16/20\n",
      "454/454 [==============================] - 34s 73ms/step - loss: 0.0067 - accuracy: 0.9978 - val_loss: 0.1150 - val_accuracy: 0.9760\n",
      "Epoch 17/20\n",
      "454/454 [==============================] - 28s 61ms/step - loss: 0.0106 - accuracy: 0.9970 - val_loss: 0.1258 - val_accuracy: 0.9722\n",
      "Epoch 18/20\n",
      "454/454 [==============================] - 34s 75ms/step - loss: 0.0052 - accuracy: 0.9981 - val_loss: 0.1091 - val_accuracy: 0.9777\n",
      "Epoch 19/20\n",
      "454/454 [==============================] - 39s 86ms/step - loss: 4.7330e-04 - accuracy: 1.0000 - val_loss: 0.1196 - val_accuracy: 0.9788\n",
      "Epoch 20/20\n",
      "454/454 [==============================] - 30s 67ms/step - loss: 3.0444e-04 - accuracy: 1.0000 - val_loss: 0.1008 - val_accuracy: 0.9832\n"
     ]
    }
   ],
   "source": [
    "# train the model\n",
    "history= model.fit(train_ds, validation_data=val_ds, epochs=20)"
   ]
  },
  {
   "cell_type": "code",
   "execution_count": 21,
   "id": "8174140e",
   "metadata": {},
   "outputs": [
    {
     "name": "stdout",
     "output_type": "stream",
     "text": [
      "Testing accuracy: 98.32%\n"
     ]
    }
   ],
   "source": [
    "loss, accuracy = model.evaluate(val_ds, verbose=0)\n",
    "\n",
    "print(f'Testing accuracy: {(accuracy*100):.2f}%')"
   ]
  },
  {
   "cell_type": "code",
   "execution_count": 22,
   "id": "b80ba357",
   "metadata": {},
   "outputs": [
    {
     "name": "stdout",
     "output_type": "stream",
     "text": [
      "Model: \"sequential\"\n",
      "_________________________________________________________________\n",
      " Layer (type)                Output Shape              Param #   \n",
      "=================================================================\n",
      " conv2d (Conv2D)             (None, 38, 38, 32)        320       \n",
      "                                                                 \n",
      " max_pooling2d (MaxPooling2D  (None, 19, 19, 32)       0         \n",
      " )                                                               \n",
      "                                                                 \n",
      " conv2d_1 (Conv2D)           (None, 16, 16, 64)        32832     \n",
      "                                                                 \n",
      " max_pooling2d_1 (MaxPooling  (None, 8, 8, 64)         0         \n",
      " 2D)                                                             \n",
      "                                                                 \n",
      " flatten (Flatten)           (None, 4096)              0         \n",
      "                                                                 \n",
      " dense (Dense)               (None, 128)               524416    \n",
      "                                                                 \n",
      " dense_1 (Dense)             (None, 8)                 1032      \n",
      "                                                                 \n",
      "=================================================================\n",
      "Total params: 558,600\n",
      "Trainable params: 558,600\n",
      "Non-trainable params: 0\n",
      "_________________________________________________________________\n"
     ]
    }
   ],
   "source": [
    "model.summary()"
   ]
  },
  {
   "cell_type": "code",
   "execution_count": 23,
   "id": "fbaec046",
   "metadata": {},
   "outputs": [],
   "source": [
    "# model.save('MP.h5')"
   ]
  },
  {
   "cell_type": "code",
   "execution_count": 24,
   "id": "bb0a83e0",
   "metadata": {},
   "outputs": [
    {
     "data": {
      "image/png": "[encoded data removed]",
      "text/plain": [
       "<Figure size 640x480 with 1 Axes>"
      ]
     },
     "metadata": {},
     "output_type": "display_data"
    }
   ],
   "source": [
    "import matplotlib.pyplot as plt\n",
    "import numpy as np\n",
    "\n",
    "# Plot the accuracy over epochs\n",
    "plt.plot(history.history['accuracy'])\n",
    "plt.plot(history.history['val_accuracy'])\n",
    "plt.title('Model Accuracy')\n",
    "plt.ylabel('Accuracy')\n",
    "plt.xlabel('Epoch')\n",
    "plt.legend(['Train', 'Validation'], loc='lower left')\n",
    "\n",
    "# Add annotations to display y-axis values at the top of each point\n",
    "for i, acc in enumerate(history.history['accuracy']):\n",
    "    plt.annotate('{:.3f}'.format(acc), (i, acc), xytext=(0, 10), textcoords='offset points', ha='center', va='bottom', fontsize=5)\n",
    "for i, val_acc in enumerate(history.history['val_accuracy']):\n",
    "    plt.annotate('{:.3f}'.format(val_acc), (i, val_acc), xytext=(0, 10), textcoords='offset points', ha='center', va='bottom', fontsize=5)\n",
    "\n",
    "# Find epoch with highest validation accuracy\n",
    "best_epoch = np.argmax(history.history['val_accuracy'])\n",
    "\n",
    "# Highlight region around best epoch\n",
    "plt.axvspan(best_epoch - 2, best_epoch + 2, facecolor='gray', alpha=0.3)    \n",
    "\n",
    "plt.show()\n"
   ]
  },
  {
   "cell_type": "code",
   "execution_count": 27,
   "id": "af72abda",
   "metadata": {},
   "outputs": [
    {
     "name": "stdout",
     "output_type": "stream",
     "text": [
      "1/1 [==============================] - 0s 31ms/step\n",
      "1/1 [==============================] - 0s 35ms/step\n",
      "1/1 [==============================] - 0s 40ms/step\n",
      "1/1 [==============================] - 0s 40ms/step\n",
      "1/1 [==============================] - 0s 32ms/step\n",
      "1/1 [==============================] - 0s 30ms/step\n",
      "1/1 [==============================] - 0s 39ms/step\n",
      "1/1 [==============================] - 0s 34ms/step\n",
      "1/1 [==============================] - 0s 30ms/step\n",
      "1/1 [==============================] - 0s 33ms/step\n",
      "1/1 [==============================] - 0s 38ms/step\n",
      "1/1 [==============================] - 0s 33ms/step\n",
      "1/1 [==============================] - 0s 36ms/step\n",
      "1/1 [==============================] - 0s 33ms/step\n",
      "1/1 [==============================] - 0s 44ms/step\n",
      "1/1 [==============================] - 0s 30ms/step\n",
      "1/1 [==============================] - 0s 36ms/step\n",
      "1/1 [==============================] - 0s 29ms/step\n",
      "1/1 [==============================] - 0s 35ms/step\n",
      "1/1 [==============================] - 0s 37ms/step\n",
      "1/1 [==============================] - 0s 29ms/step\n",
      "1/1 [==============================] - 0s 36ms/step\n",
      "1/1 [==============================] - 0s 33ms/step\n",
      "1/1 [==============================] - 0s 44ms/step\n",
      "1/1 [==============================] - 0s 33ms/step\n",
      "1/1 [==============================] - 0s 35ms/step\n",
      "1/1 [==============================] - 0s 32ms/step\n",
      "1/1 [==============================] - 0s 36ms/step\n",
      "1/1 [==============================] - 0s 33ms/step\n",
      "1/1 [==============================] - 0s 34ms/step\n",
      "1/1 [==============================] - 0s 30ms/step\n",
      "1/1 [==============================] - 0s 30ms/step\n",
      "1/1 [==============================] - 0s 38ms/step\n",
      "1/1 [==============================] - 0s 35ms/step\n",
      "1/1 [==============================] - 0s 34ms/step\n",
      "1/1 [==============================] - 0s 31ms/step\n",
      "1/1 [==============================] - 0s 69ms/step\n",
      "1/1 [==============================] - 0s 29ms/step\n",
      "1/1 [==============================] - 0s 31ms/step\n",
      "1/1 [==============================] - 0s 30ms/step\n",
      "1/1 [==============================] - 0s 36ms/step\n",
      "1/1 [==============================] - 0s 31ms/step\n",
      "1/1 [==============================] - 0s 34ms/step\n",
      "1/1 [==============================] - 0s 34ms/step\n",
      "1/1 [==============================] - 0s 32ms/step\n",
      "1/1 [==============================] - 0s 35ms/step\n",
      "1/1 [==============================] - 0s 29ms/step\n",
      "1/1 [==============================] - 0s 34ms/step\n",
      "1/1 [==============================] - 0s 42ms/step\n",
      "1/1 [==============================] - 0s 35ms/step\n",
      "1/1 [==============================] - 0s 44ms/step\n",
      "1/1 [==============================] - 0s 32ms/step\n",
      "1/1 [==============================] - 0s 30ms/step\n",
      "1/1 [==============================] - 0s 33ms/step\n",
      "1/1 [==============================] - 0s 36ms/step\n",
      "1/1 [==============================] - 0s 32ms/step\n",
      "1/1 [==============================] - 0s 32ms/step\n",
      "1/1 [==============================] - 0s 31ms/step\n",
      "1/1 [==============================] - 0s 31ms/step\n",
      "1/1 [==============================] - 0s 33ms/step\n",
      "1/1 [==============================] - 0s 43ms/step\n",
      "1/1 [==============================] - 0s 35ms/step\n",
      "1/1 [==============================] - 0s 35ms/step\n",
      "1/1 [==============================] - 0s 28ms/step\n",
      "1/1 [==============================] - 0s 31ms/step\n",
      "1/1 [==============================] - 0s 48ms/step\n",
      "1/1 [==============================] - 0s 34ms/step\n",
      "1/1 [==============================] - 0s 30ms/step\n",
      "1/1 [==============================] - 0s 39ms/step\n",
      "1/1 [==============================] - 0s 30ms/step\n",
      "1/1 [==============================] - 0s 32ms/step\n",
      "1/1 [==============================] - 0s 32ms/step\n",
      "1/1 [==============================] - 0s 29ms/step\n",
      "1/1 [==============================] - 0s 33ms/step\n",
      "1/1 [==============================] - 0s 36ms/step\n",
      "1/1 [==============================] - 0s 32ms/step\n",
      "1/1 [==============================] - 0s 33ms/step\n",
      "1/1 [==============================] - 0s 33ms/step\n",
      "1/1 [==============================] - 0s 32ms/step\n",
      "1/1 [==============================] - 0s 32ms/step\n",
      "1/1 [==============================] - 0s 35ms/step\n",
      "1/1 [==============================] - 0s 32ms/step\n",
      "1/1 [==============================] - 0s 31ms/step\n",
      "1/1 [==============================] - 0s 36ms/step\n",
      "1/1 [==============================] - 0s 30ms/step\n",
      "1/1 [==============================] - 0s 30ms/step\n",
      "1/1 [==============================] - 0s 32ms/step\n",
      "1/1 [==============================] - 0s 30ms/step\n",
      "1/1 [==============================] - 0s 33ms/step\n",
      "1/1 [==============================] - 0s 28ms/step\n",
      "1/1 [==============================] - 0s 30ms/step\n",
      "1/1 [==============================] - 0s 28ms/step\n",
      "1/1 [==============================] - 0s 33ms/step\n",
      "1/1 [==============================] - 0s 33ms/step\n",
      "1/1 [==============================] - 0s 32ms/step\n",
      "1/1 [==============================] - 0s 30ms/step\n",
      "1/1 [==============================] - 0s 29ms/step\n",
      "1/1 [==============================] - 0s 35ms/step\n",
      "1/1 [==============================] - 0s 32ms/step\n",
      "1/1 [==============================] - 0s 38ms/step\n",
      "1/1 [==============================] - 0s 30ms/step\n",
      "1/1 [==============================] - 0s 32ms/step\n",
      "1/1 [==============================] - 0s 30ms/step\n",
      "1/1 [==============================] - 0s 28ms/step\n",
      "1/1 [==============================] - 0s 40ms/step\n",
      "1/1 [==============================] - 0s 32ms/step\n",
      "1/1 [==============================] - 0s 35ms/step\n",
      "1/1 [==============================] - 0s 36ms/step\n",
      "1/1 [==============================] - 0s 38ms/step\n",
      "1/1 [==============================] - 0s 35ms/step\n",
      "1/1 [==============================] - 0s 34ms/step\n",
      "1/1 [==============================] - 0s 30ms/step\n",
      "1/1 [==============================] - 0s 33ms/step\n",
      "1/1 [==============================] - 0s 29ms/step\n"
     ]
    },
    {
     "data": {
      "image/png": "[encoded data removed]",
      "text/plain": [
       "<Figure size 640x480 with 2 Axes>"
      ]
     },
     "metadata": {},
     "output_type": "display_data"
    }
   ],
   "source": [
    "import matplotlib.pyplot as plt\n",
    "from sklearn.metrics import ConfusionMatrixDisplay,confusion_matrix\n",
    "\n",
    "# Convert one-hot encoded labels to class indices\n",
    "val_labels = np.concatenate([y.numpy() for _, y in val_ds])\n",
    "y_pred = []\n",
    "for x, _ in val_ds:\n",
    "    y_pred.append(model.predict(x))\n",
    "y_pred = np.concatenate(y_pred)\n",
    "y_pred = np.argmax(y_pred, axis=1)\n",
    "\n",
    "# Calculate confusion matrix\n",
    "cm = confusion_matrix(val_labels, y_pred)\n",
    "\n",
    "# Plot confusion matrix\n",
    "disp = ConfusionMatrixDisplay(confusion_matrix=cm)\n",
    "disp.plot(cmap=plt.cm.Blues)\n",
    "plt.show()\n"
   ]
  },
  {
   "cell_type": "code",
   "execution_count": 32,
   "id": "2142cab9",
   "metadata": {},
   "outputs": [
    {
     "name": "stdout",
     "output_type": "stream",
     "text": [
      "0:\t precision = 0.1638,\t recall = 0.1656\n",
      "1:\t precision = 0.1385,\t recall = 0.1374\n",
      "2:\t precision = 0.1349,\t recall = 0.1349\n",
      "3:\t precision = 0.1183,\t recall = 0.1175\n",
      "4:\t precision = 0.1296,\t recall = 0.1279\n",
      "5:\t precision = 0.1369,\t recall = 0.1369\n",
      "6:\t precision = 0.1187,\t recall = 0.1190\n",
      "7:\t precision = 0.1172,\t recall = 0.1192\n"
     ]
    }
   ],
   "source": [
    "from sklearn.metrics import precision_score, recall_score\n",
    "import numpy as np\n",
    "\n",
    "precision = np.diag(cm) / np.sum(cm, axis=0)\n",
    "recall = np.diag(cm) / np.sum(cm, axis=1)\n",
    "\n",
    "# Print precision and recall for each class\n",
    "for i, class_name in enumerate(class_names):\n",
    "    print(f\"{class_name}:\\t precision = {precision[i]:.4f},\\t recall = {recall[i]:.4f}\")"
   ]
  }
 ],
 "metadata": {
  "kernelspec": {
   "display_name": "Python 3 (ipykernel)",
   "language": "python",
   "name": "python3"
  },
  "language_info": {
   "codemirror_mode": {
    "name": "ipython",
    "version": 3
   },
   "file_extension": ".py",
   "mimetype": "text/x-python",
   "name": "python",
   "nbconvert_exporter": "python",
   "pygments_lexer": "ipython3",
   "version": "3.10.6"
  }
 },
 "nbformat": 4,
 "nbformat_minor": 5
}
