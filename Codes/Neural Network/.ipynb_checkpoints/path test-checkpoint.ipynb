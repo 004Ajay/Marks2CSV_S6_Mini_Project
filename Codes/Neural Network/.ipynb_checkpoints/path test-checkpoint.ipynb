{
 "cells": [
  {
   "cell_type": "code",
   "execution_count": null,
   "id": "645c2e3a",
   "metadata": {},
   "outputs": [],
   "source": [
    "img_dir_0 = \"D:/AJAYMON/AJAY/Programming/S6_Mini_Project/Dataset/Mixed_Marks_Dataset/0\"\n",
    "img_dir_1 = \"D:/AJAYMON/AJAY/Programming/S6_Mini_Project/Dataset/Mixed_Marks_Dataset/1\"\n",
    "img_dir_2 = \"D:/AJAYMON/AJAY/Programming/S6_Mini_Project/Dataset/Mixed_Marks_Dataset/2\"\n",
    "img_dir_3 = \"D:/AJAYMON/AJAY/Programming/S6_Mini_Project/Dataset/Mixed_Marks_Dataset/3\"\n",
    "img_dir_4 = \"D:/AJAYMON/AJAY/Programming/S6_Mini_Project/Dataset/Mixed_Marks_Dataset/4\"\n",
    "img_dir_5 = \"D:/AJAYMON/AJAY/Programming/S6_Mini_Project/Dataset/Mixed_Marks_Dataset/5\"\n",
    "img_dir_6 = \"D:/AJAYMON/AJAY/Programming/S6_Mini_Project/Dataset/Mixed_Marks_Dataset/6\"\n",
    "img_dir_7 = \"D:/AJAYMON/AJAY/Programming/S6_Mini_Project/Dataset/Mixed_Marks_Dataset/7\""
   ]
  },
  {
   "cell_type": "code",
   "execution_count": null,
   "id": "fe74ab6d",
   "metadata": {},
   "outputs": [],
   "source": []
  },
  {
   "cell_type": "code",
   "execution_count": 1,
   "id": "2a8f649e",
   "metadata": {},
   "outputs": [
    {
     "ename": "SyntaxError",
     "evalue": "invalid syntax (499331566.py, line 2)",
     "output_type": "error",
     "traceback": [
      "\u001b[1;36m  Cell \u001b[1;32mIn [1], line 2\u001b[1;36m\u001b[0m\n\u001b[1;33m    img_dir_{i} = f\"D:/AJAYMON/AJAY/Programming/S6_Mini_Project/Dataset/Mixed_Marks_Dataset/{i}\"\u001b[0m\n\u001b[1;37m            ^\u001b[0m\n\u001b[1;31mSyntaxError\u001b[0m\u001b[1;31m:\u001b[0m invalid syntax\n"
     ]
    }
   ],
   "source": [
    "for i in range(8):\n",
    "    img_dir_{i} = f\"D:/AJAYMON/AJAY/Programming/S6_Mini_Project/Dataset/Mixed_Marks_Dataset/{i}\""
   ]
  },
  {
   "cell_type": "code",
   "execution_count": 6,
   "id": "488e949c",
   "metadata": {},
   "outputs": [],
   "source": [
    "img_dirs = [f\"D:/AJAYMON/AJAY/Programming/S6_Mini_Project/Dataset/Mixed_Marks_Dataset/{i}\" for i in range(8)]\n",
    "img_dir_0, img_dir_1, img_dir_2, img_dir_3, img_dir_4, img_dir_5, img_dir_6, img_dir_7 = img_dirs\n"
   ]
  },
  {
   "cell_type": "code",
   "execution_count": 7,
   "id": "732f4e4c",
   "metadata": {},
   "outputs": [
    {
     "data": {
      "text/plain": [
       "['D:/AJAYMON/AJAY/Programming/S6_Mini_Project/Dataset/Mixed_Marks_Dataset/0',\n",
       " 'D:/AJAYMON/AJAY/Programming/S6_Mini_Project/Dataset/Mixed_Marks_Dataset/1',\n",
       " 'D:/AJAYMON/AJAY/Programming/S6_Mini_Project/Dataset/Mixed_Marks_Dataset/2',\n",
       " 'D:/AJAYMON/AJAY/Programming/S6_Mini_Project/Dataset/Mixed_Marks_Dataset/3',\n",
       " 'D:/AJAYMON/AJAY/Programming/S6_Mini_Project/Dataset/Mixed_Marks_Dataset/4',\n",
       " 'D:/AJAYMON/AJAY/Programming/S6_Mini_Project/Dataset/Mixed_Marks_Dataset/5',\n",
       " 'D:/AJAYMON/AJAY/Programming/S6_Mini_Project/Dataset/Mixed_Marks_Dataset/6',\n",
       " 'D:/AJAYMON/AJAY/Programming/S6_Mini_Project/Dataset/Mixed_Marks_Dataset/7']"
      ]
     },
     "execution_count": 7,
     "metadata": {},
     "output_type": "execute_result"
    }
   ],
   "source": [
    "img_dirs"
   ]
  },
  {
   "cell_type": "code",
   "execution_count": null,
   "id": "74d0495d",
   "metadata": {},
   "outputs": [],
   "source": []
  },
  {
   "cell_type": "code",
   "execution_count": 8,
   "id": "0d201af6",
   "metadata": {},
   "outputs": [],
   "source": [
    "gnd_truth_0, gnd_truth_1, gnd_truth_2, gnd_truth_3, gnd_truth_4, gnd_truth_5, gnd_truth_6, gnd_truth_7 = [i for i in range(8)]"
   ]
  },
  {
   "cell_type": "code",
   "execution_count": 10,
   "id": "4a0c5185",
   "metadata": {},
   "outputs": [
    {
     "data": {
      "text/plain": [
       "6"
      ]
     },
     "execution_count": 10,
     "metadata": {},
     "output_type": "execute_result"
    }
   ],
   "source": [
    "gnd_truth_6"
   ]
  },
  {
   "cell_type": "code",
   "execution_count": null,
   "id": "4e60b806",
   "metadata": {},
   "outputs": [],
   "source": []
  }
 ],
 "metadata": {
  "kernelspec": {
   "display_name": "Python 3 (ipykernel)",
   "language": "python",
   "name": "python3"
  },
  "language_info": {
   "codemirror_mode": {
    "name": "ipython",
    "version": 3
   },
   "file_extension": ".py",
   "mimetype": "text/x-python",
   "name": "python",
   "nbconvert_exporter": "python",
   "pygments_lexer": "ipython3",
   "version": "3.10.8"
  }
 },
 "nbformat": 4,
 "nbformat_minor": 5
}
