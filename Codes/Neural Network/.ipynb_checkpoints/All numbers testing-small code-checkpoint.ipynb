{
 "cells": [
  {
   "cell_type": "markdown",
   "id": "0fb00c77",
   "metadata": {},
   "source": [
    "# Click to go to respective testing heading\n",
    "\n",
    "<a href = \"#Testing-with-0's\" > 0</a>\n",
    "<a href = \"#Testing-with-1's\" > 1</a>\n",
    "<a href = \"#Testing-with-2's\" > 2</a>\n",
    "<a href = \"#Testing-with-3's\" > 3</a>\n",
    "<a href = \"#Testing-with-4's\" > 4</a>\n",
    "<a href = \"#Testing-with-5's\" > 5</a>\n",
    "<a href = \"#Testing-with-6's\" > 6</a>\n",
    "<a href = \"#Testing-with-7's\" > 7</a>"
   ]
  },
  {
   "cell_type": "code",
   "execution_count": null,
   "id": "64d2ff1e",
   "metadata": {},
   "outputs": [],
   "source": [
    "import tensorflow as tf\n",
    "import numpy as np\n",
    "import os"
   ]
  },
  {
   "cell_type": "code",
   "execution_count": null,
   "id": "17e528ad",
   "metadata": {},
   "outputs": [],
   "source": [
    "model = tf.keras.models.load_model(\"MP_new.h5\") # pre-trained model\n",
    "\n",
    "# Path to image folders\n",
    "img_dir_0 = \"D:/AJAYMON/AJAY/Programming/S6_Mini_Project/Dataset/Mixed_Marks_Dataset/0\"\n",
    "img_dir_1 = \"D:/AJAYMON/AJAY/Programming/S6_Mini_Project/Dataset/Mixed_Marks_Dataset/1\"\n",
    "img_dir_2 = \"D:/AJAYMON/AJAY/Programming/S6_Mini_Project/Dataset/Mixed_Marks_Dataset/2\"\n",
    "img_dir_3 = \"D:/AJAYMON/AJAY/Programming/S6_Mini_Project/Dataset/Mixed_Marks_Dataset/3\"\n",
    "img_dir_4 = \"D:/AJAYMON/AJAY/Programming/S6_Mini_Project/Dataset/Mixed_Marks_Dataset/4\"\n",
    "img_dir_5 = \"D:/AJAYMON/AJAY/Programming/S6_Mini_Project/Dataset/Mixed_Marks_Dataset/5\"\n",
    "img_dir_6 = \"D:/AJAYMON/AJAY/Programming/S6_Mini_Project/Dataset/Mixed_Marks_Dataset/6\"\n",
    "img_dir_7 = \"D:/AJAYMON/AJAY/Programming/S6_Mini_Project/Dataset/Mixed_Marks_Dataset/7\""
   ]
  },
  {
   "cell_type": "code",
   "execution_count": null,
   "id": "641879fc",
   "metadata": {},
   "outputs": [],
   "source": [
    "def prediction(image_folder, image_list):\n",
    "    pred = []\n",
    "\n",
    "    # Loop through all the images in the folder and classify them\n",
    "    for image_name in image_list:\n",
    "    \n",
    "        test_image = tf.keras.preprocessing.image.load_img(os.path.join(image_folder, image_name), target_size=(40, 40), color_mode='grayscale')\n",
    "        test_image = np.expand_dims(test_image, axis=0) # Expand the dimensions of the image to match the input shape of the model\n",
    "    \n",
    "        result = model.predict(test_image)\n",
    "    \n",
    "        predicted_value = np.argmax(result[0])\n",
    "    \n",
    "        pred.append(predicted_value)\n",
    "        \n",
    "    return pred"
   ]
  },
  {
   "cell_type": "markdown",
   "id": "63e1cabd",
   "metadata": {},
   "source": [
    "# Testing with 0's"
   ]
  },
  {
   "cell_type": "code",
   "execution_count": null,
   "id": "e5192704",
   "metadata": {},
   "outputs": [],
   "source": [
    "# Get a list of all the images in the folder\n",
    "image_list_0 = os.listdir(img_dir_0)\n",
    "gnd_truth_1 = 1\n",
    "print(f\"Total images: {len(image_list_0)}\")"
   ]
  },
  {
   "cell_type": "code",
   "execution_count": null,
   "id": "c46e1cd4",
   "metadata": {},
   "outputs": [],
   "source": [
    "preds_0 = prediction(img_dir_0, image_list_0)"
   ]
  },
  {
   "cell_type": "code",
   "execution_count": null,
   "id": "8f4aca10",
   "metadata": {},
   "outputs": [],
   "source": [
    "print(f\"Ground Truth: {gnd_truth_1}\\n\\nClassified Values:\\n{preds_0}\")"
   ]
  },
  {
   "cell_type": "code",
   "execution_count": null,
   "id": "58c6c403",
   "metadata": {},
   "outputs": [],
   "source": [
    "# Accuracy calculation\n",
    "true_labels = [gnd_truth_1] * len(image_list_0)\n",
    "correct_predictions = sum(preds_0[i] == true_labels[i] for i in range(len(image_list_0)))\n",
    "accuracy = (correct_predictions / len(true_labels)) * 100\n",
    "print(f\"Accuracy: {accuracy:.2f}%\")"
   ]
  },
  {
   "cell_type": "markdown",
   "id": "028e24cc",
   "metadata": {},
   "source": [
    "# Testing with 1's"
   ]
  },
  {
   "cell_type": "code",
   "execution_count": null,
   "id": "80fe1ca9",
   "metadata": {},
   "outputs": [],
   "source": [
    "# Get a list of all the images in the folder\n",
    "image_list_1 = os.listdir(img_dir_1)\n",
    "gnd_truth_1 = int(input(\"Enter Ground Truth: \"))\n",
    "print(f\"Total images: {len(image_list_1)}\")"
   ]
  },
  {
   "cell_type": "code",
   "execution_count": null,
   "id": "6e67bbf1",
   "metadata": {},
   "outputs": [],
   "source": [
    "preds_1 = prediction(img_dir_1, image_list_1)"
   ]
  },
  {
   "cell_type": "code",
   "execution_count": null,
   "id": "af8f5bce",
   "metadata": {},
   "outputs": [],
   "source": [
    "print(f\"Ground Truth: {gnd_truth_1}\\n\\nClassified Values:\\n{preds_1}\")"
   ]
  },
  {
   "cell_type": "code",
   "execution_count": null,
   "id": "dc517e1c",
   "metadata": {},
   "outputs": [],
   "source": [
    "# Accuracy calculation\n",
    "true_labels = [gnd_truth_1] * len(image_list_1)\n",
    "correct_predictions = sum(preds_1[i] == true_labels[i] for i in range(len(image_list_1)))\n",
    "accuracy = (correct_predictions / len(true_labels)) * 100\n",
    "print(f\"Accuracy: {accuracy:.2f}%\")"
   ]
  },
  {
   "cell_type": "markdown",
   "id": "1d431d93",
   "metadata": {},
   "source": [
    "# Testing with 2's"
   ]
  },
  {
   "cell_type": "code",
   "execution_count": null,
   "id": "1337d66f",
   "metadata": {},
   "outputs": [],
   "source": [
    "# Get a list of all the images in the folder\n",
    "image_list_1 = os.listdir(img_dir_1)\n",
    "gnd_truth_1 = int(input(\"Enter Ground Truth: \"))\n",
    "print(f\"Total images: {len(image_list_1)}\")"
   ]
  },
  {
   "cell_type": "code",
   "execution_count": null,
   "id": "c57b74e9",
   "metadata": {},
   "outputs": [],
   "source": [
    "preds_1 = prediction(img_dir_1, image_list_1)"
   ]
  },
  {
   "cell_type": "code",
   "execution_count": null,
   "id": "39c4ea0f",
   "metadata": {},
   "outputs": [],
   "source": [
    "print(f\"Ground Truth: {gnd_truth_1}\\n\\nClassified Values:\\n{preds_1}\")"
   ]
  },
  {
   "cell_type": "code",
   "execution_count": null,
   "id": "894d25cc",
   "metadata": {},
   "outputs": [],
   "source": [
    "# Accuracy calculation\n",
    "true_labels = [gnd_truth_1] * len(image_list_1)\n",
    "correct_predictions = sum(preds_1[i] == true_labels[i] for i in range(len(image_list_1)))\n",
    "accuracy = (correct_predictions / len(true_labels)) * 100\n",
    "print(f\"Accuracy: {accuracy:.2f}%\")"
   ]
  },
  {
   "cell_type": "markdown",
   "id": "a179d4e7",
   "metadata": {},
   "source": [
    "# Testing with 3's"
   ]
  },
  {
   "cell_type": "code",
   "execution_count": null,
   "id": "c2ba8276",
   "metadata": {},
   "outputs": [],
   "source": [
    "# Get a list of all the images in the folder\n",
    "image_list_1 = os.listdir(img_dir_1)\n",
    "gnd_truth_1 = int(input(\"Enter Ground Truth: \"))\n",
    "print(f\"Total images: {len(image_list_1)}\")"
   ]
  },
  {
   "cell_type": "code",
   "execution_count": null,
   "id": "e71eca70",
   "metadata": {},
   "outputs": [],
   "source": [
    "preds_1 = prediction(img_dir_1, image_list_1)"
   ]
  },
  {
   "cell_type": "code",
   "execution_count": null,
   "id": "2128b3df",
   "metadata": {},
   "outputs": [],
   "source": [
    "print(f\"Ground Truth: {gnd_truth_1}\\n\\nClassified Values:\\n{preds_1}\")"
   ]
  },
  {
   "cell_type": "code",
   "execution_count": null,
   "id": "7378e749",
   "metadata": {},
   "outputs": [],
   "source": [
    "# Accuracy calculation\n",
    "true_labels = [gnd_truth_1] * len(image_list_1)\n",
    "correct_predictions = sum(preds_1[i] == true_labels[i] for i in range(len(image_list_1)))\n",
    "accuracy = (correct_predictions / len(true_labels)) * 100\n",
    "print(f\"Accuracy: {accuracy:.2f}%\")"
   ]
  },
  {
   "cell_type": "markdown",
   "id": "7dfa5cbd",
   "metadata": {},
   "source": [
    "# Testing with 4's"
   ]
  },
  {
   "cell_type": "code",
   "execution_count": null,
   "id": "35eb6ff7",
   "metadata": {},
   "outputs": [],
   "source": [
    "# Get a list of all the images in the folder\n",
    "image_list_1 = os.listdir(img_dir_1)\n",
    "gnd_truth_1 = int(input(\"Enter Ground Truth: \"))\n",
    "print(f\"Total images: {len(image_list_1)}\")"
   ]
  },
  {
   "cell_type": "code",
   "execution_count": null,
   "id": "318c56ef",
   "metadata": {},
   "outputs": [],
   "source": [
    "preds_1 = prediction(img_dir_1, image_list_1)"
   ]
  },
  {
   "cell_type": "code",
   "execution_count": null,
   "id": "ff758a1f",
   "metadata": {},
   "outputs": [],
   "source": [
    "print(f\"Ground Truth: {gnd_truth_1}\\n\\nClassified Values:\\n{preds_1}\")"
   ]
  },
  {
   "cell_type": "code",
   "execution_count": null,
   "id": "714aea7e",
   "metadata": {},
   "outputs": [],
   "source": [
    "# Accuracy calculation\n",
    "true_labels = [gnd_truth_1] * len(image_list_1)\n",
    "correct_predictions = sum(preds_1[i] == true_labels[i] for i in range(len(image_list_1)))\n",
    "accuracy = (correct_predictions / len(true_labels)) * 100\n",
    "print(f\"Accuracy: {accuracy:.2f}%\")"
   ]
  },
  {
   "cell_type": "markdown",
   "id": "8984926e",
   "metadata": {},
   "source": [
    "# Testing with 5's"
   ]
  },
  {
   "cell_type": "code",
   "execution_count": null,
   "id": "f53a8fd2",
   "metadata": {},
   "outputs": [],
   "source": [
    "# Get a list of all the images in the folder\n",
    "image_list_1 = os.listdir(img_dir_1)\n",
    "gnd_truth = int(input(\"Enter Ground Truth: \"))\n",
    "print(f\"Total images: {len(image_list_1)}\")"
   ]
  },
  {
   "cell_type": "code",
   "execution_count": null,
   "id": "b0bc9378",
   "metadata": {},
   "outputs": [],
   "source": [
    "preds_1 = prediction(img_dir_1, image_list_1)"
   ]
  },
  {
   "cell_type": "code",
   "execution_count": null,
   "id": "f889cf38",
   "metadata": {},
   "outputs": [],
   "source": [
    "print(f\"Ground Truth: {gnd_truth_1}\\n\\nClassified Values:\\n{preds_1}\")"
   ]
  },
  {
   "cell_type": "code",
   "execution_count": null,
   "id": "3b856cc1",
   "metadata": {},
   "outputs": [],
   "source": [
    "# Accuracy calculation\n",
    "true_labels = [gnd_truth_1] * len(image_list_1)\n",
    "correct_predictions = sum(preds_1[i] == true_labels[i] for i in range(len(image_list_1)))\n",
    "accuracy = (correct_predictions / len(true_labels)) * 100\n",
    "print(f\"Accuracy: {accuracy:.2f}%\")"
   ]
  },
  {
   "cell_type": "markdown",
   "id": "7f5bed75",
   "metadata": {},
   "source": [
    "# Testing with 6's"
   ]
  },
  {
   "cell_type": "code",
   "execution_count": null,
   "id": "581abd39",
   "metadata": {},
   "outputs": [],
   "source": [
    "# Get a list of all the images in the folder\n",
    "image_list_1 = os.listdir(img_dir_1)\n",
    "gnd_truth = int(input(\"Enter Ground Truth: \"))\n",
    "print(f\"Total images: {len(image_list_1)}\")"
   ]
  },
  {
   "cell_type": "code",
   "execution_count": null,
   "id": "06394d4f",
   "metadata": {},
   "outputs": [],
   "source": [
    "preds_1 = prediction(img_dir_1, image_list_1)"
   ]
  },
  {
   "cell_type": "code",
   "execution_count": null,
   "id": "74b34513",
   "metadata": {},
   "outputs": [],
   "source": [
    "print(f\"Ground Truth: {gnd_truth_1}\\n\\nClassified Values:\\n{preds_1}\")"
   ]
  },
  {
   "cell_type": "code",
   "execution_count": null,
   "id": "b33f5678",
   "metadata": {},
   "outputs": [],
   "source": [
    "# Accuracy calculation\n",
    "true_labels = [gnd_truth_1] * len(image_list_1)\n",
    "correct_predictions = sum(preds_1[i] == true_labels[i] for i in range(len(image_list_1)))\n",
    "accuracy = (correct_predictions / len(true_labels)) * 100\n",
    "print(f\"Accuracy: {accuracy:.2f}%\")"
   ]
  },
  {
   "cell_type": "markdown",
   "id": "bf5c9b41",
   "metadata": {},
   "source": [
    "# Testing with 7's"
   ]
  },
  {
   "cell_type": "code",
   "execution_count": null,
   "id": "f07299d7",
   "metadata": {},
   "outputs": [],
   "source": [
    "# Get a list of all the images in the folder\n",
    "image_list_1 = os.listdir(img_dir_1)\n",
    "gnd_truth = int(input(\"Enter Ground Truth: \"))\n",
    "print(f\"Total images: {len(image_list_1)}\")"
   ]
  },
  {
   "cell_type": "code",
   "execution_count": null,
   "id": "8570b5d2",
   "metadata": {},
   "outputs": [],
   "source": [
    "preds_1 = prediction(img_dir_1, image_list_1)"
   ]
  },
  {
   "cell_type": "code",
   "execution_count": null,
   "id": "df7697ec",
   "metadata": {},
   "outputs": [],
   "source": [
    "print(f\"Ground Truth: {gnd_truth_1}\\n\\nClassified Values:\\n{preds_1}\")"
   ]
  },
  {
   "cell_type": "code",
   "execution_count": null,
   "id": "c7bfa985",
   "metadata": {},
   "outputs": [],
   "source": [
    "# Accuracy calculation\n",
    "true_labels = [gnd_truth_1] * len(image_list_1)\n",
    "correct_predictions = sum(preds_1[i] == true_labels[i] for i in range(len(image_list_1)))\n",
    "accuracy = (correct_predictions / len(true_labels)) * 100\n",
    "print(f\"Accuracy: {accuracy:.2f}%\")"
   ]
  },
  {
   "cell_type": "markdown",
   "id": "da504958",
   "metadata": {},
   "source": [
    "## End of test"
   ]
  }
 ],
 "metadata": {
  "kernelspec": {
   "display_name": "Python 3 (ipykernel)",
   "language": "python",
   "name": "python3"
  },
  "language_info": {
   "codemirror_mode": {
    "name": "ipython",
    "version": 3
   },
   "file_extension": ".py",
   "mimetype": "text/x-python",
   "name": "python",
   "nbconvert_exporter": "python",
   "pygments_lexer": "ipython3",
   "version": "3.10.8"
  }
 },
 "nbformat": 4,
 "nbformat_minor": 5
}
