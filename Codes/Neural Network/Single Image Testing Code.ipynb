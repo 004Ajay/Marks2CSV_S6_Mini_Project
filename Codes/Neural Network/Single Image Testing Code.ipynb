{
 "cells": [
  {
   "cell_type": "code",
   "execution_count": 17,
   "id": "4b59c43f",
   "metadata": {},
   "outputs": [],
   "source": [
    "import time\n",
    "import tensorflow as tf\n",
    "import numpy as np\n",
    "import cv2\n",
    "import matplotlib.pyplot as plt"
   ]
  },
  {
   "cell_type": "code",
   "execution_count": 18,
   "id": "7c75185e",
   "metadata": {},
   "outputs": [],
   "source": [
    "model = tf.keras.models.load_model(\"MP_Final_Model.h5\") # pre-trained model\n",
    "IMAGE_NAME = \"test.jpg\"\n",
    "\n",
    "img_path = IMAGE_NAME"
   ]
  },
  {
   "cell_type": "code",
   "execution_count": 19,
   "id": "7b79b8ec",
   "metadata": {},
   "outputs": [
    {
     "data": {
      "image/png": "[encoded data removed]",
      "text/plain": [
       "<Figure size 640x480 with 1 Axes>"
      ]
     },
     "metadata": {},
     "output_type": "display_data"
    }
   ],
   "source": [
    "img = cv2.imread(IMAGE_NAME)\n",
    "plt.imshow(img)\n",
    "plt.axis(\"off\")\n",
    "plt.show()"
   ]
  },
  {
   "cell_type": "code",
   "execution_count": 23,
   "id": "889cc122",
   "metadata": {},
   "outputs": [
    {
     "name": "stdout",
     "output_type": "stream",
     "text": [
      "1/1 [==============================] - 0s 24ms/step\n",
      "\n",
      "Total time taken for classification: 0.0809 seconds\n",
      "\n",
      "Prediction: 8\n"
     ]
    }
   ],
   "source": [
    "test_image = tf.keras.preprocessing.image.load_img(img_path, target_size=(40, 40), color_mode='grayscale')\n",
    "test_image = np.expand_dims(test_image, axis=0) # Expand the dimensions of the image to match the input shape of the model\n",
    "\n",
    "sp = time.time()\n",
    "\n",
    "result = model.predict(test_image)\n",
    "\n",
    "predicted_value = np.argmax(result[0])\n",
    "\n",
    "print(f\"\\nTotal time taken for classification: {round((time.time() - sp), 4)} seconds\\n\")\n",
    "\n",
    "print(f\"Prediction: {predicted_value}\")\n"
   ]
  },
  {
   "cell_type": "code",
   "execution_count": null,
   "id": "39d370d5",
   "metadata": {},
   "outputs": [],
   "source": []
  }
 ],
 "metadata": {
  "kernelspec": {
   "display_name": "Python 3 (ipykernel)",
   "language": "python",
   "name": "python3"
  },
  "language_info": {
   "codemirror_mode": {
    "name": "ipython",
    "version": 3
   },
   "file_extension": ".py",
   "mimetype": "text/x-python",
   "name": "python",
   "nbconvert_exporter": "python",
   "pygments_lexer": "ipython3",
   "version": "3.10.8"
  }
 },
 "nbformat": 4,
 "nbformat_minor": 5
}
