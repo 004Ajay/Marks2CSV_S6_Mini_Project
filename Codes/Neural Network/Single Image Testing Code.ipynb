{
 "cells": [
  {
   "cell_type": "code",
   "execution_count": 1,
   "id": "4b59c43f",
   "metadata": {},
   "outputs": [],
   "source": [
    "import time\n",
    "\n",
    "st = time.time()\n",
    "\n",
    "import tensorflow as tf\n",
    "import numpy as np"
   ]
  },
  {
   "cell_type": "code",
   "execution_count": 4,
   "id": "7c75185e",
   "metadata": {},
   "outputs": [],
   "source": [
    "model = tf.keras.models.load_model(\"MP_None_Set.h5\") # pre-trained model\n",
    "\n",
    "img_path = \"test.jpg\" # path to image"
   ]
  },
  {
   "cell_type": "code",
   "execution_count": 5,
   "id": "889cc122",
   "metadata": {},
   "outputs": [
    {
     "name": "stdout",
     "output_type": "stream",
     "text": [
      "1/1 [==============================] - 0s 50ms/step\n",
      "Prediction: 8\n",
      "Total time taken (in minutes): 0.5323038736979167\n"
     ]
    }
   ],
   "source": [
    "test_image = tf.keras.preprocessing.image.load_img(img_path, target_size=(40, 40), color_mode='grayscale')\n",
    "test_image = np.expand_dims(test_image, axis=0) # Expand the dimensions of the image to match the input shape of the model\n",
    "\n",
    "result = model.predict(test_image)\n",
    "\n",
    "predicted_value = np.argmax(result[0])\n",
    "\n",
    "print(f\"Prediction: {predicted_value}\")\n",
    "print(f\"Total time taken (in minutes): {(time.time() - st) / 60}\")"
   ]
  },
  {
   "cell_type": "code",
   "execution_count": null,
   "id": "eb06b73e",
   "metadata": {},
   "outputs": [],
   "source": []
  }
 ],
 "metadata": {
  "kernelspec": {
   "display_name": "Python 3 (ipykernel)",
   "language": "python",
   "name": "python3"
  },
  "language_info": {
   "codemirror_mode": {
    "name": "ipython",
    "version": 3
   },
   "file_extension": ".py",
   "mimetype": "text/x-python",
   "name": "python",
   "nbconvert_exporter": "python",
   "pygments_lexer": "ipython3",
   "version": "3.10.8"
  }
 },
 "nbformat": 4,
 "nbformat_minor": 5
}
