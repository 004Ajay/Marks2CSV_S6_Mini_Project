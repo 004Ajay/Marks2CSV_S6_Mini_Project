{
 "cells": [
  {
   "cell_type": "code",
   "execution_count": 1,
   "id": "4b59c43f",
   "metadata": {},
   "outputs": [],
   "source": [
    "import time\n",
    "\n",
    "st = time.time()"
   ]
  },
  {
   "cell_type": "code",
   "execution_count": 2,
   "id": "5e9e111f",
   "metadata": {},
   "outputs": [],
   "source": [
    "import tensorflow as tf\n",
    "import numpy as np"
   ]
  },
  {
   "cell_type": "code",
   "execution_count": 25,
   "id": "7c75185e",
   "metadata": {},
   "outputs": [],
   "source": [
    "model = tf.keras.models.load_model(\"D:/AJAYMON/AJAY/Programming/S6_Mini_Project/Codes/Neural Network/MP_new.h5\") # pre-trained model\n",
    "\n",
    "img_path = \"test.png\" # path to image folder \"C:\\Users\\ASUS\\Desktop\\new\""
   ]
  },
  {
   "cell_type": "code",
   "execution_count": 26,
   "id": "889cc122",
   "metadata": {},
   "outputs": [
    {
     "name": "stdout",
     "output_type": "stream",
     "text": [
      "1/1 [==============================] - 0s 91ms/step\n"
     ]
    },
    {
     "data": {
      "text/plain": [
       "3"
      ]
     },
     "execution_count": 26,
     "metadata": {},
     "output_type": "execute_result"
    }
   ],
   "source": [
    "test_image = tf.keras.preprocessing.image.load_img(img_path, target_size=(40, 40), color_mode='grayscale')\n",
    "test_image = np.expand_dims(test_image, axis=0) # Expand the dimensions of the image to match the input shape of the model\n",
    "\n",
    "result = model.predict(test_image)\n",
    "\n",
    "predicted_value = np.argmax(result[0])\n",
    "\n",
    "predicted_value"
   ]
  },
  {
   "cell_type": "code",
   "execution_count": 27,
   "id": "1bbe873b",
   "metadata": {},
   "outputs": [
    {
     "name": "stdout",
     "output_type": "stream",
     "text": [
      "Total time taken (in seconds): 480.80125617980957\n"
     ]
    }
   ],
   "source": [
    "print(f\"Total time taken (in seconds): {time.time() - st}\")"
   ]
  },
  {
   "cell_type": "code",
   "execution_count": 28,
   "id": "c97b3d89",
   "metadata": {},
   "outputs": [
    {
     "name": "stdout",
     "output_type": "stream",
     "text": [
      "1/1 [==============================] - 0s 24ms/step\n"
     ]
    },
    {
     "data": {
      "text/plain": [
       "array([0, 0, 0, 0, 0, 0, 0, 0, 0, 0, 0, 0, 0, 0, 0, 0, 0, 0, 0, 0, 0, 0,\n",
       "       0, 0, 0, 0, 0, 0, 0, 0, 0, 0, 0, 0, 0, 0, 0, 0, 0, 0], dtype=uint8)"
      ]
     },
     "execution_count": 28,
     "metadata": {},
     "output_type": "execute_result"
    }
   ],
   "source": [
    "# Load your test dataset and predict the labels\n",
    "# test_images = ...\n",
    "predictions = model.predict(test_image)\n",
    "\n",
    "# Set a threshold for blank images\n",
    "threshold = 25.5\n",
    "\n",
    "# Iterate through the predictions and modify the labels for blank images\n",
    "for i in range(len(predictions)):\n",
    "    if np.max(test_image[i]) < threshold:\n",
    "        predictions[i] = None\n",
    "    else:\n",
    "        # Convert the predicted probabilities to class labels\n",
    "        predictions[i] = np.argmax(predictions[i])\n",
    "\n",
    "test_image[0][1]"
   ]
  },
  {
   "cell_type": "code",
   "execution_count": null,
   "id": "57a5624f",
   "metadata": {},
   "outputs": [],
   "source": [
    "# Apply threshold and check if most pixels are white or black, if yes then retun None, else use model to predict the class"
   ]
  }
 ],
 "metadata": {
  "kernelspec": {
   "display_name": "Python 3 (ipykernel)",
   "language": "python",
   "name": "python3"
  },
  "language_info": {
   "codemirror_mode": {
    "name": "ipython",
    "version": 3
   },
   "file_extension": ".py",
   "mimetype": "text/x-python",
   "name": "python",
   "nbconvert_exporter": "python",
   "pygments_lexer": "ipython3",
   "version": "3.10.8"
  }
 },
 "nbformat": 4,
 "nbformat_minor": 5
}
