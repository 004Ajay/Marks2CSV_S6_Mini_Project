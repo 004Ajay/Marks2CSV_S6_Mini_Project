{
 "cells": [
  {
   "cell_type": "code",
   "execution_count": 1,
   "id": "4e44d236",
   "metadata": {},
   "outputs": [],
   "source": [
    "import tensorflow as tf"
   ]
  },
  {
   "cell_type": "code",
   "execution_count": 2,
   "id": "d3ecbb43",
   "metadata": {},
   "outputs": [],
   "source": [
    "# define the image size and batch size\n",
    "img_size = (40, 40)\n",
    "batch_size = 32\n",
    "\n",
    "# Path to your dataset folder\n",
    "data_dir = \"C:/Users/ASUS/Desktop/newest dataset mixed\""
   ]
  },
  {
   "cell_type": "code",
   "execution_count": 3,
   "id": "fe5d71a7",
   "metadata": {},
   "outputs": [
    {
     "name": "stdout",
     "output_type": "stream",
     "text": [
      "Found 22574 files belonging to 8 classes.\n",
      "Using 18060 files for training.\n",
      "Found 22574 files belonging to 8 classes.\n",
      "Using 4514 files for validation.\n"
     ]
    }
   ],
   "source": [
    "# use image_dataset_from_directory to load the data and split it into training and testing sets\n",
    "train_ds = tf.keras.preprocessing.image_dataset_from_directory(\n",
    "    data_dir,\n",
    "    validation_split=0.2,\n",
    "    subset='training',\n",
    "    seed=123,\n",
    "    image_size=img_size,\n",
    "    batch_size=batch_size)\n",
    "\n",
    "test_ds = tf.keras.preprocessing.image_dataset_from_directory(\n",
    "    data_dir,\n",
    "    validation_split=0.2,\n",
    "    subset='validation',\n",
    "    seed=123,\n",
    "    image_size=img_size,\n",
    "    batch_size=batch_size)"
   ]
  },
  {
   "cell_type": "code",
   "execution_count": 4,
   "id": "84d8103c",
   "metadata": {},
   "outputs": [
    {
     "name": "stdout",
     "output_type": "stream",
     "text": [
      "Class names: ['0', '1', '2', '3', '4', '5', '6', '7']\n",
      "Number of classes: 8\n"
     ]
    }
   ],
   "source": [
    "# inspect the class names and number of classes\n",
    "class_names = train_ds.class_names\n",
    "num_classes = len(class_names)\n",
    "print('Class names:', class_names)\n",
    "print('Number of classes:', num_classes)"
   ]
  },
  {
   "cell_type": "code",
   "execution_count": 5,
   "id": "64c036d1",
   "metadata": {},
   "outputs": [],
   "source": [
    "# convert images to grayscale\n",
    "def grayscale(image, label):\n",
    "    image = tf.image.rgb_to_grayscale(image)\n",
    "    return image, label\n",
    "\n",
    "train_ds = train_ds.map(grayscale)\n",
    "test_ds = test_ds.map(grayscale)\n",
    "\n",
    "# normalize pixel values to be between 0 and 1\n",
    "train_ds = train_ds.map(lambda x, y: (x / 255.0, y))\n",
    "test_ds = test_ds.map(lambda x, y: (x / 255.0, y))"
   ]
  },
  {
   "cell_type": "code",
   "execution_count": 6,
   "id": "56ff5c5d",
   "metadata": {},
   "outputs": [],
   "source": [
    "# create the neural network\n",
    "model = tf.keras.Sequential([\n",
    "    tf.keras.layers.Conv2D(16, 3, activation='relu', input_shape=(40, 40, 1)),\n",
    "    tf.keras.layers.MaxPooling2D(),\n",
    "    tf.keras.layers.Conv2D(32, 3, activation='relu'),\n",
    "    tf.keras.layers.MaxPooling2D(),\n",
    "    tf.keras.layers.Flatten(),\n",
    "    tf.keras.layers.Dense(64, activation='relu'),\n",
    "    tf.keras.layers.Dense(num_classes, activation='softmax')\n",
    "])\n",
    "\n",
    "# The neural network architecture consists of sequential layers, where the output of one layer is passed as input to the next layer.\n",
    "\n",
    "# The first layer is a convolutional layer with 16 filters of size 3x3, followed by a ReLU activation function. \n",
    "# The input shape of the layer is (40, 40, 1), which means that the layer expects input images of size 40x40 with one color channel (grayscale).\n",
    "\n",
    "# The second layer is a max pooling layer that reduces the spatial dimensions of the output from the previous layer by taking the maximum value in each 2x2 window.\n",
    "\n",
    "# The third layer is another convolutional layer with 32 filters of size 3x3, followed by a ReLU activation function.\n",
    "\n",
    "# The fourth layer is another max pooling layer.\n",
    "\n",
    "# The fifth layer is a flatten layer that flattens the output from the previous layer into a 1D vector.\n",
    "\n",
    "# The sixth layer is a dense layer with 64 units and a ReLU activation function.\n",
    "\n",
    "# The seventh and final layer is a dense layer with num_classes units and a softmax activation function, which produces the predicted class probabilities for the input image."
   ]
  },
  {
   "cell_type": "code",
   "execution_count": 16,
   "id": "71b27730",
   "metadata": {},
   "outputs": [],
   "source": [
    "# # For visualizing the model\n",
    "\n",
    "# from keras.utils.vis_utils import plot_model\n",
    "# plot_model(model, \n",
    "#            to_file='model.png',\n",
    "#            show_shapes=True,\n",
    "#            show_dtype=False,\n",
    "#            show_layer_names=True,\n",
    "#            rankdir='TB',\n",
    "#            expand_nested=False,\n",
    "#            dpi=300,\n",
    "#            layer_range=None,\n",
    "#            show_layer_activations=True\n",
    "#           )"
   ]
  },
  {
   "cell_type": "code",
   "execution_count": 8,
   "id": "d46fed79",
   "metadata": {},
   "outputs": [],
   "source": [
    "# from ann_visualizer.visualize import ann_viz;\n",
    "\n",
    "# ann_viz(model, title=\"My first neural network\")"
   ]
  },
  {
   "cell_type": "code",
   "execution_count": 9,
   "id": "458c1918",
   "metadata": {},
   "outputs": [],
   "source": [
    "# compile the model\n",
    "model.compile(optimizer='adam',\n",
    "              loss=tf.keras.losses.SparseCategoricalCrossentropy(from_logits=True),\n",
    "              metrics=['accuracy'])"
   ]
  },
  {
   "cell_type": "code",
   "execution_count": 10,
   "id": "88caabd1",
   "metadata": {},
   "outputs": [
    {
     "name": "stdout",
     "output_type": "stream",
     "text": [
      "Epoch 1/10\n"
     ]
    },
    {
     "name": "stderr",
     "output_type": "stream",
     "text": [
      "c:\\Users\\ASUS\\AppData\\Local\\Programs\\Python\\Python310\\lib\\site-packages\\keras\\backend.py:5612: UserWarning: \"`sparse_categorical_crossentropy` received `from_logits=True`, but the `output` argument was produced by a Softmax activation and thus does not represent logits. Was this intended?\n",
      "  output, from_logits = _get_logits(\n"
     ]
    },
    {
     "name": "stdout",
     "output_type": "stream",
     "text": [
      "565/565 [==============================] - 17s 28ms/step - loss: 1.1001 - accuracy: 0.6290 - val_loss: 0.5732 - val_accuracy: 0.8327\n",
      "Epoch 2/10\n",
      "565/565 [==============================] - 10s 17ms/step - loss: 0.4503 - accuracy: 0.8661 - val_loss: 0.3638 - val_accuracy: 0.8919\n",
      "Epoch 3/10\n",
      "565/565 [==============================] - 11s 19ms/step - loss: 0.2952 - accuracy: 0.9148 - val_loss: 0.2782 - val_accuracy: 0.9176\n",
      "Epoch 4/10\n",
      "565/565 [==============================] - 11s 19ms/step - loss: 0.2167 - accuracy: 0.9381 - val_loss: 0.2155 - val_accuracy: 0.9395\n",
      "Epoch 5/10\n",
      "565/565 [==============================] - 11s 19ms/step - loss: 0.1650 - accuracy: 0.9524 - val_loss: 0.1977 - val_accuracy: 0.9444\n",
      "Epoch 6/10\n",
      "565/565 [==============================] - 11s 19ms/step - loss: 0.1233 - accuracy: 0.9652 - val_loss: 0.1971 - val_accuracy: 0.9451\n",
      "Epoch 7/10\n",
      "565/565 [==============================] - 10s 18ms/step - loss: 0.1051 - accuracy: 0.9685 - val_loss: 0.2277 - val_accuracy: 0.9402\n",
      "Epoch 8/10\n",
      "565/565 [==============================] - 10s 18ms/step - loss: 0.0762 - accuracy: 0.9781 - val_loss: 0.1764 - val_accuracy: 0.9530\n",
      "Epoch 9/10\n",
      "565/565 [==============================] - 10s 18ms/step - loss: 0.0655 - accuracy: 0.9816 - val_loss: 0.1725 - val_accuracy: 0.9557\n",
      "Epoch 10/10\n",
      "565/565 [==============================] - 10s 18ms/step - loss: 0.0522 - accuracy: 0.9842 - val_loss: 0.1695 - val_accuracy: 0.9588\n"
     ]
    },
    {
     "data": {
      "text/plain": [
       "<keras.callbacks.History at 0x1f10056cb80>"
      ]
     },
     "execution_count": 10,
     "metadata": {},
     "output_type": "execute_result"
    }
   ],
   "source": [
    "# train the model\n",
    "model.fit(train_ds, validation_data=test_ds, epochs=10)"
   ]
  },
  {
   "cell_type": "code",
   "execution_count": 17,
   "id": "8174140e",
   "metadata": {},
   "outputs": [
    {
     "name": "stdout",
     "output_type": "stream",
     "text": [
      "Testing accuracy: 95.88%\n"
     ]
    }
   ],
   "source": [
    "loss, accuracy = model.evaluate(test_ds, verbose=0)\n",
    "\n",
    "print(f'Testing accuracy: {(accuracy*100):.2f}%')"
   ]
  },
  {
   "cell_type": "code",
   "execution_count": 18,
   "id": "b80ba357",
   "metadata": {},
   "outputs": [
    {
     "name": "stdout",
     "output_type": "stream",
     "text": [
      "Model: \"sequential\"\n",
      "_________________________________________________________________\n",
      " Layer (type)                Output Shape              Param #   \n",
      "=================================================================\n",
      " conv2d (Conv2D)             (None, 38, 38, 16)        160       \n",
      "                                                                 \n",
      " max_pooling2d (MaxPooling2D  (None, 19, 19, 16)       0         \n",
      " )                                                               \n",
      "                                                                 \n",
      " conv2d_1 (Conv2D)           (None, 17, 17, 32)        4640      \n",
      "                                                                 \n",
      " max_pooling2d_1 (MaxPooling  (None, 8, 8, 32)         0         \n",
      " 2D)                                                             \n",
      "                                                                 \n",
      " flatten (Flatten)           (None, 2048)              0         \n",
      "                                                                 \n",
      " dense (Dense)               (None, 64)                131136    \n",
      "                                                                 \n",
      " dense_1 (Dense)             (None, 8)                 520       \n",
      "                                                                 \n",
      "=================================================================\n",
      "Total params: 136,456\n",
      "Trainable params: 136,456\n",
      "Non-trainable params: 0\n",
      "_________________________________________________________________\n"
     ]
    }
   ],
   "source": [
    "model.summary()"
   ]
  },
  {
   "cell_type": "code",
   "execution_count": 19,
   "id": "fbaec046",
   "metadata": {},
   "outputs": [],
   "source": [
    "model.save('MP_new_dataset.h5')"
   ]
  },
  {
   "cell_type": "code",
   "execution_count": null,
   "id": "bb9331d6",
   "metadata": {},
   "outputs": [],
   "source": []
  }
 ],
 "metadata": {
  "kernelspec": {
   "display_name": "Python 3 (ipykernel)",
   "language": "python",
   "name": "python3"
  },
  "language_info": {
   "codemirror_mode": {
    "name": "ipython",
    "version": 3
   },
   "file_extension": ".py",
   "mimetype": "text/x-python",
   "name": "python",
   "nbconvert_exporter": "python",
   "pygments_lexer": "ipython3",
   "version": "3.10.8"
  }
 },
 "nbformat": 4,
 "nbformat_minor": 5
}
