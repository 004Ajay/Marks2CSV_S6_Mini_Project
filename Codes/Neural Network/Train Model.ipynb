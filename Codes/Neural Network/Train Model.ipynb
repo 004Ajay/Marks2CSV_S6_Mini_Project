{
 "cells": [
  {
   "cell_type": "code",
   "execution_count": null,
   "id": "95435a9c",
   "metadata": {},
   "outputs": [],
   "source": [
    "import tensorflow as tf"
   ]
  },
  {
   "cell_type": "code",
   "execution_count": null,
   "id": "9401faff",
   "metadata": {},
   "outputs": [],
   "source": [
    "# define the image size and batch size\n",
    "img_size = (90, 140)\n",
    "batch_size = 32\n",
    "\n",
    "# define the path to your dataset folder\n",
    "data_dir = \"D:/AJAYMON/AJAY/Programming/S6_Mini_Project/dataset/numbers\""
   ]
  },
  {
   "cell_type": "code",
   "execution_count": null,
   "id": "7498822d",
   "metadata": {},
   "outputs": [],
   "source": [
    "# use image_dataset_from_directory to load the data and split it into training and testing sets\n",
    "train_ds = tf.keras.preprocessing.image_dataset_from_directory(\n",
    "    data_dir,\n",
    "    validation_split=0.2,\n",
    "    subset='training',\n",
    "    seed=123,\n",
    "    image_size=img_size,\n",
    "    batch_size=batch_size)\n",
    "\n",
    "val_ds = tf.keras.preprocessing.image_dataset_from_directory(\n",
    "    data_dir,\n",
    "    validation_split=0.2,\n",
    "    subset='validation',\n",
    "    seed=123,\n",
    "    image_size=img_size,\n",
    "    batch_size=batch_size)"
   ]
  },
  {
   "cell_type": "code",
   "execution_count": null,
   "id": "5c6e47e2",
   "metadata": {},
   "outputs": [],
   "source": [
    "# inspect the class names and number of classes\n",
    "class_names = train_ds.class_names\n",
    "num_classes = len(class_names)\n",
    "print('Class names:', class_names)\n",
    "print('Number of classes:', num_classes)"
   ]
  },
  {
   "cell_type": "code",
   "execution_count": null,
   "id": "b0dd910f",
   "metadata": {},
   "outputs": [],
   "source": [
    "# convert images to grayscale\n",
    "def grayscale(image, label):\n",
    "    image = tf.image.rgb_to_grayscale(image)\n",
    "    return image, label\n",
    "\n",
    "train_ds = train_ds.map(grayscale)\n",
    "val_ds = val_ds.map(grayscale)\n",
    "\n",
    "# normalize pixel values to be between 0 and 1\n",
    "train_ds = train_ds.map(lambda x, y: (x / 255.0, y))\n",
    "val_ds = val_ds.map(lambda x, y: (x / 255.0, y))"
   ]
  },
  {
   "cell_type": "code",
   "execution_count": null,
   "id": "de2c3328",
   "metadata": {},
   "outputs": [],
   "source": [
    "# create the neural network\n",
    "model = tf.keras.Sequential([\n",
    "    tf.keras.layers.Conv2D(16, 3, activation='relu', input_shape=(40, 40, 1)),\n",
    "    tf.keras.layers.MaxPooling2D(),\n",
    "    tf.keras.layers.Conv2D(32, 3, activation='relu'),\n",
    "    tf.keras.layers.MaxPooling2D(),\n",
    "    tf.keras.layers.Flatten(),\n",
    "    tf.keras.layers.Dense(64, activation='relu'),\n",
    "    tf.keras.layers.Dense(num_classes, activation='softmax')\n",
    "])"
   ]
  },
  {
   "cell_type": "code",
   "execution_count": null,
   "id": "910a2ff0",
   "metadata": {},
   "outputs": [],
   "source": [
    "# compile the model\n",
    "model.compile(optimizer='adam',\n",
    "              loss=tf.keras.losses.SparseCategoricalCrossentropy(from_logits=True),\n",
    "              metrics=['accuracy'])"
   ]
  },
  {
   "cell_type": "code",
   "execution_count": null,
   "id": "9b6a88f9",
   "metadata": {},
   "outputs": [],
   "source": [
    "# train the model\n",
    "model.fit(train_ds, validation_data=val_ds, epochs=10)"
   ]
  },
  {
   "cell_type": "code",
   "execution_count": null,
   "id": "92819652",
   "metadata": {},
   "outputs": [],
   "source": [
    "model.summary()"
   ]
  },
  {
   "cell_type": "code",
   "execution_count": null,
   "id": "55f3ccf3",
   "metadata": {},
   "outputs": [],
   "source": [
    "model.save('MP.h5')"
   ]
  },
  {
   "cell_type": "code",
   "execution_count": null,
   "id": "4ce1cd12",
   "metadata": {},
   "outputs": [],
   "source": []
  }
 ],
 "metadata": {
  "kernelspec": {
   "display_name": "Python 3 (ipykernel)",
   "language": "python",
   "name": "python3"
  },
  "language_info": {
   "codemirror_mode": {
    "name": "ipython",
    "version": 3
   },
   "file_extension": ".py",
   "mimetype": "text/x-python",
   "name": "python",
   "nbconvert_exporter": "python",
   "pygments_lexer": "ipython3",
   "version": "3.10.8"
  }
 },
 "nbformat": 4,
 "nbformat_minor": 5
}
