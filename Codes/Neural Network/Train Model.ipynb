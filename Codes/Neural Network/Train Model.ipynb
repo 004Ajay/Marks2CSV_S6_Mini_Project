{
 "cells": [
  {
   "cell_type": "code",
   "execution_count": 14,
   "id": "4e44d236",
   "metadata": {},
   "outputs": [],
   "source": [
    "import tensorflow as tf"
   ]
  },
  {
   "cell_type": "code",
   "execution_count": 15,
   "id": "d3ecbb43",
   "metadata": {},
   "outputs": [],
   "source": [
    "# define the image size and batch size\n",
    "img_size = (90, 140)\n",
    "batch_size = 32\n",
    "\n",
    "# define the path to your dataset folder\n",
    "data_dir = \"D:/AJAYMON/AJAY/Programming/S6_Mini_Project/dataset/numbers\""
   ]
  },
  {
   "cell_type": "code",
   "execution_count": 16,
   "id": "fe5d71a7",
   "metadata": {},
   "outputs": [
    {
     "name": "stdout",
     "output_type": "stream",
     "text": [
      "Found 17454 files belonging to 8 classes.\n",
      "Using 13964 files for training.\n",
      "Found 17454 files belonging to 8 classes.\n",
      "Using 3490 files for validation.\n"
     ]
    }
   ],
   "source": [
    "# use image_dataset_from_directory to load the data and split it into training and testing sets\n",
    "train_ds = tf.keras.preprocessing.image_dataset_from_directory(\n",
    "    data_dir,\n",
    "    validation_split=0.2,\n",
    "    subset='training',\n",
    "    seed=123,\n",
    "    image_size=img_size,\n",
    "    batch_size=batch_size)\n",
    "\n",
    "val_ds = tf.keras.preprocessing.image_dataset_from_directory(\n",
    "    data_dir,\n",
    "    validation_split=0.2,\n",
    "    subset='validation',\n",
    "    seed=123,\n",
    "    image_size=img_size,\n",
    "    batch_size=batch_size)"
   ]
  },
  {
   "cell_type": "code",
   "execution_count": 17,
   "id": "84d8103c",
   "metadata": {},
   "outputs": [
    {
     "name": "stdout",
     "output_type": "stream",
     "text": [
      "Class names: ['0', '1', '2', '3', '4', '5', '6', '7']\n",
      "Number of classes: 8\n"
     ]
    }
   ],
   "source": [
    "# inspect the class names and number of classes\n",
    "class_names = train_ds.class_names\n",
    "num_classes = len(class_names)\n",
    "print('Class names:', class_names)\n",
    "print('Number of classes:', num_classes)"
   ]
  },
  {
   "cell_type": "code",
   "execution_count": 18,
   "id": "64c036d1",
   "metadata": {},
   "outputs": [],
   "source": [
    "# convert images to grayscale\n",
    "def grayscale(image, label):\n",
    "    image = tf.image.rgb_to_grayscale(image)\n",
    "    return image, label\n",
    "\n",
    "train_ds = train_ds.map(grayscale)\n",
    "val_ds = val_ds.map(grayscale)\n",
    "\n",
    "# normalize pixel values to be between 0 and 1\n",
    "train_ds = train_ds.map(lambda x, y: (x / 255.0, y))\n",
    "val_ds = val_ds.map(lambda x, y: (x / 255.0, y))"
   ]
  },
  {
   "cell_type": "code",
   "execution_count": 19,
   "id": "56ff5c5d",
   "metadata": {},
   "outputs": [],
   "source": [
    "# create the neural network\n",
    "model = tf.keras.Sequential([\n",
    "    tf.keras.layers.Conv2D(16, 3, activation='relu', input_shape=(90, 140, 1)),\n",
    "    tf.keras.layers.MaxPooling2D(),\n",
    "    tf.keras.layers.Conv2D(32, 3, activation='relu'),\n",
    "    tf.keras.layers.MaxPooling2D(),\n",
    "    tf.keras.layers.Flatten(),\n",
    "    tf.keras.layers.Dense(64, activation='relu'),\n",
    "    tf.keras.layers.Dense(num_classes, activation='softmax')\n",
    "])"
   ]
  },
  {
   "cell_type": "code",
   "execution_count": 20,
   "id": "458c1918",
   "metadata": {},
   "outputs": [],
   "source": [
    "# compile the model\n",
    "model.compile(optimizer='adam',\n",
    "              loss=tf.keras.losses.SparseCategoricalCrossentropy(from_logits=True),\n",
    "              metrics=['accuracy'])"
   ]
  },
  {
   "cell_type": "code",
   "execution_count": 21,
   "id": "88caabd1",
   "metadata": {},
   "outputs": [
    {
     "name": "stdout",
     "output_type": "stream",
     "text": [
      "Epoch 1/10\n",
      "437/437 [==============================] - 39s 87ms/step - loss: 0.9531 - accuracy: 0.6875 - val_loss: 0.4304 - val_accuracy: 0.8736\n",
      "Epoch 2/10\n",
      "437/437 [==============================] - 37s 85ms/step - loss: 0.3073 - accuracy: 0.9103 - val_loss: 0.2817 - val_accuracy: 0.9163\n",
      "Epoch 3/10\n",
      "437/437 [==============================] - 39s 90ms/step - loss: 0.1523 - accuracy: 0.9562 - val_loss: 0.2351 - val_accuracy: 0.9275\n",
      "Epoch 4/10\n",
      "437/437 [==============================] - 43s 98ms/step - loss: 0.0872 - accuracy: 0.9750 - val_loss: 0.2397 - val_accuracy: 0.9266\n",
      "Epoch 5/10\n",
      "437/437 [==============================] - 40s 91ms/step - loss: 0.0446 - accuracy: 0.9877 - val_loss: 0.2172 - val_accuracy: 0.9433\n",
      "Epoch 6/10\n",
      "437/437 [==============================] - 38s 87ms/step - loss: 0.0322 - accuracy: 0.9913 - val_loss: 0.2113 - val_accuracy: 0.9433\n",
      "Epoch 7/10\n",
      "437/437 [==============================] - 37s 84ms/step - loss: 0.0202 - accuracy: 0.9945 - val_loss: 0.2378 - val_accuracy: 0.9450\n",
      "Epoch 8/10\n",
      "437/437 [==============================] - 36s 83ms/step - loss: 0.0298 - accuracy: 0.9908 - val_loss: 0.2365 - val_accuracy: 0.9473\n",
      "Epoch 9/10\n",
      "437/437 [==============================] - 39s 89ms/step - loss: 0.0203 - accuracy: 0.9933 - val_loss: 0.2610 - val_accuracy: 0.9438\n",
      "Epoch 10/10\n",
      "437/437 [==============================] - 40s 92ms/step - loss: 0.0147 - accuracy: 0.9964 - val_loss: 0.2324 - val_accuracy: 0.9484\n"
     ]
    },
    {
     "data": {
      "text/plain": [
       "<keras.callbacks.History at 0x199f7eb18d0>"
      ]
     },
     "execution_count": 21,
     "metadata": {},
     "output_type": "execute_result"
    }
   ],
   "source": [
    "# train the model\n",
    "model.fit(train_ds, validation_data=val_ds, epochs=10)"
   ]
  },
  {
   "cell_type": "code",
   "execution_count": 22,
   "id": "b80ba357",
   "metadata": {},
   "outputs": [
    {
     "name": "stdout",
     "output_type": "stream",
     "text": [
      "Model: \"sequential_2\"\n",
      "_________________________________________________________________\n",
      " Layer (type)                Output Shape              Param #   \n",
      "=================================================================\n",
      " conv2d_4 (Conv2D)           (None, 88, 138, 16)       160       \n",
      "                                                                 \n",
      " max_pooling2d_4 (MaxPooling  (None, 44, 69, 16)       0         \n",
      " 2D)                                                             \n",
      "                                                                 \n",
      " conv2d_5 (Conv2D)           (None, 42, 67, 32)        4640      \n",
      "                                                                 \n",
      " max_pooling2d_5 (MaxPooling  (None, 21, 33, 32)       0         \n",
      " 2D)                                                             \n",
      "                                                                 \n",
      " flatten_2 (Flatten)         (None, 22176)             0         \n",
      "                                                                 \n",
      " dense_4 (Dense)             (None, 64)                1419328   \n",
      "                                                                 \n",
      " dense_5 (Dense)             (None, 8)                 520       \n",
      "                                                                 \n",
      "=================================================================\n",
      "Total params: 1,424,648\n",
      "Trainable params: 1,424,648\n",
      "Non-trainable params: 0\n",
      "_________________________________________________________________\n"
     ]
    }
   ],
   "source": [
    "model.summary()"
   ]
  },
  {
   "cell_type": "code",
   "execution_count": 23,
   "id": "fbaec046",
   "metadata": {},
   "outputs": [],
   "source": [
    "model.save('MP.h5')"
   ]
  },
  {
   "cell_type": "code",
   "execution_count": null,
   "id": "02ffcc38",
   "metadata": {},
   "outputs": [],
   "source": []
  }
 ],
 "metadata": {
  "kernelspec": {
   "display_name": "Python 3 (ipykernel)",
   "language": "python",
   "name": "python3"
  },
  "language_info": {
   "codemirror_mode": {
    "name": "ipython",
    "version": 3
   },
   "file_extension": ".py",
   "mimetype": "text/x-python",
   "name": "python",
   "nbconvert_exporter": "python",
   "pygments_lexer": "ipython3",
   "version": "3.10.8"
  }
 },
 "nbformat": 4,
 "nbformat_minor": 5
}
