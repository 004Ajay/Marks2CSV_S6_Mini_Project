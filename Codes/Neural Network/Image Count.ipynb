{
 "cells": [
  {
   "cell_type": "code",
   "execution_count": 23,
   "id": "67196790",
   "metadata": {},
   "outputs": [],
   "source": [
    "import os\n",
    "from tqdm import tqdm"
   ]
  },
  {
   "cell_type": "code",
   "execution_count": 24,
   "id": "e0acb008",
   "metadata": {},
   "outputs": [],
   "source": [
    "image_folder = \"C:/Users/ASUS/Desktop/Mixed_Marks\" # path to image folder\n",
    "\n",
    "image_list = os.listdir(image_folder)"
   ]
  },
  {
   "cell_type": "code",
   "execution_count": 25,
   "id": "fc461664",
   "metadata": {},
   "outputs": [
    {
     "name": "stderr",
     "output_type": "stream",
     "text": [
      "100%|███████████████████████████████████████████████████████████████████████████████████| 8/8 [00:00<00:00, 558.38it/s]"
     ]
    },
    {
     "name": "stdout",
     "output_type": "stream",
     "text": [
      "Total images in 0 : 2370\n",
      "Total images in 1 : 2382\n",
      "Total images in 2 : 2384\n",
      "Total images in 3 : 2288\n",
      "Total images in 4 : 2202\n",
      "Total images in 5 : 2160\n",
      "Total images in 6 : 2169\n",
      "Total images in 7 : 2180\n"
     ]
    },
    {
     "name": "stderr",
     "output_type": "stream",
     "text": [
      "\n"
     ]
    }
   ],
   "source": [
    "for i in tqdm(range(len(image_list))):\n",
    "    \n",
    "    imgs = os.path.join(image_folder, image_list[i])\n",
    "    \n",
    "    imgs_count = os.listdir(imgs)\n",
    "\n",
    "    print(f\"Total images in {i} : {len(imgs_count)}\")"
   ]
  },
  {
   "cell_type": "code",
   "execution_count": null,
   "id": "e3e12218",
   "metadata": {},
   "outputs": [],
   "source": []
  }
 ],
 "metadata": {
  "kernelspec": {
   "display_name": "Python 3 (ipykernel)",
   "language": "python",
   "name": "python3"
  },
  "language_info": {
   "codemirror_mode": {
    "name": "ipython",
    "version": 3
   },
   "file_extension": ".py",
   "mimetype": "text/x-python",
   "name": "python",
   "nbconvert_exporter": "python",
   "pygments_lexer": "ipython3",
   "version": "3.10.8"
  }
 },
 "nbformat": 4,
 "nbformat_minor": 5
}
