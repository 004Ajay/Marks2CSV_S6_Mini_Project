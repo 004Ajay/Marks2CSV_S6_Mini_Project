{
 "cells": [
  {
   "cell_type": "code",
   "execution_count": 4,
   "metadata": {},
   "outputs": [
    {
     "name": "stdout",
     "output_type": "stream",
     "text": [
      "1/1 [==============================] - 0s 495ms/step\n",
      "Numeric label: 3\n"
     ]
    }
   ],
   "source": [
    "import tensorflow as tf\n",
    "import numpy as np\n",
    "from PIL import Image\n",
    "\n",
    "# Load saved model\n",
    "model = tf.keras.models.load_model('MP.h5')\n",
    "\n",
    "# Load and preprocess image\n",
    "\n",
    "img = Image.open('C:/Users/EMIL/Desktop/college only data/College_Answer_Sheet_Dataset/college resized/3/3 (522).jpg')\n",
    "img = img.resize((40, 40))\n",
    "img=tf.image.rgb_to_grayscale(img)\n",
    "img_arr = np.array(img)\n",
    "img_arr = img_arr.astype('float32') / 255.0\n",
    "img_arr = np.expand_dims(img_arr, axis=0)\n",
    "\n",
    "# Make prediction\n",
    "pred = model.predict(img_arr)\n",
    "label = np.argmax(pred)\n",
    "\n",
    "print('Numeric label:', label)\n"
   ]
  }
 ],
 "metadata": {
  "kernelspec": {
   "display_name": "Python 3",
   "language": "python",
   "name": "python3"
  },
  "language_info": {
   "codemirror_mode": {
    "name": "ipython",
    "version": 3
   },
   "file_extension": ".py",
   "mimetype": "text/x-python",
   "name": "python",
   "nbconvert_exporter": "python",
   "pygments_lexer": "ipython3",
   "version": "3.10.6"
  },
  "orig_nbformat": 4
 },
 "nbformat": 4,
 "nbformat_minor": 2
}
