{
 "cells": [
  {
   "cell_type": "code",
   "execution_count": 46,
   "id": "49be296b",
   "metadata": {},
   "outputs": [],
   "source": [
    "import tensorflow as tf\n",
    "import matplotlib.pyplot as plt"
   ]
  },
  {
   "cell_type": "code",
   "execution_count": 47,
   "id": "ea3161c7",
   "metadata": {},
   "outputs": [],
   "source": [
    "# define the image size and batch size\n",
    "img_size = (90, 140) # Width, Height\n",
    "batch_size = 32"
   ]
  },
  {
   "cell_type": "code",
   "execution_count": 48,
   "id": "1d15324a",
   "metadata": {},
   "outputs": [],
   "source": [
    "# define the path to your dataset folder\n",
    "data_dir = \"D:/AJAYMON/AJAY/Programming/S6_Mini_Project/dataset/numbers\""
   ]
  },
  {
   "cell_type": "code",
   "execution_count": 57,
   "id": "b8bf6877",
   "metadata": {},
   "outputs": [
    {
     "name": "stdout",
     "output_type": "stream",
     "text": [
      "Found 21555 files belonging to 10 classes.\n",
      "Using 17244 files for training.\n",
      "Found 21555 files belonging to 10 classes.\n",
      "Using 4311 files for validation.\n"
     ]
    }
   ],
   "source": [
    "# use image_dataset_from_directory to load the data and split it into training and testing sets\n",
    "train_ds = tf.keras.preprocessing.image_dataset_from_directory(\n",
    "    data_dir,\n",
    "    validation_split=0.2,\n",
    "    subset='training',\n",
    "    seed=123,\n",
    "    image_size=img_size,\n",
    "    batch_size=batch_size)\n",
    "\n",
    "val_ds = tf.keras.preprocessing.image_dataset_from_directory(\n",
    "    data_dir,\n",
    "    validation_split=0.2,\n",
    "    subset='validation',\n",
    "    seed=123,\n",
    "    image_size=img_size,\n",
    "    batch_size=batch_size)"
   ]
  },
  {
   "cell_type": "code",
   "execution_count": 58,
   "id": "e7395b75",
   "metadata": {},
   "outputs": [
    {
     "name": "stdout",
     "output_type": "stream",
     "text": [
      "Class names: ['0', '1', '2', '3', '4', '5', '6', '7', '8', '9']\n",
      "Number of classes: 10\n"
     ]
    }
   ],
   "source": [
    "# inspect the class names and number of classes\n",
    "class_names = train_ds.class_names\n",
    "num_classes = len(class_names)\n",
    "print('Class names:', class_names)\n",
    "print('Number of classes:', num_classes)"
   ]
  },
  {
   "cell_type": "code",
   "execution_count": 55,
   "id": "a3968461",
   "metadata": {},
   "outputs": [],
   "source": [
    "# # convert the images to black and white\n",
    "# def grayscale(image, label):\n",
    "#     image = tf.image.rgb_to_grayscale(image)\n",
    "#     return image, label\n",
    "\n",
    "# train_ds = train_ds.map(grayscale)\n",
    "# val_ds = val_ds.map(grayscale)"
   ]
  },
  {
   "cell_type": "code",
   "execution_count": 20,
   "id": "198933b4",
   "metadata": {
    "collapsed": true
   },
   "outputs": [
    {
     "name": "stdout",
     "output_type": "stream",
     "text": [
      "tf.Tensor(\n",
      "[[[[253.      253.      253.     ]\n",
      "   [252.53572 252.53572 252.53572]\n",
      "   [251.92262 251.92262 251.92262]\n",
      "   ...\n",
      "   [251.9107  251.9107  251.9107 ]\n",
      "   [243.63693 243.63693 243.63693]\n",
      "   [236.38889 236.38889 236.38889]]\n",
      "\n",
      "  [[253.83333 253.83333 253.83333]\n",
      "   [253.75595 253.75595 253.75595]\n",
      "   [253.57738 253.57738 253.57738]\n",
      "   ...\n",
      "   [246.29167 246.29167 246.29167]\n",
      "   [242.86311 242.86311 242.86311]\n",
      "   [240.      240.      240.     ]]\n",
      "\n",
      "  [[254.      254.      254.     ]\n",
      "   [254.      254.      254.     ]\n",
      "   [254.04167 254.04167 254.04167]\n",
      "   ...\n",
      "   [243.74211 243.74211 243.74211]\n",
      "   [242.28374 242.28374 242.28374]\n",
      "   [242.      242.      242.     ]]\n",
      "\n",
      "  ...\n",
      "\n",
      "  [[254.61111 254.61111 254.61111]\n",
      "   [254.3274  254.3274  254.3274 ]\n",
      "   [254.04167 254.04167 254.04167]\n",
      "   ...\n",
      "   [243.80556 243.80556 243.80556]\n",
      "   [245.95435 245.95435 245.95435]\n",
      "   [248.61111 248.61111 248.61111]]\n",
      "\n",
      "  [[255.      255.      255.     ]\n",
      "   [254.53572 254.53572 254.53572]\n",
      "   [254.      254.      254.     ]\n",
      "   ...\n",
      "   [238.52985 238.52985 238.52985]\n",
      "   [242.1012  242.1012  242.1012 ]\n",
      "   [246.66669 246.66669 246.66669]]\n",
      "\n",
      "  [[255.      255.      255.     ]\n",
      "   [254.53572 254.53572 254.53572]\n",
      "   [254.      254.      254.     ]\n",
      "   ...\n",
      "   [241.1171  241.1171  241.1171 ]\n",
      "   [243.55154 243.55154 243.55154]\n",
      "   [246.38885 246.38885 246.38885]]]\n",
      "\n",
      "\n",
      " [[[229.27777 229.27777 229.27777]\n",
      "   [224.76389 224.76389 224.76389]\n",
      "   [219.55556 219.55556 219.55556]\n",
      "   ...\n",
      "   [238.90472 240.90472 239.90472]\n",
      "   [238.98215 240.98215 239.98215]\n",
      "   [238.38889 240.38889 239.38889]]\n",
      "\n",
      "  [[242.5     242.5     242.5    ]\n",
      "   [239.86905 239.86905 239.86905]\n",
      "   [236.65477 236.65477 236.65477]\n",
      "   ...\n",
      "   [247.63094 249.63094 248.63094]\n",
      "   [246.6488  248.6488  247.6488 ]\n",
      "   [245.33333 247.33333 246.33333]]\n",
      "\n",
      "  [[252.83333 252.83333 252.83333]\n",
      "   [252.44643 252.44643 252.44643]\n",
      "   [252.08333 252.08333 252.08333]\n",
      "   ...\n",
      "   [248.83333 250.83333 249.83333]\n",
      "   [248.67262 250.67262 249.67262]\n",
      "   [248.38889 250.38889 249.38889]]\n",
      "\n",
      "  ...\n",
      "\n",
      "  [[250.38889 250.38889 250.38889]\n",
      "   [250.7758  250.7758  250.7758 ]\n",
      "   [251.39485 251.39485 251.39485]\n",
      "   ...\n",
      "   [245.61308 245.61308 245.61308]\n",
      "   [248.55951 248.55951 248.55951]\n",
      "   [250.77777 250.77777 250.77777]]\n",
      "\n",
      "  [[251.33334 251.33334 251.33334]\n",
      "   [252.18454 252.18454 252.18454]\n",
      "   [253.27382 253.27382 253.27382]\n",
      "   ...\n",
      "   [248.45831 248.45831 248.45831]\n",
      "   [251.3869  251.3869  251.3869 ]\n",
      "   [253.16667 253.16667 253.16667]]\n",
      "\n",
      "  [[253.72223 253.72223 253.72223]\n",
      "   [254.18651 254.18651 254.18651]\n",
      "   [254.752   254.752   254.752  ]\n",
      "   ...\n",
      "   [249.70036 249.70036 249.70036]\n",
      "   [251.88492 251.88492 251.88492]\n",
      "   [253.27777 253.27777 253.27777]]]\n",
      "\n",
      "\n",
      " [[[244.83333 253.55556 252.83333]\n",
      "   [243.90475 252.75595 251.90475]\n",
      "   [242.64882 251.64882 250.43452]\n",
      "   ...\n",
      "   [240.94249 246.94249 246.94249]\n",
      "   [240.38889 246.38889 246.38889]\n",
      "   [240.38889 246.38889 246.38889]]\n",
      "\n",
      "  [[247.83333 255.      254.16667]\n",
      "   [247.29167 254.92262 253.625  ]\n",
      "   [246.6488  254.81548 252.94643]\n",
      "   ...\n",
      "   [247.3869  253.3869  253.3869 ]\n",
      "   [246.88692 252.88692 252.88692]\n",
      "   [246.5     252.5     252.5    ]]\n",
      "\n",
      "  [[245.61111 254.61111 250.83333]\n",
      "   [245.79167 254.79167 251.01389]\n",
      "   [246.      255.      251.22223]\n",
      "   ...\n",
      "   [247.7857  253.7857  253.70236]\n",
      "   [248.20833 254.20833 254.20833]\n",
      "   [248.38889 254.38889 254.38889]]\n",
      "\n",
      "  ...\n",
      "\n",
      "  [[250.38889 254.38889 253.38889]\n",
      "   [250.20833 254.20833 253.20833]\n",
      "   [249.95833 254.10715 253.06548]\n",
      "   ...\n",
      "   [249.2242  253.2242  252.2242 ]\n",
      "   [249.28374 253.28374 252.28374]\n",
      "   [249.      253.      252.     ]]\n",
      "\n",
      "  [[250.      254.      253.     ]\n",
      "   [250.      254.      253.     ]\n",
      "   [249.89285 254.10715 253.     ]\n",
      "   ...\n",
      "   [249.6726  253.6726  252.6726 ]\n",
      "   [249.29762 253.29762 252.29762]\n",
      "   [248.83333 252.83333 251.83333]]\n",
      "\n",
      "  [[249.27777 253.27777 252.27777]\n",
      "   [249.27777 253.27777 252.27777]\n",
      "   [249.248   253.4623  252.35515]\n",
      "   ...\n",
      "   [247.09523 251.09523 250.09523]\n",
      "   [246.2976  250.2976  249.2976 ]\n",
      "   [245.83331 249.83331 248.83331]]]\n",
      "\n",
      "\n",
      " ...\n",
      "\n",
      "\n",
      " [[[247.55556 247.55556 247.55556]\n",
      "   [249.28374 249.28374 249.28374]\n",
      "   [251.64682 251.64682 251.64682]\n",
      "   ...\n",
      "   [245.23016 245.23016 245.23016]\n",
      "   [240.21826 240.21826 240.21826]\n",
      "   [235.83333 235.83333 235.83333]]\n",
      "\n",
      "  [[251.5     251.5     251.5    ]\n",
      "   [252.11905 252.11905 252.11905]\n",
      "   [252.95834 252.95834 252.95834]\n",
      "   ...\n",
      "   [247.9524  247.9524  247.9524 ]\n",
      "   [244.72025 244.72025 244.72025]\n",
      "   [242.16667 242.16667 242.16667]]\n",
      "\n",
      "  [[254.38889 254.38889 254.38889]\n",
      "   [254.38889 254.38889 254.38889]\n",
      "   [254.34721 254.34721 254.34721]\n",
      "   ...\n",
      "   [249.23018 249.23018 249.23018]\n",
      "   [248.04562 248.04562 248.04562]\n",
      "   [247.55556 247.55556 247.55556]]\n",
      "\n",
      "  ...\n",
      "\n",
      "  [[253.38889 253.38889 253.38889]\n",
      "   [253.6726  253.6726  253.6726 ]\n",
      "   [254.04167 254.04167 254.04167]\n",
      "   ...\n",
      "   [251.41272 251.41272 251.41272]\n",
      "   [251.10318 251.10318 251.10318]\n",
      "   [251.      251.      251.     ]]\n",
      "\n",
      "  [[253.      253.      253.     ]\n",
      "   [253.      253.      253.     ]\n",
      "   [253.10715 253.10715 253.10715]\n",
      "   ...\n",
      "   [251.64288 251.64288 251.64288]\n",
      "   [248.91072 248.91072 248.91072]\n",
      "   [246.66666 246.66666 246.66666]]\n",
      "\n",
      "  [[252.27777 252.27777 252.27777]\n",
      "   [252.61308 252.61308 252.61308]\n",
      "   [253.10715 253.10715 253.10715]\n",
      "   ...\n",
      "   [249.76187 249.76187 249.76187]\n",
      "   [243.68448 243.68448 243.68448]\n",
      "   [238.49994 238.49994 238.49994]]]\n",
      "\n",
      "\n",
      " [[[135.33333 135.33333 135.33333]\n",
      "   [164.40279 164.40279 164.40279]\n",
      "   [202.20634 202.20634 202.20634]\n",
      "   ...\n",
      "   [253.65279 253.65279 253.65279]\n",
      "   [253.07541 253.07541 253.07541]\n",
      "   [252.61111 252.61111 252.61111]]\n",
      "\n",
      "  [[207.5     207.5     207.5    ]\n",
      "   [221.11905 221.11905 221.11905]\n",
      "   [237.3869  237.3869  237.3869 ]\n",
      "   ...\n",
      "   [251.17264 251.17264 251.17264]\n",
      "   [250.29762 250.29762 250.29762]\n",
      "   [249.83333 249.83333 249.83333]]\n",
      "\n",
      "  [[234.72223 234.72223 234.72223]\n",
      "   [236.81151 236.81151 236.81151]\n",
      "   [239.0258  239.0258  239.0258 ]\n",
      "   ...\n",
      "   [254.24007 254.24007 254.24007]\n",
      "   [253.85318 253.85318 253.85318]\n",
      "   [253.38889 253.38889 253.38889]]\n",
      "\n",
      "  ...\n",
      "\n",
      "  [[249.77777 249.77777 249.77777]\n",
      "   [250.34523 250.34523 250.34523]\n",
      "   [251.      251.      251.     ]\n",
      "   ...\n",
      "   [253.10715 253.10715 253.10715]\n",
      "   [253.      253.      253.     ]\n",
      "   [253.      253.      253.     ]]\n",
      "\n",
      "  [[248.      248.      248.     ]\n",
      "   [249.23808 249.23808 249.23808]\n",
      "   [250.68451 250.68451 250.68451]\n",
      "   ...\n",
      "   [252.2143  252.2143  252.2143 ]\n",
      "   [252.5357  252.5357  252.5357 ]\n",
      "   [253.      253.      253.     ]]\n",
      "\n",
      "  [[247.27777 247.27777 247.27777]\n",
      "   [247.74205 247.74205 247.74205]\n",
      "   [248.23015 248.23015 248.23015]\n",
      "   ...\n",
      "   [252.2143  252.2143  252.2143 ]\n",
      "   [252.5357  252.5357  252.5357 ]\n",
      "   [253.      253.      253.     ]]]\n",
      "\n",
      "\n",
      " [[[215.77777 216.77777 218.77777]\n",
      "   [231.9504  232.9504  234.9504 ]\n",
      "   [250.06944 251.06944 253.06944]\n",
      "   ...\n",
      "   [251.      252.      254.     ]\n",
      "   [251.      252.      254.     ]\n",
      "   [251.      252.      254.     ]]\n",
      "\n",
      "  [[234.66667 235.66667 237.66667]\n",
      "   [238.84525 239.84525 241.84525]\n",
      "   [244.29167 245.29167 247.29167]\n",
      "   ...\n",
      "   [251.83333 252.83333 254.83333]\n",
      "   [251.83333 252.83333 254.83333]\n",
      "   [251.83333 252.83333 254.83333]]\n",
      "\n",
      "  [[244.22223 245.22223 247.22223]\n",
      "   [246.05357 247.05357 249.05357]\n",
      "   [248.27977 249.27977 251.27977]\n",
      "   ...\n",
      "   [252.4127  253.80159 254.56944]\n",
      "   [252.38889 253.77777 254.61111]\n",
      "   [252.38889 253.77777 254.61111]]\n",
      "\n",
      "  ...\n",
      "\n",
      "  [[196.44434 197.44434 201.44434]\n",
      "   [218.96223 219.96223 223.96223]\n",
      "   [244.53372 245.53372 249.45038]\n",
      "   ...\n",
      "   [251.58731 253.58731 250.8016 ]\n",
      "   [251.28374 253.28374 250.28374]\n",
      "   [251.      253.      250.     ]]\n",
      "\n",
      "  [[191.3334  192.3334  196.3334 ]\n",
      "   [213.5417  214.5417  218.5417 ]\n",
      "   [239.9345  240.9345  244.9345 ]\n",
      "   ...\n",
      "   [250.06548 252.06548 249.27977]\n",
      "   [249.29762 251.29762 248.29762]\n",
      "   [248.83333 250.83333 247.83333]]\n",
      "\n",
      "  [[156.05511 157.05511 161.05511]\n",
      "   [180.63655 181.63655 185.63655]\n",
      "   [212.26169 213.26169 217.26169]\n",
      "   ...\n",
      "   [249.9663  251.9663  249.18059]\n",
      "   [249.18652 251.18652 248.18652]\n",
      "   [248.72223 250.72223 247.72223]]]], shape=(32, 90, 140, 3), dtype=float32)\n"
     ]
    }
   ],
   "source": [
    "for images, labels in train_ds.take(1):\n",
    "    print(images)"
   ]
  },
  {
   "cell_type": "code",
   "execution_count": 25,
   "id": "e5ebb77c",
   "metadata": {
    "collapsed": true
   },
   "outputs": [
    {
     "data": {
      "text/plain": [
       "<matplotlib.image.AxesImage at 0x2bb1ed71c60>"
      ]
     },
     "execution_count": 25,
     "metadata": {},
     "output_type": "execute_result"
    },
    {
     "data": {
      "image/png": "[encoded data removed]",
      "text/plain": [
       "<Figure size 640x480 with 1 Axes>"
      ]
     },
     "metadata": {},
     "output_type": "display_data"
    }
   ],
   "source": [
    "im = images[0][0].numpy()\n",
    "\n",
    "plt.imshow(im)"
   ]
  },
  {
   "cell_type": "code",
   "execution_count": 56,
   "id": "c3e53a05",
   "metadata": {},
   "outputs": [
    {
     "ename": "AttributeError",
     "evalue": "'_MapDataset' object has no attribute 'class_names'",
     "output_type": "error",
     "traceback": [
      "\u001b[1;31m---------------------------------------------------------------------------\u001b[0m",
      "\u001b[1;31mAttributeError\u001b[0m                            Traceback (most recent call last)",
      "Cell \u001b[1;32mIn [56], line 1\u001b[0m\n\u001b[1;32m----> 1\u001b[0m \u001b[43mval_ds\u001b[49m\u001b[38;5;241;43m.\u001b[39;49m\u001b[43mclass_names\u001b[49m\n",
      "\u001b[1;31mAttributeError\u001b[0m: '_MapDataset' object has no attribute 'class_names'"
     ]
    }
   ],
   "source": [
    "val_ds.class_names"
   ]
  },
  {
   "cell_type": "code",
   "execution_count": null,
   "id": "53ee43b4",
   "metadata": {},
   "outputs": [],
   "source": []
  },
  {
   "cell_type": "code",
   "execution_count": null,
   "id": "4f0769af",
   "metadata": {},
   "outputs": [],
   "source": []
  },
  {
   "cell_type": "markdown",
   "id": "147b6eb9",
   "metadata": {},
   "source": [
    "## Training Neural Network"
   ]
  },
  {
   "cell_type": "code",
   "execution_count": 28,
   "id": "f8f6f965",
   "metadata": {},
   "outputs": [],
   "source": [
    "# define the input shape of the images\n",
    "inp_shape = (90, 140, 1)  # 1 for grayscale images"
   ]
  },
  {
   "cell_type": "code",
   "execution_count": 29,
   "id": "08e4ee9d",
   "metadata": {},
   "outputs": [],
   "source": [
    "# define the CNN architecture\n",
    "model = tf.keras.Sequential([\n",
    "    tf.keras.layers.Conv2D(32, (3, 3), activation='relu', input_shape=inp_shape),\n",
    "    tf.keras.layers.MaxPooling2D((2, 2)),\n",
    "    tf.keras.layers.Conv2D(64, (3, 3), activation='relu'),\n",
    "    tf.keras.layers.MaxPooling2D((2, 2)),\n",
    "    tf.keras.layers.Flatten(),\n",
    "    tf.keras.layers.Dense(64, activation='relu'),\n",
    "    tf.keras.layers.Dense(10)  # 10 classes (0-9)\n",
    "])"
   ]
  },
  {
   "cell_type": "code",
   "execution_count": 30,
   "id": "c2f4f4ad",
   "metadata": {},
   "outputs": [],
   "source": [
    "# compile the model\n",
    "model.compile(optimizer='adam',\n",
    "              loss=tf.keras.losses.SparseCategoricalCrossentropy(from_logits=True),\n",
    "              metrics=['accuracy'])"
   ]
  },
  {
   "cell_type": "code",
   "execution_count": 31,
   "id": "17ea779a",
   "metadata": {},
   "outputs": [
    {
     "ename": "NameError",
     "evalue": "name 'X_train' is not defined",
     "output_type": "error",
     "traceback": [
      "\u001b[1;31m---------------------------------------------------------------------------\u001b[0m",
      "\u001b[1;31mNameError\u001b[0m                                 Traceback (most recent call last)",
      "Cell \u001b[1;32mIn [31], line 3\u001b[0m\n\u001b[0;32m      1\u001b[0m \u001b[38;5;66;03m# load your data and preprocess it\u001b[39;00m\n\u001b[0;32m      2\u001b[0m \u001b[38;5;66;03m# assuming your data is stored in X_train, y_train, X_test, y_test\u001b[39;00m\n\u001b[1;32m----> 3\u001b[0m X_train \u001b[38;5;241m=\u001b[39m \u001b[43mX_train\u001b[49m\u001b[38;5;241m.\u001b[39mreshape(\u001b[38;5;241m-\u001b[39m\u001b[38;5;241m1\u001b[39m, \u001b[38;5;241m40\u001b[39m, \u001b[38;5;241m40\u001b[39m, \u001b[38;5;241m1\u001b[39m)\u001b[38;5;241m.\u001b[39mastype(\u001b[38;5;124m'\u001b[39m\u001b[38;5;124mfloat32\u001b[39m\u001b[38;5;124m'\u001b[39m) \u001b[38;5;241m/\u001b[39m \u001b[38;5;241m255.0\u001b[39m\n\u001b[0;32m      4\u001b[0m X_test \u001b[38;5;241m=\u001b[39m X_test\u001b[38;5;241m.\u001b[39mreshape(\u001b[38;5;241m-\u001b[39m\u001b[38;5;241m1\u001b[39m, \u001b[38;5;241m40\u001b[39m, \u001b[38;5;241m40\u001b[39m, \u001b[38;5;241m1\u001b[39m)\u001b[38;5;241m.\u001b[39mastype(\u001b[38;5;124m'\u001b[39m\u001b[38;5;124mfloat32\u001b[39m\u001b[38;5;124m'\u001b[39m) \u001b[38;5;241m/\u001b[39m \u001b[38;5;241m255.0\u001b[39m\n",
      "\u001b[1;31mNameError\u001b[0m: name 'X_train' is not defined"
     ]
    }
   ],
   "source": [
    "# load your data and preprocess it\n",
    "# assuming your data is stored in X_train, y_train, X_test, y_test\n",
    "X_train = X_train.reshape(-1, 40, 40, 1).astype('float32') / 255.0\n",
    "X_test = X_test.reshape(-1, 40, 40, 1).astype('float32') / 255.0"
   ]
  },
  {
   "cell_type": "code",
   "execution_count": 36,
   "id": "874efed6",
   "metadata": {},
   "outputs": [
    {
     "name": "stdout",
     "output_type": "stream",
     "text": [
      "Epoch 1/10\n"
     ]
    },
    {
     "ename": "ValueError",
     "evalue": "in user code:\n\n    File \"C:\\Users\\ASUS\\AppData\\Local\\Programs\\Python\\Python310\\lib\\site-packages\\keras\\engine\\training.py\", line 1284, in train_function  *\n        return step_function(self, iterator)\n    File \"C:\\Users\\ASUS\\AppData\\Local\\Programs\\Python\\Python310\\lib\\site-packages\\keras\\engine\\training.py\", line 1268, in step_function  **\n        outputs = model.distribute_strategy.run(run_step, args=(data,))\n    File \"C:\\Users\\ASUS\\AppData\\Local\\Programs\\Python\\Python310\\lib\\site-packages\\keras\\engine\\training.py\", line 1249, in run_step  **\n        outputs = model.train_step(data)\n    File \"C:\\Users\\ASUS\\AppData\\Local\\Programs\\Python\\Python310\\lib\\site-packages\\keras\\engine\\training.py\", line 1050, in train_step\n        y_pred = self(x, training=True)\n    File \"C:\\Users\\ASUS\\AppData\\Local\\Programs\\Python\\Python310\\lib\\site-packages\\keras\\utils\\traceback_utils.py\", line 70, in error_handler\n        raise e.with_traceback(filtered_tb) from None\n    File \"C:\\Users\\ASUS\\AppData\\Local\\Programs\\Python\\Python310\\lib\\site-packages\\keras\\engine\\input_spec.py\", line 280, in assert_input_compatibility\n        raise ValueError(\n\n    ValueError: Exception encountered when calling layer 'sequential_1' (type Sequential).\n    \n    Input 0 of layer \"conv2d_2\" is incompatible with the layer: expected axis -1 of input shape to have value 1, but received input with shape (None, 90, 140, 3)\n    \n    Call arguments received by layer 'sequential_1' (type Sequential):\n      • inputs=tf.Tensor(shape=(None, 90, 140, 3), dtype=float32)\n      • training=True\n      • mask=None\n",
     "output_type": "error",
     "traceback": [
      "\u001b[1;31m---------------------------------------------------------------------------\u001b[0m",
      "\u001b[1;31mValueError\u001b[0m                                Traceback (most recent call last)",
      "Cell \u001b[1;32mIn [36], line 4\u001b[0m\n\u001b[0;32m      1\u001b[0m \u001b[38;5;66;03m# train the model\u001b[39;00m\n\u001b[0;32m      2\u001b[0m \u001b[38;5;66;03m# model.fit(train_ds, train_ds.class_names, epochs=10, validation_data=(val_ds, val_ds.class_names))\u001b[39;00m\n\u001b[1;32m----> 4\u001b[0m \u001b[43mmodel\u001b[49m\u001b[38;5;241;43m.\u001b[39;49m\u001b[43mfit\u001b[49m\u001b[43m(\u001b[49m\u001b[43mtrain_ds\u001b[49m\u001b[43m,\u001b[49m\u001b[43m \u001b[49m\u001b[43mepochs\u001b[49m\u001b[38;5;241;43m=\u001b[39;49m\u001b[38;5;241;43m10\u001b[39;49m\u001b[43m)\u001b[49m\n",
      "File \u001b[1;32m~\\AppData\\Local\\Programs\\Python\\Python310\\lib\\site-packages\\keras\\utils\\traceback_utils.py:70\u001b[0m, in \u001b[0;36mfilter_traceback.<locals>.error_handler\u001b[1;34m(*args, **kwargs)\u001b[0m\n\u001b[0;32m     67\u001b[0m     filtered_tb \u001b[38;5;241m=\u001b[39m _process_traceback_frames(e\u001b[38;5;241m.\u001b[39m__traceback__)\n\u001b[0;32m     68\u001b[0m     \u001b[38;5;66;03m# To get the full stack trace, call:\u001b[39;00m\n\u001b[0;32m     69\u001b[0m     \u001b[38;5;66;03m# `tf.debugging.disable_traceback_filtering()`\u001b[39;00m\n\u001b[1;32m---> 70\u001b[0m     \u001b[38;5;28;01mraise\u001b[39;00m e\u001b[38;5;241m.\u001b[39mwith_traceback(filtered_tb) \u001b[38;5;28;01mfrom\u001b[39;00m \u001b[38;5;28mNone\u001b[39m\n\u001b[0;32m     71\u001b[0m \u001b[38;5;28;01mfinally\u001b[39;00m:\n\u001b[0;32m     72\u001b[0m     \u001b[38;5;28;01mdel\u001b[39;00m filtered_tb\n",
      "File \u001b[1;32m~\\AppData\\Local\\Temp\\__autograph_generated_file7_o1qb7k.py:15\u001b[0m, in \u001b[0;36mouter_factory.<locals>.inner_factory.<locals>.tf__train_function\u001b[1;34m(iterator)\u001b[0m\n\u001b[0;32m     13\u001b[0m \u001b[38;5;28;01mtry\u001b[39;00m:\n\u001b[0;32m     14\u001b[0m     do_return \u001b[38;5;241m=\u001b[39m \u001b[38;5;28;01mTrue\u001b[39;00m\n\u001b[1;32m---> 15\u001b[0m     retval_ \u001b[38;5;241m=\u001b[39m ag__\u001b[38;5;241m.\u001b[39mconverted_call(ag__\u001b[38;5;241m.\u001b[39mld(step_function), (ag__\u001b[38;5;241m.\u001b[39mld(\u001b[38;5;28mself\u001b[39m), ag__\u001b[38;5;241m.\u001b[39mld(iterator)), \u001b[38;5;28;01mNone\u001b[39;00m, fscope)\n\u001b[0;32m     16\u001b[0m \u001b[38;5;28;01mexcept\u001b[39;00m:\n\u001b[0;32m     17\u001b[0m     do_return \u001b[38;5;241m=\u001b[39m \u001b[38;5;28;01mFalse\u001b[39;00m\n",
      "\u001b[1;31mValueError\u001b[0m: in user code:\n\n    File \"C:\\Users\\ASUS\\AppData\\Local\\Programs\\Python\\Python310\\lib\\site-packages\\keras\\engine\\training.py\", line 1284, in train_function  *\n        return step_function(self, iterator)\n    File \"C:\\Users\\ASUS\\AppData\\Local\\Programs\\Python\\Python310\\lib\\site-packages\\keras\\engine\\training.py\", line 1268, in step_function  **\n        outputs = model.distribute_strategy.run(run_step, args=(data,))\n    File \"C:\\Users\\ASUS\\AppData\\Local\\Programs\\Python\\Python310\\lib\\site-packages\\keras\\engine\\training.py\", line 1249, in run_step  **\n        outputs = model.train_step(data)\n    File \"C:\\Users\\ASUS\\AppData\\Local\\Programs\\Python\\Python310\\lib\\site-packages\\keras\\engine\\training.py\", line 1050, in train_step\n        y_pred = self(x, training=True)\n    File \"C:\\Users\\ASUS\\AppData\\Local\\Programs\\Python\\Python310\\lib\\site-packages\\keras\\utils\\traceback_utils.py\", line 70, in error_handler\n        raise e.with_traceback(filtered_tb) from None\n    File \"C:\\Users\\ASUS\\AppData\\Local\\Programs\\Python\\Python310\\lib\\site-packages\\keras\\engine\\input_spec.py\", line 280, in assert_input_compatibility\n        raise ValueError(\n\n    ValueError: Exception encountered when calling layer 'sequential_1' (type Sequential).\n    \n    Input 0 of layer \"conv2d_2\" is incompatible with the layer: expected axis -1 of input shape to have value 1, but received input with shape (None, 90, 140, 3)\n    \n    Call arguments received by layer 'sequential_1' (type Sequential):\n      • inputs=tf.Tensor(shape=(None, 90, 140, 3), dtype=float32)\n      • training=True\n      • mask=None\n"
     ]
    }
   ],
   "source": [
    "# train the model\n",
    "# model.fit(train_ds, train_ds.class_names, epochs=10, validation_data=(val_ds, val_ds.class_names))\n",
    "\n",
    "model.fit(train_ds, epochs=10)"
   ]
  },
  {
   "cell_type": "code",
   "execution_count": null,
   "id": "8535b03b",
   "metadata": {},
   "outputs": [],
   "source": [
    "# evaluate the model\n",
    "test_loss, test_acc = model.evaluate(X_test, y_test, verbose=2)\n",
    "print('Test accuracy:', test_acc)"
   ]
  },
  {
   "cell_type": "code",
   "execution_count": null,
   "id": "e3a14b3c",
   "metadata": {},
   "outputs": [],
   "source": []
  }
 ],
 "metadata": {
  "kernelspec": {
   "display_name": "Python 3 (ipykernel)",
   "language": "python",
   "name": "python3"
  },
  "language_info": {
   "codemirror_mode": {
    "name": "ipython",
    "version": 3
   },
   "file_extension": ".py",
   "mimetype": "text/x-python",
   "name": "python",
   "nbconvert_exporter": "python",
   "pygments_lexer": "ipython3",
   "version": "3.10.8"
  }
 },
 "nbformat": 4,
 "nbformat_minor": 5
}
