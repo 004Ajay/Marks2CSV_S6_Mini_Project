{
 "cells": [
  {
   "cell_type": "code",
   "execution_count": 1,
   "id": "7756bfbb",
   "metadata": {},
   "outputs": [],
   "source": [
    "## added if case for handling list index out of range error"
   ]
  },
  {
   "cell_type": "code",
   "execution_count": 2,
   "id": "8abc4dc9",
   "metadata": {},
   "outputs": [],
   "source": [
    "import time\n",
    "st = time.time()\n",
    "\n",
    "from img2table.document import Image\n",
    "from img2table.ocr import PaddleOCR\n",
    "import pandas as pd\n",
    "from pdf2image import convert_from_path\n",
    "\n",
    "from PIL import Image as PIL_Image, ImageDraw"
   ]
  },
  {
   "cell_type": "code",
   "execution_count": 3,
   "id": "0e906b86",
   "metadata": {},
   "outputs": [],
   "source": [
    "# Dictionary for storing marks of each papers\n",
    "my_dict = {'1a': [], '1b': [], '1c': [], '2a': [], '2b': [], '2c': [], '3a': [], '3b': [], '3c': [], '4a': [], '4b': [], '4c': [], '5a': [], '5b': [], '5c': [], '6a': [], '6b': [], '6c': [], '7a': [], '7b': [], '7c': [], '8a': [], '8b': [], '8c': [], '9a': [], '9b': [], '9c': [], '10a': [], '10b': [], '10c': [], '11a': [], '11b': [], '11c': [], '12a': [], '12b': [], '12c': []}"
   ]
  },
  {
   "cell_type": "code",
   "execution_count": 4,
   "id": "c8e671d5",
   "metadata": {},
   "outputs": [],
   "source": [
    "images = convert_from_path('D:/AJAYMON/AJAY/Programming/Auto_Excel_Mark_Entry/Codes/image to table/MP_pdf2.pdf') # change or give PDF name here....................new_exm.pdf, MP_pdf1.pdf\n",
    "\n",
    "for i in range(len(images)):\n",
    "    img = images[i]\n",
    "    _, height = img.size\n",
    "    cropped_img = img.crop((150, height / 2 + 50, 1600, height - 300)) # left, top, right, bottom\n",
    "    cropped_img.save(f\"D:/AJAYMON/AJAY/Programming/Auto_Excel_Mark_Entry/Codes/image to table/temp/ima{i}.jpg\")\n",
    "    \n",
    "    # img = np.array(cropped_img)\n",
    "\n",
    "    # Convert the image to grayscale\n",
    "    # gray = cv2.cvtColor(img, cv2.COLOR_BGR2GRAY)\n",
    "\n",
    "    # # Apply thresholding to make the black lines more black and white areas more white\n",
    "    # thresh = cv2.threshold(gray, 0, 255, cv2.THRESH_BINARY_INV + cv2.THRESH_OTSU)[1]\n",
    "\n",
    "    # # Apply morphological operations to further enhance the image\n",
    "    # kernel = cv2.getStructuringElement(cv2.MORPH_RECT, (3,3))\n",
    "    # closed = cv2.morphologyEx(thresh, cv2.MORPH_CLOSE, kernel)\n",
    "\n",
    "    # # Apply dilation to make the lines thicker\n",
    "    # kernel = cv2.getStructuringElement(cv2.MORPH_RECT, (2,2))\n",
    "    # dilated = cv2.dilate(closed, kernel, iterations=1)\n",
    "    \n",
    "    # cv2.imwrite(f\"D:/AJAYMON/AJAY/Programming/Auto_Excel_Mark_Entry/Codes/image to table/temp/ima{i}.jpg\", gray)\n",
    "\n",
    "# ----------------------------------------------------------------------------------------------------------------------------------    "
   ]
  },
  {
   "cell_type": "code",
   "execution_count": 5,
   "id": "0b91262f",
   "metadata": {},
   "outputs": [
    {
     "name": "stdout",
     "output_type": "stream",
     "text": [
      "1 - 36\n",
      "2 - 36\n",
      "3 - 36\n",
      "4 - 36\n",
      "5 - 36\n",
      "6 - 36\n",
      "7 - 36\n",
      "8 - 36\n",
      "9 - 36\n",
      "10 - 36\n",
      "11 - 39\n",
      "12 - 33\n",
      "13 - 36\n",
      "14 - 36\n",
      "15 - 36\n",
      "16 - 36\n",
      "17 - 36\n",
      "18 - 36\n",
      "19 - 36\n",
      "20 - 36\n",
      "21 - 36\n",
      "22 - 33\n",
      "23 - 33\n",
      "24 - 36\n",
      "25 - 36\n",
      "26 - 36\n",
      "27 - 36\n",
      "28 - 36\n",
      "29 - 36\n",
      "30 - 36\n",
      "31 - 36\n",
      "32 - 36\n",
      "33 - 36\n",
      "34 - 36\n"
     ]
    }
   ],
   "source": [
    "for i in range(len(images)):\n",
    "    ## Image opening & performing OCR\n",
    "    paddle_ocr = PaddleOCR(lang=\"en\")\n",
    "    src = f\"D:/AJAYMON/AJAY/Programming/Auto_Excel_Mark_Entry/Codes/image to table/temp/ima{i}.jpg\"\n",
    "\n",
    "    doc = Image(src, dpi=200)\n",
    "    extracted_tables = doc.extract_tables(ocr=paddle_ocr, implicit_rows=True, min_confidence=50)\n",
    "\n",
    "    # Load the image using PIL\n",
    "    img = PIL_Image.open(src) # comment this --------------------------------------------------\n",
    "\n",
    "    # Create a draw object\n",
    "    draw = ImageDraw.Draw(img) # comment this --------------------------------------------------\n",
    "\n",
    "    for table in extracted_tables:\n",
    "        for row in table.content.values():\n",
    "            for cell in row:\n",
    "                draw.rectangle((cell.bbox.x1, cell.bbox.y1, cell.bbox.x2, cell.bbox.y2), outline=\"red\", width=3)\n",
    "                \n",
    "    img.save(f\"D:/AJAYMON/AJAY/Programming/Auto_Excel_Mark_Entry/Codes/image to table/temp/img{i}_with_redlines{i}.jpg\") # comment this --------------------------------------------------\n",
    "\n",
    "    df = table.df\n",
    "    df = df.iloc[1:, 1:] # deleting first row and column\n",
    "    df = df.drop(index=df.index[-1]) # remove the last row\n",
    "\n",
    "    ## Flattening & adding marks to my_dict\n",
    "    arr = df.to_numpy()\n",
    "    flat = arr.flatten(order='F') # flattening column-wise\n",
    "    cell_vals = [i for i in flat]\n",
    "\n",
    "    flat_len = len(cell_vals)\n",
    "\n",
    "    print(i+1, \"-\", flat_len) # comment this --------------------------------------------------\n",
    "\n",
    "    if flat_len < 36:\n",
    "        # my_dict = {key: None for key in my_dict}\n",
    "        pass\n",
    "    else:\n",
    "        # Adding values to dictionary\n",
    "        i = 0\n",
    "        for key in my_dict:\n",
    "            my_dict[key].append(cell_vals[i])\n",
    "            i+=1"
   ]
  },
  {
   "cell_type": "code",
   "execution_count": 6,
   "id": "b2684476",
   "metadata": {},
   "outputs": [],
   "source": [
    "## Dictionary to dataframe & it's preprocessing\n",
    "\n",
    "### The df output may have 'None' values but they're actually NaN, so they won't come in exported CSV file\n",
    "# dict_df = pd.DataFrame(my_dict)\n",
    "# col_name = dict_df.columns[(dict_df == 'None').all()] # finding the column with \"None\" word\n",
    "# dict_df = dict_df.drop(col_name, axis=1) # delete the identified columns\n",
    "# dict_df = dict_df.replace(to_replace=\"None\", value=np.nan) # Replacing all \"None\" to NaN, which will be empty when converted to CSV\n",
    "# dict_df = dict_df.assign(sum=dict_df.sum(axis=1)) # create a new column \"row_sum\" with the sum of each row\n",
    "# dict_df = dict_df.assign(Sum_more_than_50=dict_df.apply(lambda x: 'Error' if x['sum'] > 50 else '', axis=1)) # add a new column \"error\" with \"Error\" if row_sum is greater than 50\n",
    "\n",
    "# print(dict_df)\n",
    "\n",
    "dict_df = pd.DataFrame(my_dict)"
   ]
  },
  {
   "cell_type": "code",
   "execution_count": 7,
   "id": "d9b151b2",
   "metadata": {},
   "outputs": [],
   "source": [
    "dict_df.to_csv(\"D:/AJAYMON/AJAY/Programming/Auto_Excel_Mark_Entry/Codes/image to table/unprocessed_dict.csv\", index=False)\n",
    "\n",
    "\n",
    "# col_name = dict_df.columns[(dict_df == 'None').all()] # finding the column with \"None\" word\n",
    "# dict_df = dict_df.drop(col_name, axis=1) # delete the identified columns\n",
    "# dict_df = dict_df.replace(to_replace=\"None\", value=np.nan) # Replacing all \"None\" to NaN, which will be empty when converted to CSV\n",
    "# valid_cols = dict_df.select_dtypes(include=np.number).columns # Select only the valid columns with numeric data types\n",
    "# dict_df = dict_df.assign(sum=dict_df[valid_cols].sum(axis=1)) # create a new column \"row_sum\" with the sum of each row\n",
    "# dict_df = dict_df.assign(Sum_more_than_50=dict_df.apply(lambda x: 'Error' if x['sum'] > 50 else '', axis=1)) # add a new column \"error\" with \"Error\" if row_sum is greater than 50\n",
    "\n",
    "dict_df = dict_df.dropna(axis=1, how='all')\n",
    "dict_df.fillna(0, inplace=True)"
   ]
  },
  {
   "cell_type": "code",
   "execution_count": 8,
   "id": "65131e1c",
   "metadata": {},
   "outputs": [
    {
     "name": "stdout",
     "output_type": "stream",
     "text": [
      "   1a  2a 3a 4a 5a 6a 7a 8a 9a 10a 11a 12a\n",
      "0   0   0  3  0  0  4  0  0  0   0   0   0\n",
      "1   3   0  3  0  0  4  -  0  0   0   0   0\n",
      "2   3   3  2  0  0  5  5  0  3   0   3   2\n",
      "3   3   3  a  3  a  0  0  0  3   0   0   0\n",
      "4   3   3  3  0  0  0  0  0  5   S   0   0\n",
      "5   2   3  3  0  0  7  0  0  9   2   0   0\n",
      "6   3   3  3  3  3  0  S  0  0   7   0   6\n",
      "7   3   3  3  0  0  0  0  0  0   S   0   7\n",
      "8   3   2  2  0  0  2  0  0  0   0   0   0\n",
      "9   3   &  3  0  0  0  0  3  0   0   0   4\n",
      "10  0   &  2  0  0  0  6  0  0   0   0   4\n",
      "11  0   0  2  2  0  4  0  3  2   0   0   0\n",
      "12  2   0  3  3  3  0  0  7  6   0   0   0\n",
      "13  3  23  3  0  0  0  0  0  0   0   0   0\n",
      "14  0   0  3  0  0  0  0  0  0   3   0   3\n",
      "15  3   0  3  2  2  0  7  0  S   0   2   0\n",
      "16  2   3  3  0  0  0  0  a  0   0   0   0\n",
      "17  3   a  3  0  0  2  2  0  0   0   0   0\n",
      "18  3   &  3  0  0  2  2  0  -   0   2   0\n",
      "19  3   3  3  0  0  0  0  S  4   S   0   3\n",
      "20  3   2  2  3  3  0  0  0  0   7   0   0\n",
      "21  2   0  3  0  0  0  S  0  0   5   0   0\n",
      "22  &   3  3  0  0  2  3  0  0   0   0   0\n",
      "23  0   3  3  0  0  6  3  2  0   S   0   0\n",
      "24  2   0  2  0  &  0  0  0  0   0   0   0\n",
      "25  3   0  3  0  3  7  6  0  6   7   0   0\n",
      "26  3   2  3  0  0  0  3  0  0   0   0   0\n",
      "27  3   3  3  0  3  S  S  7  0   0   0   2\n",
      "28  3   3  3  3  3  S  4  0  0   0   0   0\n",
      "29  3   3  3  0  2  0  0  3  3   0   0   0\n",
      "30  0   3  3  0  &  6  0  0  0   6   5   0\n"
     ]
    }
   ],
   "source": [
    "print(dict_df)"
   ]
  },
  {
   "cell_type": "code",
   "execution_count": 9,
   "id": "4e8e0023",
   "metadata": {},
   "outputs": [],
   "source": [
    "# saving dict as csv\n",
    "dict_df.to_csv(\"D:/AJAYMON/AJAY/Programming/Auto_Excel_Mark_Entry/Codes/image to table/MP2.csv\", index=False)"
   ]
  },
  {
   "cell_type": "code",
   "execution_count": 10,
   "id": "da1b2c57",
   "metadata": {},
   "outputs": [
    {
     "name": "stdout",
     "output_type": "stream",
     "text": [
      "137.05335187911987\n"
     ]
    }
   ],
   "source": [
    "print(time.time() - st)"
   ]
  },
  {
   "cell_type": "code",
   "execution_count": null,
   "id": "36772ccf",
   "metadata": {},
   "outputs": [],
   "source": []
  },
  {
   "cell_type": "code",
   "execution_count": 26,
   "id": "8a24cfc2",
   "metadata": {},
   "outputs": [
    {
     "data": {
      "text/html": [
       "<div>\n",
       "<style scoped>\n",
       "    .dataframe tbody tr th:only-of-type {\n",
       "        vertical-align: middle;\n",
       "    }\n",
       "\n",
       "    .dataframe tbody tr th {\n",
       "        vertical-align: top;\n",
       "    }\n",
       "\n",
       "    .dataframe thead th {\n",
       "        text-align: right;\n",
       "    }\n",
       "</style>\n",
       "<table border=\"1\" class=\"dataframe\">\n",
       "  <thead>\n",
       "    <tr style=\"text-align: right;\">\n",
       "      <th></th>\n",
       "      <th>0</th>\n",
       "      <th>1</th>\n",
       "      <th>2</th>\n",
       "      <th>3</th>\n",
       "      <th>4</th>\n",
       "      <th>5</th>\n",
       "      <th>6</th>\n",
       "      <th>7</th>\n",
       "      <th>8</th>\n",
       "      <th>9</th>\n",
       "      <th>10</th>\n",
       "      <th>11</th>\n",
       "      <th>12</th>\n",
       "    </tr>\n",
       "  </thead>\n",
       "  <tbody>\n",
       "    <tr>\n",
       "      <th>0</th>\n",
       "      <td>Qn.\\nNo.</td>\n",
       "      <td>1</td>\n",
       "      <td>2</td>\n",
       "      <td>3</td>\n",
       "      <td>4</td>\n",
       "      <td>5</td>\n",
       "      <td>6</td>\n",
       "      <td>7</td>\n",
       "      <td>8</td>\n",
       "      <td>9</td>\n",
       "      <td>10</td>\n",
       "      <td>11</td>\n",
       "      <td>12</td>\n",
       "    </tr>\n",
       "    <tr>\n",
       "      <th>1</th>\n",
       "      <td>a</td>\n",
       "      <td>None</td>\n",
       "      <td>3</td>\n",
       "      <td>3</td>\n",
       "      <td>None</td>\n",
       "      <td>&amp;</td>\n",
       "      <td>6</td>\n",
       "      <td>None</td>\n",
       "      <td>None</td>\n",
       "      <td>None</td>\n",
       "      <td>6</td>\n",
       "      <td>5</td>\n",
       "      <td>None</td>\n",
       "    </tr>\n",
       "    <tr>\n",
       "      <th>2</th>\n",
       "      <td>b</td>\n",
       "      <td>None</td>\n",
       "      <td>None</td>\n",
       "      <td>None</td>\n",
       "      <td>None</td>\n",
       "      <td>None</td>\n",
       "      <td>None</td>\n",
       "      <td>None</td>\n",
       "      <td>None</td>\n",
       "      <td>None</td>\n",
       "      <td>None</td>\n",
       "      <td>None</td>\n",
       "      <td>None</td>\n",
       "    </tr>\n",
       "    <tr>\n",
       "      <th>3</th>\n",
       "      <td>c</td>\n",
       "      <td>None</td>\n",
       "      <td>None</td>\n",
       "      <td>None</td>\n",
       "      <td>None</td>\n",
       "      <td>None</td>\n",
       "      <td>None</td>\n",
       "      <td>None</td>\n",
       "      <td>None</td>\n",
       "      <td>None</td>\n",
       "      <td>None</td>\n",
       "      <td>None</td>\n",
       "      <td>None</td>\n",
       "    </tr>\n",
       "    <tr>\n",
       "      <th>4</th>\n",
       "      <td>Total</td>\n",
       "      <td>None</td>\n",
       "      <td>None</td>\n",
       "      <td>None</td>\n",
       "      <td>None</td>\n",
       "      <td>None</td>\n",
       "      <td>None</td>\n",
       "      <td>None</td>\n",
       "      <td>None</td>\n",
       "      <td>None</td>\n",
       "      <td>None</td>\n",
       "      <td>None</td>\n",
       "      <td>None</td>\n",
       "    </tr>\n",
       "  </tbody>\n",
       "</table>\n",
       "</div>"
      ],
      "text/plain": [
       "         0     1     2     3     4     5     6     7     8     9     10    11  \\\n",
       "0  Qn.\\nNo.     1     2     3     4     5     6     7     8     9    10    11   \n",
       "1         a  None     3     3  None     &     6  None  None  None     6     5   \n",
       "2         b  None  None  None  None  None  None  None  None  None  None  None   \n",
       "3         c  None  None  None  None  None  None  None  None  None  None  None   \n",
       "4     Total  None  None  None  None  None  None  None  None  None  None  None   \n",
       "\n",
       "     12  \n",
       "0    12  \n",
       "1  None  \n",
       "2  None  \n",
       "3  None  \n",
       "4  None  "
      ]
     },
     "execution_count": 26,
     "metadata": {},
     "output_type": "execute_result"
    }
   ],
   "source": [
    "extracted_tables[0].df"
   ]
  },
  {
   "cell_type": "code",
   "execution_count": 13,
   "id": "4517d81d",
   "metadata": {},
   "outputs": [
    {
     "name": "stdout",
     "output_type": "stream",
     "text": [
      "ExtractedTable(title=None, bbox=(42, 94, 1298, 588),shape=(5, 13))\n"
     ]
    }
   ],
   "source": [
    "for i in extracted_tables:\n",
    "    print(i.content)"
   ]
  },
  {
   "cell_type": "code",
   "execution_count": null,
   "id": "b088d0c4",
   "metadata": {},
   "outputs": [],
   "source": []
  },
  {
   "cell_type": "code",
   "execution_count": 27,
   "id": "f87b45b4",
   "metadata": {
    "collapsed": true
   },
   "outputs": [
    {
     "name": "stdout",
     "output_type": "stream",
     "text": [
      "TableCell(bbox=BBox(x1=42, y1=94, x2=138, y2=191), value='Qn.\\nNo.')\n",
      "TableCell(bbox=BBox(x1=138, y1=94, x2=235, y2=191), value='1')\n",
      "TableCell(bbox=BBox(x1=235, y1=94, x2=331, y2=191), value='2')\n",
      "TableCell(bbox=BBox(x1=331, y1=94, x2=428, y2=191), value='3')\n",
      "TableCell(bbox=BBox(x1=428, y1=94, x2=525, y2=191), value='4')\n",
      "TableCell(bbox=BBox(x1=525, y1=94, x2=621, y2=191), value='5')\n",
      "TableCell(bbox=BBox(x1=621, y1=94, x2=717, y2=191), value='6')\n",
      "TableCell(bbox=BBox(x1=717, y1=94, x2=815, y2=191), value='7')\n",
      "TableCell(bbox=BBox(x1=815, y1=94, x2=912, y2=191), value='8')\n",
      "TableCell(bbox=BBox(x1=912, y1=94, x2=1008, y2=191), value='9')\n",
      "TableCell(bbox=BBox(x1=1008, y1=94, x2=1104, y2=191), value='10')\n",
      "TableCell(bbox=BBox(x1=1104, y1=94, x2=1202, y2=191), value='11')\n",
      "TableCell(bbox=BBox(x1=1202, y1=94, x2=1298, y2=191), value='12')\n",
      "TableCell(bbox=BBox(x1=42, y1=191, x2=138, y2=290), value='a')\n",
      "TableCell(bbox=BBox(x1=138, y1=191, x2=235, y2=290), value=None)\n",
      "TableCell(bbox=BBox(x1=235, y1=191, x2=331, y2=290), value='3')\n",
      "TableCell(bbox=BBox(x1=331, y1=191, x2=428, y2=290), value='3')\n",
      "TableCell(bbox=BBox(x1=428, y1=191, x2=525, y2=290), value=None)\n",
      "TableCell(bbox=BBox(x1=525, y1=191, x2=621, y2=290), value='&')\n",
      "TableCell(bbox=BBox(x1=621, y1=191, x2=717, y2=290), value='6')\n",
      "TableCell(bbox=BBox(x1=717, y1=191, x2=815, y2=290), value=None)\n",
      "TableCell(bbox=BBox(x1=815, y1=191, x2=912, y2=290), value=None)\n",
      "TableCell(bbox=BBox(x1=912, y1=191, x2=1008, y2=290), value=None)\n",
      "TableCell(bbox=BBox(x1=1008, y1=191, x2=1104, y2=290), value='6')\n",
      "TableCell(bbox=BBox(x1=1104, y1=191, x2=1202, y2=290), value='5')\n",
      "TableCell(bbox=BBox(x1=1202, y1=191, x2=1298, y2=290), value=None)\n",
      "TableCell(bbox=BBox(x1=42, y1=290, x2=138, y2=389), value='b')\n",
      "TableCell(bbox=BBox(x1=138, y1=290, x2=235, y2=389), value=None)\n",
      "TableCell(bbox=BBox(x1=235, y1=290, x2=331, y2=389), value=None)\n",
      "TableCell(bbox=BBox(x1=331, y1=290, x2=428, y2=389), value=None)\n",
      "TableCell(bbox=BBox(x1=428, y1=290, x2=525, y2=389), value=None)\n",
      "TableCell(bbox=BBox(x1=525, y1=290, x2=621, y2=389), value=None)\n",
      "TableCell(bbox=BBox(x1=621, y1=290, x2=717, y2=389), value=None)\n",
      "TableCell(bbox=BBox(x1=717, y1=290, x2=815, y2=389), value=None)\n",
      "TableCell(bbox=BBox(x1=815, y1=290, x2=912, y2=389), value=None)\n",
      "TableCell(bbox=BBox(x1=912, y1=290, x2=1008, y2=389), value=None)\n",
      "TableCell(bbox=BBox(x1=1008, y1=290, x2=1104, y2=389), value=None)\n",
      "TableCell(bbox=BBox(x1=1104, y1=290, x2=1202, y2=389), value=None)\n",
      "TableCell(bbox=BBox(x1=1202, y1=290, x2=1298, y2=389), value=None)\n",
      "TableCell(bbox=BBox(x1=42, y1=389, x2=138, y2=488), value='c')\n",
      "TableCell(bbox=BBox(x1=138, y1=389, x2=235, y2=488), value=None)\n",
      "TableCell(bbox=BBox(x1=235, y1=389, x2=331, y2=488), value=None)\n",
      "TableCell(bbox=BBox(x1=331, y1=389, x2=428, y2=488), value=None)\n",
      "TableCell(bbox=BBox(x1=428, y1=389, x2=525, y2=488), value=None)\n",
      "TableCell(bbox=BBox(x1=525, y1=389, x2=621, y2=488), value=None)\n",
      "TableCell(bbox=BBox(x1=621, y1=389, x2=717, y2=488), value=None)\n",
      "TableCell(bbox=BBox(x1=717, y1=389, x2=815, y2=488), value=None)\n",
      "TableCell(bbox=BBox(x1=815, y1=389, x2=912, y2=488), value=None)\n",
      "TableCell(bbox=BBox(x1=912, y1=389, x2=1008, y2=488), value=None)\n",
      "TableCell(bbox=BBox(x1=1008, y1=389, x2=1104, y2=488), value=None)\n",
      "TableCell(bbox=BBox(x1=1104, y1=389, x2=1202, y2=488), value=None)\n",
      "TableCell(bbox=BBox(x1=1202, y1=389, x2=1298, y2=488), value=None)\n",
      "TableCell(bbox=BBox(x1=42, y1=488, x2=138, y2=588), value='Total')\n",
      "TableCell(bbox=BBox(x1=138, y1=488, x2=235, y2=588), value=None)\n",
      "TableCell(bbox=BBox(x1=235, y1=488, x2=331, y2=588), value=None)\n",
      "TableCell(bbox=BBox(x1=331, y1=488, x2=428, y2=588), value=None)\n",
      "TableCell(bbox=BBox(x1=428, y1=488, x2=525, y2=588), value=None)\n",
      "TableCell(bbox=BBox(x1=525, y1=488, x2=621, y2=588), value=None)\n",
      "TableCell(bbox=BBox(x1=621, y1=488, x2=717, y2=588), value=None)\n",
      "TableCell(bbox=BBox(x1=717, y1=488, x2=815, y2=588), value=None)\n",
      "TableCell(bbox=BBox(x1=815, y1=488, x2=912, y2=588), value=None)\n",
      "TableCell(bbox=BBox(x1=912, y1=488, x2=1008, y2=588), value=None)\n",
      "TableCell(bbox=BBox(x1=1008, y1=488, x2=1104, y2=588), value=None)\n",
      "TableCell(bbox=BBox(x1=1104, y1=488, x2=1202, y2=588), value=None)\n",
      "TableCell(bbox=BBox(x1=1202, y1=488, x2=1298, y2=588), value=None)\n"
     ]
    }
   ],
   "source": [
    "for table in extracted_tables:\n",
    "    for row in table.content.values():\n",
    "        for cell in row:\n",
    "            print(cell)"
   ]
  },
  {
   "cell_type": "code",
   "execution_count": 34,
   "id": "1cf8337e",
   "metadata": {
    "collapsed": true
   },
   "outputs": [
    {
     "data": {
      "text/plain": [
       "odict_values([[TableCell(bbox=BBox(x1=42, y1=94, x2=138, y2=191), value='Qn.\\nNo.'), TableCell(bbox=BBox(x1=138, y1=94, x2=235, y2=191), value='1'), TableCell(bbox=BBox(x1=235, y1=94, x2=331, y2=191), value='2'), TableCell(bbox=BBox(x1=331, y1=94, x2=428, y2=191), value='3'), TableCell(bbox=BBox(x1=428, y1=94, x2=525, y2=191), value='4'), TableCell(bbox=BBox(x1=525, y1=94, x2=621, y2=191), value='5'), TableCell(bbox=BBox(x1=621, y1=94, x2=717, y2=191), value='6'), TableCell(bbox=BBox(x1=717, y1=94, x2=815, y2=191), value='7'), TableCell(bbox=BBox(x1=815, y1=94, x2=912, y2=191), value='8'), TableCell(bbox=BBox(x1=912, y1=94, x2=1008, y2=191), value='9'), TableCell(bbox=BBox(x1=1008, y1=94, x2=1104, y2=191), value='10'), TableCell(bbox=BBox(x1=1104, y1=94, x2=1202, y2=191), value='11'), TableCell(bbox=BBox(x1=1202, y1=94, x2=1298, y2=191), value='12')], [TableCell(bbox=BBox(x1=42, y1=191, x2=138, y2=290), value='a'), TableCell(bbox=BBox(x1=138, y1=191, x2=235, y2=290), value=None), TableCell(bbox=BBox(x1=235, y1=191, x2=331, y2=290), value='3'), TableCell(bbox=BBox(x1=331, y1=191, x2=428, y2=290), value='3'), TableCell(bbox=BBox(x1=428, y1=191, x2=525, y2=290), value=None), TableCell(bbox=BBox(x1=525, y1=191, x2=621, y2=290), value='&'), TableCell(bbox=BBox(x1=621, y1=191, x2=717, y2=290), value='6'), TableCell(bbox=BBox(x1=717, y1=191, x2=815, y2=290), value=None), TableCell(bbox=BBox(x1=815, y1=191, x2=912, y2=290), value=None), TableCell(bbox=BBox(x1=912, y1=191, x2=1008, y2=290), value=None), TableCell(bbox=BBox(x1=1008, y1=191, x2=1104, y2=290), value='6'), TableCell(bbox=BBox(x1=1104, y1=191, x2=1202, y2=290), value='5'), TableCell(bbox=BBox(x1=1202, y1=191, x2=1298, y2=290), value=None)], [TableCell(bbox=BBox(x1=42, y1=290, x2=138, y2=389), value='b'), TableCell(bbox=BBox(x1=138, y1=290, x2=235, y2=389), value=None), TableCell(bbox=BBox(x1=235, y1=290, x2=331, y2=389), value=None), TableCell(bbox=BBox(x1=331, y1=290, x2=428, y2=389), value=None), TableCell(bbox=BBox(x1=428, y1=290, x2=525, y2=389), value=None), TableCell(bbox=BBox(x1=525, y1=290, x2=621, y2=389), value=None), TableCell(bbox=BBox(x1=621, y1=290, x2=717, y2=389), value=None), TableCell(bbox=BBox(x1=717, y1=290, x2=815, y2=389), value=None), TableCell(bbox=BBox(x1=815, y1=290, x2=912, y2=389), value=None), TableCell(bbox=BBox(x1=912, y1=290, x2=1008, y2=389), value=None), TableCell(bbox=BBox(x1=1008, y1=290, x2=1104, y2=389), value=None), TableCell(bbox=BBox(x1=1104, y1=290, x2=1202, y2=389), value=None), TableCell(bbox=BBox(x1=1202, y1=290, x2=1298, y2=389), value=None)], [TableCell(bbox=BBox(x1=42, y1=389, x2=138, y2=488), value='c'), TableCell(bbox=BBox(x1=138, y1=389, x2=235, y2=488), value=None), TableCell(bbox=BBox(x1=235, y1=389, x2=331, y2=488), value=None), TableCell(bbox=BBox(x1=331, y1=389, x2=428, y2=488), value=None), TableCell(bbox=BBox(x1=428, y1=389, x2=525, y2=488), value=None), TableCell(bbox=BBox(x1=525, y1=389, x2=621, y2=488), value=None), TableCell(bbox=BBox(x1=621, y1=389, x2=717, y2=488), value=None), TableCell(bbox=BBox(x1=717, y1=389, x2=815, y2=488), value=None), TableCell(bbox=BBox(x1=815, y1=389, x2=912, y2=488), value=None), TableCell(bbox=BBox(x1=912, y1=389, x2=1008, y2=488), value=None), TableCell(bbox=BBox(x1=1008, y1=389, x2=1104, y2=488), value=None), TableCell(bbox=BBox(x1=1104, y1=389, x2=1202, y2=488), value=None), TableCell(bbox=BBox(x1=1202, y1=389, x2=1298, y2=488), value=None)], [TableCell(bbox=BBox(x1=42, y1=488, x2=138, y2=588), value='Total'), TableCell(bbox=BBox(x1=138, y1=488, x2=235, y2=588), value=None), TableCell(bbox=BBox(x1=235, y1=488, x2=331, y2=588), value=None), TableCell(bbox=BBox(x1=331, y1=488, x2=428, y2=588), value=None), TableCell(bbox=BBox(x1=428, y1=488, x2=525, y2=588), value=None), TableCell(bbox=BBox(x1=525, y1=488, x2=621, y2=588), value=None), TableCell(bbox=BBox(x1=621, y1=488, x2=717, y2=588), value=None), TableCell(bbox=BBox(x1=717, y1=488, x2=815, y2=588), value=None), TableCell(bbox=BBox(x1=815, y1=488, x2=912, y2=588), value=None), TableCell(bbox=BBox(x1=912, y1=488, x2=1008, y2=588), value=None), TableCell(bbox=BBox(x1=1008, y1=488, x2=1104, y2=588), value=None), TableCell(bbox=BBox(x1=1104, y1=488, x2=1202, y2=588), value=None), TableCell(bbox=BBox(x1=1202, y1=488, x2=1298, y2=588), value=None)]])"
      ]
     },
     "execution_count": 34,
     "metadata": {},
     "output_type": "execute_result"
    }
   ],
   "source": [
    "table_values = extracted_tables[0].content.values()\n",
    "table_values"
   ]
  },
  {
   "cell_type": "code",
   "execution_count": 38,
   "id": "0a463279",
   "metadata": {},
   "outputs": [
    {
     "name": "stdout",
     "output_type": "stream",
     "text": [
      "BBox(x1=138, y1=94, x2=235, y2=191)\n",
      "BBox(x1=138, y1=191, x2=235, y2=290)\n",
      "BBox(x1=138, y1=290, x2=235, y2=389)\n",
      "BBox(x1=138, y1=389, x2=235, y2=488)\n",
      "BBox(x1=138, y1=488, x2=235, y2=588)\n"
     ]
    }
   ],
   "source": [
    "for i in table_values:\n",
    "    print(i[1].bbox)"
   ]
  },
  {
   "cell_type": "code",
   "execution_count": null,
   "id": "78e593ce",
   "metadata": {},
   "outputs": [],
   "source": []
  },
  {
   "cell_type": "code",
   "execution_count": null,
   "id": "ea72e119",
   "metadata": {},
   "outputs": [],
   "source": []
  },
  {
   "cell_type": "code",
   "execution_count": null,
   "id": "0ab240b3",
   "metadata": {},
   "outputs": [],
   "source": []
  },
  {
   "cell_type": "code",
   "execution_count": null,
   "id": "7f515de5",
   "metadata": {},
   "outputs": [],
   "source": []
  },
  {
   "cell_type": "code",
   "execution_count": null,
   "id": "3d8348ab",
   "metadata": {},
   "outputs": [],
   "source": []
  },
  {
   "cell_type": "code",
   "execution_count": null,
   "id": "a6a03840",
   "metadata": {},
   "outputs": [],
   "source": []
  }
 ],
 "metadata": {
  "kernelspec": {
   "display_name": "Python 3 (ipykernel)",
   "language": "python",
   "name": "python3"
  },
  "language_info": {
   "codemirror_mode": {
    "name": "ipython",
    "version": 3
   },
   "file_extension": ".py",
   "mimetype": "text/x-python",
   "name": "python",
   "nbconvert_exporter": "python",
   "pygments_lexer": "ipython3",
   "version": "3.10.8"
  }
 },
 "nbformat": 4,
 "nbformat_minor": 5
}
