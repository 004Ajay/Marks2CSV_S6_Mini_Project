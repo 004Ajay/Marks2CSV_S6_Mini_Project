{
 "cells": [
  {
   "cell_type": "code",
   "execution_count": 1,
   "id": "8abc4dc9",
   "metadata": {},
   "outputs": [],
   "source": [
    "import time\n",
    "st = time.time()\n",
    "\n",
    "from img2table.document import Image\n",
    "from img2table.ocr import PaddleOCR\n",
    "import pandas as pd\n",
    "from pdf2image import convert_from_path\n",
    "from PIL import Image as PIL_Image, ImageDraw\n",
    "import io"
   ]
  },
  {
   "cell_type": "code",
   "execution_count": 2,
   "id": "0e906b86",
   "metadata": {},
   "outputs": [],
   "source": [
    "# Dictionary for storing marks of each papers\n",
    "my_dict = {'1a': [], '1b': [], '1c': [], '2a': [], '2b': [], '2c': [], '3a': [], '3b': [], '3c': [], '4a': [], '4b': [], '4c': [], '5a': [], '5b': [], '5c': [], '6a': [], '6b': [], '6c': [], '7a': [], '7b': [], '7c': [], '8a': [], '8b': [], '8c': [], '9a': [], '9b': [], '9c': [], '10a': [], '10b': [], '10c': [], '11a': [], '11b': [], '11c': [], '12a': [], '12b': [], '12c': []}"
   ]
  },
  {
   "cell_type": "code",
   "execution_count": 3,
   "id": "0b91262f",
   "metadata": {},
   "outputs": [
    {
     "name": "stdout",
     "output_type": "stream",
     "text": [
      "1 - 39\n",
      "2 - 36\n",
      "3 - 36\n"
     ]
    }
   ],
   "source": [
    "images = convert_from_path(\"D:/AJAYMON/AJAY/Programming/S6_Mini_Project/Codes/image to table/ex_small.pdf\") # change or give PDF name here\n",
    "\n",
    "for i in range(len(images)):\n",
    "    img = images[i]\n",
    "    _, height = img.size\n",
    "    cropped_img = img.crop((150, height / 2 + 50, 1600, height - 300)) # left, top, right, bottom\n",
    "    # cropped_img.save(f\"D:/AJAYMON/AJAY/Programming/Auto_Excel_Mark_Entry/Codes/image to table/temp/ima{i}.jpg\") # To save cropped image\n",
    "    \n",
    "    img_bytes=io.BytesIO()\n",
    "    cropped_img.save(img_bytes, format='JPEG')\n",
    "    img_bytes.seek(0)\n",
    "    \n",
    "    ## Image opening & performing OCR\n",
    "    paddle_ocr = PaddleOCR(lang=\"en\")\n",
    "\n",
    "    # src = f\"D:/AJAYMON/AJAY/Programming/Auto_Excel_Mark_Entry/Codes/image to table/temp/ima{i}.jpg\"\n",
    "\n",
    "    doc = Image(img_bytes, dpi=200)\n",
    "    extracted_tables = doc.extract_tables(ocr=paddle_ocr, implicit_rows=True, min_confidence=50)\n",
    "\n",
    "    \n",
    "    ############## ----------- UNCOMMENT THIS ONLY FOR SAVING TABLE IMAGE WITH RED OUTLINE ----------- ##############\n",
    "\n",
    "\n",
    "    # # Load the image using PIL\n",
    "    # img = PIL_Image.open(src) # comment this --------------------------------------------------\n",
    "\n",
    "    # # Create a draw object\n",
    "    # draw = ImageDraw.Draw(img) # comment this --------------------------------------------------\n",
    "\n",
    "    # for table in extracted_tables:\n",
    "    #     for row in table.content.values():\n",
    "    #         for cell in row:\n",
    "    #             draw.rectangle((cell.bbox.x1, cell.bbox.y1, cell.bbox.x2, cell.bbox.y2), outline=\"red\", width=3)\n",
    "                \n",
    "    # img.save(f\"D:/AJAYMON/AJAY/Programming/Auto_Excel_Mark_Entry/Codes/image to table/temp/img{i}_with_redlines{i}.jpg\") # comment this --------------------------------------------------\n",
    "\n",
    "\n",
    "    ############## ----------- UNCOMMENT THIS ONLY FOR SAVING TABLE IMAGE WITH RED OUTLINE ----------- ##############\n",
    "    \n",
    "    \n",
    "    df = extracted_tables[0].df\n",
    "    df = df.iloc[1:, 1:] # deleting first row and column\n",
    "    df = df.drop(index=df.index[-1]) # remove the last row\n",
    "\n",
    "    ## Flattening & adding marks to my_dict\n",
    "    arr = df.to_numpy()\n",
    "    flat = arr.flatten(order='F') # flattening column-wise\n",
    "    cell_vals = [i for i in flat]\n",
    "\n",
    "    flat_len = len(cell_vals)\n",
    "\n",
    "    print(i+1, \"-\", flat_len) # comment this --------------------------------------------------\n",
    "\n",
    "    if flat_len < 36: # CHECK THIS ////////////////////////////////////////////////////////////////////////\n",
    "        # my_dict = {key: None for key in my_dict}\n",
    "        pass\n",
    "    else:\n",
    "        # Adding values to dictionary\n",
    "        i = 0\n",
    "        for key in my_dict:\n",
    "            my_dict[key].append(cell_vals[i])\n",
    "            i+=1"
   ]
  },
  {
   "cell_type": "code",
   "execution_count": 4,
   "id": "d9b151b2",
   "metadata": {},
   "outputs": [],
   "source": [
    "## Dictionary to dataframe & it's preprocessing\n",
    "\n",
    "dict_df = pd.DataFrame(my_dict)\n",
    "\n",
    "# col_name = dict_df.columns[(dict_df == 'None').all()] # finding the column with \"None\" word\n",
    "# dict_df = dict_df.drop(col_name, axis=1) # delete the identified columns\n",
    "# dict_df = dict_df.replace(to_replace=\"None\", value=np.nan) # Replacing all \"None\" to NaN, which will be empty when converted to CSV\n",
    "# valid_cols = dict_df.select_dtypes(include=np.number).columns # Select only the valid columns with numeric data types\n",
    "# dict_df = dict_df.assign(sum=dict_df[valid_cols].sum(axis=1)) # create a new column \"row_sum\" with the sum of each row\n",
    "# dict_df = dict_df.assign(Sum_more_than_50=dict_df.apply(lambda x: 'Error' if x['sum'] > 50 else '', axis=1)) # add a new column \"error\" with \"Error\" if row_sum is greater than 50\n",
    "\n",
    "dict_df = dict_df.dropna(axis=1, how='all')\n",
    "dict_df.fillna(0, inplace=True)"
   ]
  },
  {
   "cell_type": "code",
   "execution_count": 5,
   "id": "65131e1c",
   "metadata": {},
   "outputs": [
    {
     "name": "stdout",
     "output_type": "stream",
     "text": [
      "  1a  2a 4a  5a  6a  7a 10a 11a 12a\n",
      "0  2  12  0   3  53   0   6   6   0\n",
      "1  0   2  0   0   0  65   0   0   6\n",
      "2  0   0  2  23   0   0   0   4   0\n"
     ]
    }
   ],
   "source": [
    "print(dict_df)"
   ]
  },
  {
   "cell_type": "code",
   "execution_count": 6,
   "id": "4e8e0023",
   "metadata": {},
   "outputs": [],
   "source": [
    "# saving dict as csv\n",
    "dict_df.to_csv(\"D:/AJAYMON/AJAY/Programming/S6_Mini_Project/Codes/image to table/ex_small_new.csv\", index=False)"
   ]
  },
  {
   "cell_type": "code",
   "execution_count": 7,
   "id": "da1b2c57",
   "metadata": {},
   "outputs": [
    {
     "name": "stdout",
     "output_type": "stream",
     "text": [
      "22.660449266433716\n"
     ]
    }
   ],
   "source": [
    "print(time.time() - st)"
   ]
  },
  {
   "cell_type": "code",
   "execution_count": 8,
   "id": "78e593ce",
   "metadata": {},
   "outputs": [
    {
     "ename": "AttributeError",
     "evalue": "'list' object has no attribute 'df'",
     "output_type": "error",
     "traceback": [
      "\u001b[1;31m---------------------------------------------------------------------------\u001b[0m",
      "\u001b[1;31mAttributeError\u001b[0m                            Traceback (most recent call last)",
      "Cell \u001b[1;32mIn [8], line 1\u001b[0m\n\u001b[1;32m----> 1\u001b[0m \u001b[43mextracted_tables\u001b[49m\u001b[38;5;241;43m.\u001b[39;49m\u001b[43mdf\u001b[49m\n",
      "\u001b[1;31mAttributeError\u001b[0m: 'list' object has no attribute 'df'"
     ]
    }
   ],
   "source": [
    "extracted_tables.df"
   ]
  },
  {
   "cell_type": "code",
   "execution_count": 12,
   "id": "ea72e119",
   "metadata": {},
   "outputs": [
    {
     "data": {
      "text/html": [
       "<div>\n",
       "<style scoped>\n",
       "    .dataframe tbody tr th:only-of-type {\n",
       "        vertical-align: middle;\n",
       "    }\n",
       "\n",
       "    .dataframe tbody tr th {\n",
       "        vertical-align: top;\n",
       "    }\n",
       "\n",
       "    .dataframe thead th {\n",
       "        text-align: right;\n",
       "    }\n",
       "</style>\n",
       "<table border=\"1\" class=\"dataframe\">\n",
       "  <thead>\n",
       "    <tr style=\"text-align: right;\">\n",
       "      <th></th>\n",
       "      <th>0</th>\n",
       "      <th>1</th>\n",
       "      <th>2</th>\n",
       "      <th>3</th>\n",
       "      <th>4</th>\n",
       "      <th>5</th>\n",
       "      <th>6</th>\n",
       "      <th>7</th>\n",
       "      <th>8</th>\n",
       "      <th>9</th>\n",
       "      <th>10</th>\n",
       "      <th>11</th>\n",
       "      <th>12</th>\n",
       "    </tr>\n",
       "  </thead>\n",
       "  <tbody>\n",
       "    <tr>\n",
       "      <th>0</th>\n",
       "      <td>On.\\nNo.</td>\n",
       "      <td>1</td>\n",
       "      <td>2</td>\n",
       "      <td>3</td>\n",
       "      <td>4</td>\n",
       "      <td>5</td>\n",
       "      <td>6</td>\n",
       "      <td>7</td>\n",
       "      <td>8</td>\n",
       "      <td>9</td>\n",
       "      <td>10</td>\n",
       "      <td>11</td>\n",
       "      <td>12</td>\n",
       "    </tr>\n",
       "    <tr>\n",
       "      <th>1</th>\n",
       "      <td>a</td>\n",
       "      <td>None</td>\n",
       "      <td>None</td>\n",
       "      <td>None</td>\n",
       "      <td>2</td>\n",
       "      <td>23</td>\n",
       "      <td>None</td>\n",
       "      <td>None</td>\n",
       "      <td>None</td>\n",
       "      <td>None</td>\n",
       "      <td>None</td>\n",
       "      <td>4</td>\n",
       "      <td>None</td>\n",
       "    </tr>\n",
       "    <tr>\n",
       "      <th>2</th>\n",
       "      <td>b</td>\n",
       "      <td>None</td>\n",
       "      <td>None</td>\n",
       "      <td>None</td>\n",
       "      <td>None</td>\n",
       "      <td>None</td>\n",
       "      <td>None</td>\n",
       "      <td>None</td>\n",
       "      <td>None</td>\n",
       "      <td>None</td>\n",
       "      <td>None</td>\n",
       "      <td>None</td>\n",
       "      <td>None</td>\n",
       "    </tr>\n",
       "    <tr>\n",
       "      <th>3</th>\n",
       "      <td>c</td>\n",
       "      <td>None</td>\n",
       "      <td>None</td>\n",
       "      <td>None</td>\n",
       "      <td>None</td>\n",
       "      <td>None</td>\n",
       "      <td>None</td>\n",
       "      <td>None</td>\n",
       "      <td>None</td>\n",
       "      <td>None</td>\n",
       "      <td>None</td>\n",
       "      <td>None</td>\n",
       "      <td>None</td>\n",
       "    </tr>\n",
       "    <tr>\n",
       "      <th>4</th>\n",
       "      <td>Total</td>\n",
       "      <td>None</td>\n",
       "      <td>None</td>\n",
       "      <td>None</td>\n",
       "      <td>None</td>\n",
       "      <td>None</td>\n",
       "      <td>None</td>\n",
       "      <td>None</td>\n",
       "      <td>None</td>\n",
       "      <td>None</td>\n",
       "      <td>None</td>\n",
       "      <td>None</td>\n",
       "      <td>None</td>\n",
       "    </tr>\n",
       "  </tbody>\n",
       "</table>\n",
       "</div>"
      ],
      "text/plain": [
       "         0     1     2     3     4     5     6     7     8     9     10    11  \\\n",
       "0  On.\\nNo.     1     2     3     4     5     6     7     8     9    10    11   \n",
       "1         a  None  None  None     2    23  None  None  None  None  None     4   \n",
       "2         b  None  None  None  None  None  None  None  None  None  None  None   \n",
       "3         c  None  None  None  None  None  None  None  None  None  None  None   \n",
       "4     Total  None  None  None  None  None  None  None  None  None  None  None   \n",
       "\n",
       "     12  \n",
       "0    12  \n",
       "1  None  \n",
       "2  None  \n",
       "3  None  \n",
       "4  None  "
      ]
     },
     "execution_count": 12,
     "metadata": {},
     "output_type": "execute_result"
    }
   ],
   "source": [
    "df = extracted_tables[0].df\n",
    "df"
   ]
  },
  {
   "cell_type": "code",
   "execution_count": null,
   "id": "0ab240b3",
   "metadata": {},
   "outputs": [],
   "source": []
  },
  {
   "cell_type": "code",
   "execution_count": null,
   "id": "7f515de5",
   "metadata": {},
   "outputs": [],
   "source": []
  },
  {
   "cell_type": "code",
   "execution_count": null,
   "id": "3d8348ab",
   "metadata": {},
   "outputs": [],
   "source": []
  },
  {
   "cell_type": "code",
   "execution_count": null,
   "id": "a6a03840",
   "metadata": {},
   "outputs": [],
   "source": []
  }
 ],
 "metadata": {
  "kernelspec": {
   "display_name": "Python 3 (ipykernel)",
   "language": "python",
   "name": "python3"
  },
  "language_info": {
   "codemirror_mode": {
    "name": "ipython",
    "version": 3
   },
   "file_extension": ".py",
   "mimetype": "text/x-python",
   "name": "python",
   "nbconvert_exporter": "python",
   "pygments_lexer": "ipython3",
   "version": "3.10.8"
  }
 },
 "nbformat": 4,
 "nbformat_minor": 5
}
