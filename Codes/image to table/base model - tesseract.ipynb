{
 "cells": [
  {
   "cell_type": "code",
   "execution_count": null,
   "id": "ea773ee2",
   "metadata": {},
   "outputs": [],
   "source": [
    "import time\n",
    "\n",
    "st = time.time()"
   ]
  },
  {
   "cell_type": "markdown",
   "id": "9b2fe914",
   "metadata": {},
   "source": [
    "## Importing necessary libraries"
   ]
  },
  {
   "cell_type": "code",
   "execution_count": null,
   "id": "52ff889f",
   "metadata": {},
   "outputs": [],
   "source": [
    "from img2table.document import Image\n",
    "from img2table.ocr import PaddleOCR\n",
    "from PIL import Image as PIL_Image, ImageDraw\n",
    "import pandas as pd\n",
    "import numpy as np\n",
    "import cv2\n",
    "import matplotlib.pyplot as plt"
   ]
  },
  {
   "cell_type": "code",
   "execution_count": null,
   "id": "21044057",
   "metadata": {},
   "outputs": [],
   "source": [
    "#######################################################################\n",
    "# Code just for displaying images in full size, remove for final code #\n",
    "#######################################################################\n",
    "\n",
    "def display(im_path):\n",
    "    dpi = 80\n",
    "    im_data = plt.imread(im_path)\n",
    "\n",
    "    height, width  = im_data.shape[:2]\n",
    "    \n",
    "    # What size does the figure need to be in inches to fit the image?\n",
    "    figsize = width / float(dpi), height / float(dpi)\n",
    "\n",
    "    # Create a figure of the right size with one axes that takes up the full figure\n",
    "    fig = plt.figure(figsize=figsize)\n",
    "    ax = fig.add_axes([0, 0, 1, 1])\n",
    "\n",
    "    # Hide spines, ticks, etc.\n",
    "    ax.axis('off')\n",
    "\n",
    "    # Display the image.\n",
    "    ax.imshow(im_data, cmap='gray')\n",
    "\n",
    "    plt.show()"
   ]
  },
  {
   "cell_type": "code",
   "execution_count": null,
   "id": "7831c7ad",
   "metadata": {},
   "outputs": [],
   "source": [
    "# Dictionary for storing marks of each papers\n",
    "my_dict = {'1a': [], '1b': [], '1c': [], '2a': [], '2b': [], '2c': [], '3a': [], '3b': [], '3c': [], '4a': [], '4b': [], '4c': [], '5a': [], '5b': [], '5c': [], '6a': [], '6b': [], '6c': [], '7a': [], '7b': [], '7c': [], '8a': [], '8b': [], '8c': [], '9a': [], '9b': [], '9c': [], '10a': [], '10b': [], '10c': [], '11a': [], '11b': [], '11c': [], '12a': [], '12b': [], '12c': []}"
   ]
  },
  {
   "cell_type": "markdown",
   "id": "5243a625",
   "metadata": {},
   "source": [
    "## Image opening & performing OCR"
   ]
  },
  {
   "cell_type": "code",
   "execution_count": 4,
   "id": "7cd002dc",
   "metadata": {},
   "outputs": [
    {
     "ename": "PanicException",
     "evalue": "called `Option::unwrap()` on a `None` value",
     "output_type": "error",
     "traceback": [
      "\u001b[1;31m---------------------------------------------------------------------------\u001b[0m",
      "\u001b[1;31mPanicException\u001b[0m                            Traceback (most recent call last)",
      "Cell \u001b[1;32mIn [4], line 14\u001b[0m\n\u001b[0;32m     11\u001b[0m doc \u001b[38;5;241m=\u001b[39m Image(src, dpi\u001b[38;5;241m=\u001b[39m\u001b[38;5;241m200\u001b[39m)\n\u001b[0;32m     13\u001b[0m \u001b[38;5;66;03m# Table extraction\u001b[39;00m\n\u001b[1;32m---> 14\u001b[0m extracted_tables \u001b[38;5;241m=\u001b[39m \u001b[43mdoc\u001b[49m\u001b[38;5;241;43m.\u001b[39;49m\u001b[43mextract_tables\u001b[49m\u001b[43m(\u001b[49m\u001b[43mocr\u001b[49m\u001b[38;5;241;43m=\u001b[39;49m\u001b[43mtess_ocr\u001b[49m\u001b[43m,\u001b[49m\n\u001b[0;32m     15\u001b[0m \u001b[43m                                      \u001b[49m\u001b[43mimplicit_rows\u001b[49m\u001b[38;5;241;43m=\u001b[39;49m\u001b[38;5;28;43;01mTrue\u001b[39;49;00m\u001b[43m,\u001b[49m\n\u001b[0;32m     16\u001b[0m \u001b[43m                                      \u001b[49m\u001b[43mmin_confidence\u001b[49m\u001b[38;5;241;43m=\u001b[39;49m\u001b[38;5;241;43m50\u001b[39;49m\u001b[43m)\u001b[49m\n\u001b[0;32m     18\u001b[0m extracted_tables\n",
      "File \u001b[1;32m~\\AppData\\Local\\Programs\\Python\\Python310\\lib\\site-packages\\img2table\\document\\image.py:40\u001b[0m, in \u001b[0;36mImage.extract_tables\u001b[1;34m(self, ocr, implicit_rows, min_confidence)\u001b[0m\n\u001b[0;32m     32\u001b[0m \u001b[38;5;28;01mdef\u001b[39;00m \u001b[38;5;21mextract_tables\u001b[39m(\u001b[38;5;28mself\u001b[39m, ocr: \u001b[38;5;124m\"\u001b[39m\u001b[38;5;124mOCRInstance\u001b[39m\u001b[38;5;124m\"\u001b[39m \u001b[38;5;241m=\u001b[39m \u001b[38;5;28;01mNone\u001b[39;00m, implicit_rows: \u001b[38;5;28mbool\u001b[39m \u001b[38;5;241m=\u001b[39m \u001b[38;5;28;01mTrue\u001b[39;00m, min_confidence: \u001b[38;5;28mint\u001b[39m \u001b[38;5;241m=\u001b[39m \u001b[38;5;241m50\u001b[39m) \u001b[38;5;241m-\u001b[39m\u001b[38;5;241m>\u001b[39m List[ExtractedTable]:\n\u001b[0;32m     33\u001b[0m     \u001b[38;5;124;03m\"\"\"\u001b[39;00m\n\u001b[0;32m     34\u001b[0m \u001b[38;5;124;03m    Extract tables from document\u001b[39;00m\n\u001b[0;32m     35\u001b[0m \u001b[38;5;124;03m    :param ocr: OCRInstance object used to extract table content\u001b[39;00m\n\u001b[1;32m   (...)\u001b[0m\n\u001b[0;32m     38\u001b[0m \u001b[38;5;124;03m    :return: list of extracted tables\u001b[39;00m\n\u001b[0;32m     39\u001b[0m \u001b[38;5;124;03m    \"\"\"\u001b[39;00m\n\u001b[1;32m---> 40\u001b[0m     extracted_tables \u001b[38;5;241m=\u001b[39m \u001b[38;5;28;43msuper\u001b[39;49m\u001b[43m(\u001b[49m\u001b[43mImage\u001b[49m\u001b[43m,\u001b[49m\u001b[43m \u001b[49m\u001b[38;5;28;43mself\u001b[39;49m\u001b[43m)\u001b[49m\u001b[38;5;241;43m.\u001b[39;49m\u001b[43mextract_tables\u001b[49m\u001b[43m(\u001b[49m\u001b[43mocr\u001b[49m\u001b[38;5;241;43m=\u001b[39;49m\u001b[43mocr\u001b[49m\u001b[43m,\u001b[49m\n\u001b[0;32m     41\u001b[0m \u001b[43m                                                         \u001b[49m\u001b[43mimplicit_rows\u001b[49m\u001b[38;5;241;43m=\u001b[39;49m\u001b[43mimplicit_rows\u001b[49m\u001b[43m,\u001b[49m\n\u001b[0;32m     42\u001b[0m \u001b[43m                                                         \u001b[49m\u001b[43mmin_confidence\u001b[49m\u001b[38;5;241;43m=\u001b[39;49m\u001b[43mmin_confidence\u001b[49m\u001b[43m)\u001b[49m\n\u001b[0;32m     43\u001b[0m     \u001b[38;5;28;01mreturn\u001b[39;00m extracted_tables\u001b[38;5;241m.\u001b[39mget(\u001b[38;5;241m0\u001b[39m)\n",
      "File \u001b[1;32m~\\AppData\\Local\\Programs\\Python\\Python310\\lib\\site-packages\\img2table\\document\\base\\__init__.py:66\u001b[0m, in \u001b[0;36mDocument.extract_tables\u001b[1;34m(self, ocr, implicit_rows, min_confidence)\u001b[0m\n\u001b[0;32m     64\u001b[0m \u001b[38;5;66;03m# Extract tables from document\u001b[39;00m\n\u001b[0;32m     65\u001b[0m \u001b[38;5;28;01mfrom\u001b[39;00m \u001b[38;5;21;01mimg2table\u001b[39;00m\u001b[38;5;21;01m.\u001b[39;00m\u001b[38;5;21;01mtables\u001b[39;00m\u001b[38;5;21;01m.\u001b[39;00m\u001b[38;5;21;01mimage\u001b[39;00m \u001b[38;5;28;01mimport\u001b[39;00m TableImage\n\u001b[1;32m---> 66\u001b[0m tables \u001b[38;5;241m=\u001b[39m {idx: TableImage(img\u001b[38;5;241m=\u001b[39mimg,\n\u001b[0;32m     67\u001b[0m                           dpi\u001b[38;5;241m=\u001b[39m\u001b[38;5;28mself\u001b[39m\u001b[38;5;241m.\u001b[39mdpi,\n\u001b[0;32m     68\u001b[0m                           ocr_df\u001b[38;5;241m=\u001b[39m\u001b[38;5;28mself\u001b[39m\u001b[38;5;241m.\u001b[39mocr_df\u001b[38;5;241m.\u001b[39mpage(page_number\u001b[38;5;241m=\u001b[39midx) \u001b[38;5;28;01mif\u001b[39;00m \u001b[38;5;28mself\u001b[39m\u001b[38;5;241m.\u001b[39mocr_df \u001b[38;5;28;01melse\u001b[39;00m \u001b[38;5;28;01mNone\u001b[39;00m,\n\u001b[0;32m     69\u001b[0m                           min_confidence\u001b[38;5;241m=\u001b[39mmin_confidence)\u001b[38;5;241m.\u001b[39mextract_tables(implicit_rows\u001b[38;5;241m=\u001b[39mimplicit_rows)\n\u001b[0;32m     70\u001b[0m           \u001b[38;5;28;01mfor\u001b[39;00m idx, img \u001b[38;5;129;01min\u001b[39;00m \u001b[38;5;28menumerate\u001b[39m(\u001b[38;5;28mself\u001b[39m\u001b[38;5;241m.\u001b[39mimages)}\n\u001b[0;32m     72\u001b[0m \u001b[38;5;66;03m# If pages have been defined, modify tables keys\u001b[39;00m\n\u001b[0;32m     73\u001b[0m \u001b[38;5;28;01mif\u001b[39;00m \u001b[38;5;28mself\u001b[39m\u001b[38;5;241m.\u001b[39mpages:\n",
      "File \u001b[1;32m~\\AppData\\Local\\Programs\\Python\\Python310\\lib\\site-packages\\img2table\\document\\base\\__init__.py:66\u001b[0m, in \u001b[0;36m<dictcomp>\u001b[1;34m(.0)\u001b[0m\n\u001b[0;32m     64\u001b[0m \u001b[38;5;66;03m# Extract tables from document\u001b[39;00m\n\u001b[0;32m     65\u001b[0m \u001b[38;5;28;01mfrom\u001b[39;00m \u001b[38;5;21;01mimg2table\u001b[39;00m\u001b[38;5;21;01m.\u001b[39;00m\u001b[38;5;21;01mtables\u001b[39;00m\u001b[38;5;21;01m.\u001b[39;00m\u001b[38;5;21;01mimage\u001b[39;00m \u001b[38;5;28;01mimport\u001b[39;00m TableImage\n\u001b[1;32m---> 66\u001b[0m tables \u001b[38;5;241m=\u001b[39m {idx: \u001b[43mTableImage\u001b[49m\u001b[43m(\u001b[49m\u001b[43mimg\u001b[49m\u001b[38;5;241;43m=\u001b[39;49m\u001b[43mimg\u001b[49m\u001b[43m,\u001b[49m\n\u001b[0;32m     67\u001b[0m \u001b[43m                          \u001b[49m\u001b[43mdpi\u001b[49m\u001b[38;5;241;43m=\u001b[39;49m\u001b[38;5;28;43mself\u001b[39;49m\u001b[38;5;241;43m.\u001b[39;49m\u001b[43mdpi\u001b[49m\u001b[43m,\u001b[49m\n\u001b[0;32m     68\u001b[0m \u001b[43m                          \u001b[49m\u001b[43mocr_df\u001b[49m\u001b[38;5;241;43m=\u001b[39;49m\u001b[38;5;28;43mself\u001b[39;49m\u001b[38;5;241;43m.\u001b[39;49m\u001b[43mocr_df\u001b[49m\u001b[38;5;241;43m.\u001b[39;49m\u001b[43mpage\u001b[49m\u001b[43m(\u001b[49m\u001b[43mpage_number\u001b[49m\u001b[38;5;241;43m=\u001b[39;49m\u001b[43midx\u001b[49m\u001b[43m)\u001b[49m\u001b[43m \u001b[49m\u001b[38;5;28;43;01mif\u001b[39;49;00m\u001b[43m \u001b[49m\u001b[38;5;28;43mself\u001b[39;49m\u001b[38;5;241;43m.\u001b[39;49m\u001b[43mocr_df\u001b[49m\u001b[43m \u001b[49m\u001b[38;5;28;43;01melse\u001b[39;49;00m\u001b[43m \u001b[49m\u001b[38;5;28;43;01mNone\u001b[39;49;00m\u001b[43m,\u001b[49m\n\u001b[0;32m     69\u001b[0m \u001b[43m                          \u001b[49m\u001b[43mmin_confidence\u001b[49m\u001b[38;5;241;43m=\u001b[39;49m\u001b[43mmin_confidence\u001b[49m\u001b[43m)\u001b[49m\u001b[38;5;241;43m.\u001b[39;49m\u001b[43mextract_tables\u001b[49m\u001b[43m(\u001b[49m\u001b[43mimplicit_rows\u001b[49m\u001b[38;5;241;43m=\u001b[39;49m\u001b[43mimplicit_rows\u001b[49m\u001b[43m)\u001b[49m\n\u001b[0;32m     70\u001b[0m           \u001b[38;5;28;01mfor\u001b[39;00m idx, img \u001b[38;5;129;01min\u001b[39;00m \u001b[38;5;28menumerate\u001b[39m(\u001b[38;5;28mself\u001b[39m\u001b[38;5;241m.\u001b[39mimages)}\n\u001b[0;32m     72\u001b[0m \u001b[38;5;66;03m# If pages have been defined, modify tables keys\u001b[39;00m\n\u001b[0;32m     73\u001b[0m \u001b[38;5;28;01mif\u001b[39;00m \u001b[38;5;28mself\u001b[39m\u001b[38;5;241m.\u001b[39mpages:\n",
      "File \u001b[1;32m~\\AppData\\Local\\Programs\\Python\\Python310\\lib\\site-packages\\img2table\\tables\\image.py:69\u001b[0m, in \u001b[0;36mTableImage.extract_tables\u001b[1;34m(self, implicit_rows)\u001b[0m\n\u001b[0;32m     66\u001b[0m     \u001b[38;5;28mself\u001b[39m\u001b[38;5;241m.\u001b[39mtables \u001b[38;5;241m=\u001b[39m get_title_tables(img\u001b[38;5;241m=\u001b[39m\u001b[38;5;28mself\u001b[39m\u001b[38;5;241m.\u001b[39mimg, tables\u001b[38;5;241m=\u001b[39m\u001b[38;5;28mself\u001b[39m\u001b[38;5;241m.\u001b[39mtables, ocr_df\u001b[38;5;241m=\u001b[39m\u001b[38;5;28mself\u001b[39m\u001b[38;5;241m.\u001b[39mocr_df)\n\u001b[0;32m     68\u001b[0m     \u001b[38;5;66;03m# Get content\u001b[39;00m\n\u001b[1;32m---> 69\u001b[0m     \u001b[38;5;28mself\u001b[39m\u001b[38;5;241m.\u001b[39mtables \u001b[38;5;241m=\u001b[39m [table\u001b[38;5;241m.\u001b[39mget_content(ocr_df\u001b[38;5;241m=\u001b[39m\u001b[38;5;28mself\u001b[39m\u001b[38;5;241m.\u001b[39mocr_df, min_confidence\u001b[38;5;241m=\u001b[39m\u001b[38;5;28mself\u001b[39m\u001b[38;5;241m.\u001b[39mmin_confidence)\n\u001b[0;32m     70\u001b[0m                    \u001b[38;5;28;01mfor\u001b[39;00m table \u001b[38;5;129;01min\u001b[39;00m \u001b[38;5;28mself\u001b[39m\u001b[38;5;241m.\u001b[39mtables]\n\u001b[0;32m     72\u001b[0m \u001b[38;5;28;01mreturn\u001b[39;00m [table\u001b[38;5;241m.\u001b[39mextracted_table \u001b[38;5;28;01mfor\u001b[39;00m table \u001b[38;5;129;01min\u001b[39;00m \u001b[38;5;28mself\u001b[39m\u001b[38;5;241m.\u001b[39mtables \u001b[38;5;28;01mif\u001b[39;00m table\u001b[38;5;241m.\u001b[39mnb_columns \u001b[38;5;241m*\u001b[39m table\u001b[38;5;241m.\u001b[39mnb_rows \u001b[38;5;241m>\u001b[39m \u001b[38;5;241m1\u001b[39m]\n",
      "File \u001b[1;32m~\\AppData\\Local\\Programs\\Python\\Python310\\lib\\site-packages\\img2table\\tables\\image.py:69\u001b[0m, in \u001b[0;36m<listcomp>\u001b[1;34m(.0)\u001b[0m\n\u001b[0;32m     66\u001b[0m     \u001b[38;5;28mself\u001b[39m\u001b[38;5;241m.\u001b[39mtables \u001b[38;5;241m=\u001b[39m get_title_tables(img\u001b[38;5;241m=\u001b[39m\u001b[38;5;28mself\u001b[39m\u001b[38;5;241m.\u001b[39mimg, tables\u001b[38;5;241m=\u001b[39m\u001b[38;5;28mself\u001b[39m\u001b[38;5;241m.\u001b[39mtables, ocr_df\u001b[38;5;241m=\u001b[39m\u001b[38;5;28mself\u001b[39m\u001b[38;5;241m.\u001b[39mocr_df)\n\u001b[0;32m     68\u001b[0m     \u001b[38;5;66;03m# Get content\u001b[39;00m\n\u001b[1;32m---> 69\u001b[0m     \u001b[38;5;28mself\u001b[39m\u001b[38;5;241m.\u001b[39mtables \u001b[38;5;241m=\u001b[39m [\u001b[43mtable\u001b[49m\u001b[38;5;241;43m.\u001b[39;49m\u001b[43mget_content\u001b[49m\u001b[43m(\u001b[49m\u001b[43mocr_df\u001b[49m\u001b[38;5;241;43m=\u001b[39;49m\u001b[38;5;28;43mself\u001b[39;49m\u001b[38;5;241;43m.\u001b[39;49m\u001b[43mocr_df\u001b[49m\u001b[43m,\u001b[49m\u001b[43m \u001b[49m\u001b[43mmin_confidence\u001b[49m\u001b[38;5;241;43m=\u001b[39;49m\u001b[38;5;28;43mself\u001b[39;49m\u001b[38;5;241;43m.\u001b[39;49m\u001b[43mmin_confidence\u001b[49m\u001b[43m)\u001b[49m\n\u001b[0;32m     70\u001b[0m                    \u001b[38;5;28;01mfor\u001b[39;00m table \u001b[38;5;129;01min\u001b[39;00m \u001b[38;5;28mself\u001b[39m\u001b[38;5;241m.\u001b[39mtables]\n\u001b[0;32m     72\u001b[0m \u001b[38;5;28;01mreturn\u001b[39;00m [table\u001b[38;5;241m.\u001b[39mextracted_table \u001b[38;5;28;01mfor\u001b[39;00m table \u001b[38;5;129;01min\u001b[39;00m \u001b[38;5;28mself\u001b[39m\u001b[38;5;241m.\u001b[39mtables \u001b[38;5;28;01mif\u001b[39;00m table\u001b[38;5;241m.\u001b[39mnb_columns \u001b[38;5;241m*\u001b[39m table\u001b[38;5;241m.\u001b[39mnb_rows \u001b[38;5;241m>\u001b[39m \u001b[38;5;241m1\u001b[39m]\n",
      "File \u001b[1;32m~\\AppData\\Local\\Programs\\Python\\Python310\\lib\\site-packages\\img2table\\tables\\objects\\table.py:63\u001b[0m, in \u001b[0;36mTable.get_content\u001b[1;34m(self, ocr_df, min_confidence)\u001b[0m\n\u001b[0;32m     56\u001b[0m \u001b[38;5;124;03m\"\"\"\u001b[39;00m\n\u001b[0;32m     57\u001b[0m \u001b[38;5;124;03mRetrieve text from OCRDataframe object and reprocess table to remove empty rows / columns\u001b[39;00m\n\u001b[0;32m     58\u001b[0m \u001b[38;5;124;03m:param ocr_df: OCRDataframe object\u001b[39;00m\n\u001b[0;32m     59\u001b[0m \u001b[38;5;124;03m:param min_confidence: minimum confidence in order to include a word, from 0 (worst) to 99 (best)\u001b[39;00m\n\u001b[0;32m     60\u001b[0m \u001b[38;5;124;03m:return: Table object with data attribute containing dataframe\u001b[39;00m\n\u001b[0;32m     61\u001b[0m \u001b[38;5;124;03m\"\"\"\u001b[39;00m\n\u001b[0;32m     62\u001b[0m \u001b[38;5;66;03m# Get content for each cell\u001b[39;00m\n\u001b[1;32m---> 63\u001b[0m \u001b[38;5;28mself\u001b[39m \u001b[38;5;241m=\u001b[39m \u001b[43mocr_df\u001b[49m\u001b[38;5;241;43m.\u001b[39;49m\u001b[43mget_text_table\u001b[49m\u001b[43m(\u001b[49m\u001b[43mtable\u001b[49m\u001b[38;5;241;43m=\u001b[39;49m\u001b[38;5;28;43mself\u001b[39;49m\u001b[43m,\u001b[49m\u001b[43m \u001b[49m\u001b[43mmin_confidence\u001b[49m\u001b[38;5;241;43m=\u001b[39;49m\u001b[43mmin_confidence\u001b[49m\u001b[43m)\u001b[49m\n\u001b[0;32m     65\u001b[0m \u001b[38;5;66;03m# Check for empty rows and remove if necessary\u001b[39;00m\n\u001b[0;32m     66\u001b[0m empty_rows \u001b[38;5;241m=\u001b[39m \u001b[38;5;28mlist\u001b[39m()\n",
      "File \u001b[1;32m~\\AppData\\Local\\Programs\\Python\\Python310\\lib\\site-packages\\img2table\\ocr\\data.py:146\u001b[0m, in \u001b[0;36mOCRDataframe.get_text_table\u001b[1;34m(self, table, page_number, min_confidence)\u001b[0m\n\u001b[0;32m    133\u001b[0m df_text_parent \u001b[38;5;241m=\u001b[39m (df_words_contained\n\u001b[0;32m    134\u001b[0m                   \u001b[38;5;241m.\u001b[39mgroupby([\u001b[38;5;124m'\u001b[39m\u001b[38;5;124mrow\u001b[39m\u001b[38;5;124m'\u001b[39m, \u001b[38;5;124m'\u001b[39m\u001b[38;5;124mcol\u001b[39m\u001b[38;5;124m'\u001b[39m, \u001b[38;5;124m'\u001b[39m\u001b[38;5;124mparent\u001b[39m\u001b[38;5;124m'\u001b[39m])\n\u001b[0;32m    135\u001b[0m                   \u001b[38;5;241m.\u001b[39magg([pl\u001b[38;5;241m.\u001b[39mcol(\u001b[38;5;124m'\u001b[39m\u001b[38;5;124mx1\u001b[39m\u001b[38;5;124m'\u001b[39m)\u001b[38;5;241m.\u001b[39mmin(),\n\u001b[1;32m   (...)\u001b[0m\n\u001b[0;32m    142\u001b[0m                   \u001b[38;5;241m.\u001b[39magg(pl\u001b[38;5;241m.\u001b[39mcol(\u001b[38;5;124m'\u001b[39m\u001b[38;5;124mvalue\u001b[39m\u001b[38;5;124m'\u001b[39m)\u001b[38;5;241m.\u001b[39mapply(\u001b[38;5;28;01mlambda\u001b[39;00m x: \u001b[38;5;124m'\u001b[39m\u001b[38;5;130;01m\\n\u001b[39;00m\u001b[38;5;124m'\u001b[39m\u001b[38;5;241m.\u001b[39mjoin(x)\u001b[38;5;241m.\u001b[39mstrip())\u001b[38;5;241m.\u001b[39malias(\u001b[38;5;124m'\u001b[39m\u001b[38;5;124mtext\u001b[39m\u001b[38;5;124m'\u001b[39m))\n\u001b[0;32m    143\u001b[0m                   )\n\u001b[0;32m    145\u001b[0m \u001b[38;5;66;03m# Implement found values to table cells content\u001b[39;00m\n\u001b[1;32m--> 146\u001b[0m \u001b[38;5;28;01mfor\u001b[39;00m rec \u001b[38;5;129;01min\u001b[39;00m \u001b[43mdf_text_parent\u001b[49m\u001b[38;5;241;43m.\u001b[39;49m\u001b[43mcollect\u001b[49m\u001b[43m(\u001b[49m\u001b[43m)\u001b[49m\u001b[38;5;241m.\u001b[39mto_dicts():\n\u001b[0;32m    147\u001b[0m     table\u001b[38;5;241m.\u001b[39mitems[rec\u001b[38;5;241m.\u001b[39mget(\u001b[38;5;124m'\u001b[39m\u001b[38;5;124mrow\u001b[39m\u001b[38;5;124m'\u001b[39m)]\u001b[38;5;241m.\u001b[39mitems[rec\u001b[38;5;241m.\u001b[39mget(\u001b[38;5;124m'\u001b[39m\u001b[38;5;124mcol\u001b[39m\u001b[38;5;124m'\u001b[39m)]\u001b[38;5;241m.\u001b[39mcontent \u001b[38;5;241m=\u001b[39m rec\u001b[38;5;241m.\u001b[39mget(\u001b[38;5;124m'\u001b[39m\u001b[38;5;124mtext\u001b[39m\u001b[38;5;124m'\u001b[39m) \u001b[38;5;129;01mor\u001b[39;00m \u001b[38;5;28;01mNone\u001b[39;00m\n\u001b[0;32m    149\u001b[0m \u001b[38;5;28;01mreturn\u001b[39;00m table\n",
      "File \u001b[1;32m~\\AppData\\Local\\Programs\\Python\\Python310\\lib\\site-packages\\polars\\internals\\lazyframe\\frame.py:1147\u001b[0m, in \u001b[0;36mLazyFrame.collect\u001b[1;34m(self, type_coercion, predicate_pushdown, projection_pushdown, simplify_expression, no_optimization, slice_pushdown, common_subplan_elimination, streaming)\u001b[0m\n\u001b[0;32m   1136\u001b[0m     common_subplan_elimination \u001b[38;5;241m=\u001b[39m \u001b[38;5;28;01mFalse\u001b[39;00m\n\u001b[0;32m   1138\u001b[0m ldf \u001b[38;5;241m=\u001b[39m \u001b[38;5;28mself\u001b[39m\u001b[38;5;241m.\u001b[39m_ldf\u001b[38;5;241m.\u001b[39moptimization_toggle(\n\u001b[0;32m   1139\u001b[0m     type_coercion,\n\u001b[0;32m   1140\u001b[0m     predicate_pushdown,\n\u001b[1;32m   (...)\u001b[0m\n\u001b[0;32m   1145\u001b[0m     streaming,\n\u001b[0;32m   1146\u001b[0m )\n\u001b[1;32m-> 1147\u001b[0m \u001b[38;5;28;01mreturn\u001b[39;00m pli\u001b[38;5;241m.\u001b[39mwrap_df(\u001b[43mldf\u001b[49m\u001b[38;5;241;43m.\u001b[39;49m\u001b[43mcollect\u001b[49m\u001b[43m(\u001b[49m\u001b[43m)\u001b[49m)\n",
      "\u001b[1;31mPanicException\u001b[0m: called `Option::unwrap()` on a `None` value"
     ]
    }
   ],
   "source": [
    "from img2table.ocr.tesseract import TesseractOCR\n",
    "from img2table.document import Image\n",
    "src = \"D:/AJAYMON/AJAY/Programming/S6_Mini_Project/Codes/image to table/ad_cut.jpg\"\n",
    "\n",
    "# Instantiation of OCR\n",
    "tess_ocr = TesseractOCR(n_threads=1, lang=\"eng\")\n",
    "\n",
    "# tessdata_dir=\"C:/Program Files/Tesseract-OCR/tesseract.exe\"\n",
    "\n",
    "# Instantiation of document, either an image or a PDF\n",
    "doc = Image(src, dpi=200)\n",
    "\n",
    "# Table extraction\n",
    "extracted_tables = doc.extract_tables(ocr=tess_ocr,\n",
    "                                      implicit_rows=True,\n",
    "                                      min_confidence=50)\n",
    "\n",
    "extracted_tables"
   ]
  },
  {
   "cell_type": "code",
   "execution_count": null,
   "id": "0f25f1c0",
   "metadata": {},
   "outputs": [],
   "source": [
    "from IPython.display import display_html\n",
    "\n",
    "table = extracted_tables.pop()\n",
    "display_html(table.html_repr(title=\"Regular table\"), raw=True)"
   ]
  },
  {
   "cell_type": "code",
   "execution_count": null,
   "id": "2d4a6c39",
   "metadata": {},
   "outputs": [],
   "source": [
    "paddle_ocr = PaddleOCR(lang=\"en\")\n",
    "src = \"D:/AJAYMON/AJAY/Programming/S6_Mini_Project/Codes/image to table/ab_cut.jpg\""
   ]
  },
  {
   "cell_type": "code",
   "execution_count": null,
   "id": "a6bcd8e1",
   "metadata": {},
   "outputs": [],
   "source": [
    "# doc = Image(src, dpi=200)\n",
    "# extracted_tables = doc.extract_tables(ocr=paddle_ocr, implicit_rows=True, min_confidence=50)"
   ]
  },
  {
   "cell_type": "code",
   "execution_count": null,
   "id": "425f0670",
   "metadata": {},
   "outputs": [],
   "source": [
    "# Load the image using PIL\n",
    "img = PIL_Image.open(src)\n",
    "\n",
    "# Create a draw object\n",
    "draw = ImageDraw.Draw(img)\n",
    "\n",
    "img.save(\"temp/ori_img.jpg\")\n",
    "display(\"temp/ori_img.jpg\")"
   ]
  },
  {
   "cell_type": "markdown",
   "id": "7a13da1e",
   "metadata": {},
   "source": [
    "## Getting red-lines on border lines of the image"
   ]
  },
  {
   "cell_type": "code",
   "execution_count": null,
   "id": "058a784e",
   "metadata": {},
   "outputs": [],
   "source": [
    "for table in extracted_tables:\n",
    "    for row in table.content.values():\n",
    "        for cell in row:\n",
    "            draw.rectangle((cell.bbox.x1, cell.bbox.y1, cell.bbox.x2, cell.bbox.y2), outline=\"red\", width=3)\n",
    "            \n",
    "img.save(\"temp/img_with_redlines.jpg\")\n",
    "display(\"temp/img_with_redlines.jpg\")"
   ]
  },
  {
   "cell_type": "markdown",
   "id": "6d153e90",
   "metadata": {},
   "source": [
    "## Extracting info & Preprocessing the dataframe"
   ]
  },
  {
   "cell_type": "code",
   "execution_count": null,
   "id": "8aa35b28",
   "metadata": {},
   "outputs": [],
   "source": [
    "df = table.df\n",
    "df"
   ]
  },
  {
   "cell_type": "code",
   "execution_count": null,
   "id": "b6811add",
   "metadata": {},
   "outputs": [],
   "source": [
    "df = df.iloc[1:, 1:] # deleting first row and column\n",
    "df = df.drop(index=df.index[-1]) # remove the last row\n",
    "df"
   ]
  },
  {
   "cell_type": "markdown",
   "id": "1b9dc06f",
   "metadata": {},
   "source": [
    "## Flattening & adding marks to my_dict"
   ]
  },
  {
   "cell_type": "code",
   "execution_count": null,
   "id": "c060d977",
   "metadata": {},
   "outputs": [],
   "source": [
    "arr = df.to_numpy()\n",
    "flat = arr.flatten(order='F') # flattening column-wise\n",
    "cell_vals = [str(i) for i in flat]\n",
    "cell_vals"
   ]
  },
  {
   "cell_type": "code",
   "execution_count": null,
   "id": "4b1bcbad",
   "metadata": {},
   "outputs": [],
   "source": [
    "len(cell_vals) # 36 should be the result"
   ]
  },
  {
   "cell_type": "code",
   "execution_count": null,
   "id": "7489ccaf",
   "metadata": {},
   "outputs": [],
   "source": [
    "# Adding values to dictionary\n",
    "i = 0\n",
    "for key in my_dict:\n",
    "    my_dict[key].append(cell_vals[i])\n",
    "    i+=1\n",
    "\n",
    "my_dict"
   ]
  },
  {
   "cell_type": "markdown",
   "id": "367c937c",
   "metadata": {},
   "source": [
    "## Dictionary to dataframe & it's preprocessing"
   ]
  },
  {
   "cell_type": "code",
   "execution_count": null,
   "id": "1a878640",
   "metadata": {},
   "outputs": [],
   "source": [
    "# dictionary pre-processes\n",
    "dict_df = pd.DataFrame(my_dict)\n",
    "dict_df # original df of dictionary"
   ]
  },
  {
   "cell_type": "markdown",
   "id": "81f41a19",
   "metadata": {},
   "source": [
    "### The df output may have 'None' values but they're actually NaN, so they won't come in exported CSV file"
   ]
  },
  {
   "cell_type": "code",
   "execution_count": null,
   "id": "af6e76d9",
   "metadata": {},
   "outputs": [],
   "source": [
    "col_name = dict_df.columns[(dict_df == 'None').all()] # finding the column with \"None\" word\n",
    "dict_df = dict_df.drop(col_name, axis=1) # delete the identified columns\n",
    "dict_df = dict_df.replace(to_replace=\"None\", value=np.nan) # Replacing all \"None\" to NaN, which will be empty when converted to CSV\n",
    "dict_df"
   ]
  },
  {
   "cell_type": "code",
   "execution_count": null,
   "id": "1b8151ff",
   "metadata": {},
   "outputs": [],
   "source": [
    "# saving dict as csv\n",
    "dict_df.to_csv(\"dict_csv.csv\", index=False)"
   ]
  },
  {
   "cell_type": "code",
   "execution_count": null,
   "id": "14616abd",
   "metadata": {},
   "outputs": [],
   "source": [
    "print(\"Total time (in seconds): \", time.time() - st)"
   ]
  },
  {
   "cell_type": "code",
   "execution_count": null,
   "id": "3a7d204e",
   "metadata": {},
   "outputs": [],
   "source": []
  },
  {
   "cell_type": "code",
   "execution_count": null,
   "id": "64dc8ae5",
   "metadata": {},
   "outputs": [],
   "source": []
  },
  {
   "cell_type": "code",
   "execution_count": null,
   "id": "deb96dcb",
   "metadata": {},
   "outputs": [],
   "source": []
  },
  {
   "cell_type": "code",
   "execution_count": null,
   "id": "d6047043",
   "metadata": {},
   "outputs": [],
   "source": []
  }
 ],
 "metadata": {
  "kernelspec": {
   "display_name": "Python 3 (ipykernel)",
   "language": "python",
   "name": "python3"
  },
  "language_info": {
   "codemirror_mode": {
    "name": "ipython",
    "version": 3
   },
   "file_extension": ".py",
   "mimetype": "text/x-python",
   "name": "python",
   "nbconvert_exporter": "python",
   "pygments_lexer": "ipython3",
   "version": "3.10.8"
  }
 },
 "nbformat": 4,
 "nbformat_minor": 5
}
