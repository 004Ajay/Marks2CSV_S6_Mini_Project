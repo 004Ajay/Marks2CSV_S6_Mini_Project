{
 "cells": [
  {
   "cell_type": "code",
   "execution_count": 1,
   "id": "ea773ee2",
   "metadata": {},
   "outputs": [],
   "source": [
    "import time\n",
    "\n",
    "st = time.time()"
   ]
  },
  {
   "cell_type": "markdown",
   "id": "9b2fe914",
   "metadata": {},
   "source": [
    "## Importing necessary libraries"
   ]
  },
  {
   "cell_type": "code",
   "execution_count": 2,
   "id": "52ff889f",
   "metadata": {},
   "outputs": [],
   "source": [
    "from img2table.document import Image\n",
    "from img2table.ocr import PaddleOCR\n",
    "import pandas as pd\n",
    "import numpy as np"
   ]
  },
  {
   "cell_type": "code",
   "execution_count": 3,
   "id": "7831c7ad",
   "metadata": {},
   "outputs": [],
   "source": [
    "# Dictionary for storing marks of each papers\n",
    "my_dict = {'1a': [], '1b': [], '1c': [], '2a': [], '2b': [], '2c': [], '3a': [], '3b': [], '3c': [], '4a': [], '4b': [], '4c': [], '5a': [], '5b': [], '5c': [], '6a': [], '6b': [], '6c': [], '7a': [], '7b': [], '7c': [], '8a': [], '8b': [], '8c': [], '9a': [], '9b': [], '9c': [], '10a': [], '10b': [], '10c': [], '11a': [], '11b': [], '11c': [], '12a': [], '12b': [], '12c': []}"
   ]
  },
  {
   "cell_type": "markdown",
   "id": "5243a625",
   "metadata": {},
   "source": [
    "## Image opening & performing OCR"
   ]
  },
  {
   "cell_type": "code",
   "execution_count": 4,
   "id": "2d4a6c39",
   "metadata": {},
   "outputs": [],
   "source": [
    "paddle_ocr = PaddleOCR(lang=\"en\")\n",
    "src = \"D:/AJAYMON/AJAY/Programming/Auto_Excel_Mark_Entry/Codes/image to table/ab_cut.jpg\""
   ]
  },
  {
   "cell_type": "code",
   "execution_count": 5,
   "id": "a6bcd8e1",
   "metadata": {},
   "outputs": [],
   "source": [
    "doc = Image(src, dpi=200)\n",
    "extracted_tables = doc.extract_tables(ocr=paddle_ocr, implicit_rows=True, min_confidence=50)"
   ]
  },
  {
   "cell_type": "markdown",
   "id": "6d153e90",
   "metadata": {},
   "source": [
    "## Extracting info & Preprocessing the dataframe"
   ]
  },
  {
   "cell_type": "code",
   "execution_count": 6,
   "id": "78aa57a4",
   "metadata": {},
   "outputs": [],
   "source": [
    "for table in extracted_tables:\n",
    "    for row in table.content.values():\n",
    "        _"
   ]
  },
  {
   "cell_type": "code",
   "execution_count": 7,
   "id": "8aa35b28",
   "metadata": {},
   "outputs": [],
   "source": [
    "df = table.df\n",
    "df = df.iloc[1:, 1:] # deleting first row and column\n",
    "df = df.drop(index=df.index[-1]) # remove the last row"
   ]
  },
  {
   "cell_type": "markdown",
   "id": "1b9dc06f",
   "metadata": {},
   "source": [
    "## Flattening & adding marks to my_dict"
   ]
  },
  {
   "cell_type": "code",
   "execution_count": 8,
   "id": "c060d977",
   "metadata": {},
   "outputs": [],
   "source": [
    "arr = df.to_numpy()\n",
    "flat = arr.flatten(order='F') # flattening column-wise\n",
    "cell_vals = [str(i) for i in flat]"
   ]
  },
  {
   "cell_type": "code",
   "execution_count": 9,
   "id": "7489ccaf",
   "metadata": {},
   "outputs": [],
   "source": [
    "# Adding values to dictionary\n",
    "i = 0\n",
    "for key in my_dict:\n",
    "    my_dict[key].append(cell_vals[i])\n",
    "    i+=1"
   ]
  },
  {
   "cell_type": "markdown",
   "id": "367c937c",
   "metadata": {},
   "source": [
    "## Dictionary to dataframe & it's preprocessing"
   ]
  },
  {
   "cell_type": "markdown",
   "id": "81f41a19",
   "metadata": {},
   "source": [
    "### The df output may have 'None' values but they're actually NaN, so they won't come in exported CSV file"
   ]
  },
  {
   "cell_type": "code",
   "execution_count": 10,
   "id": "af6e76d9",
   "metadata": {},
   "outputs": [],
   "source": [
    "dict_df = pd.DataFrame(my_dict)\n",
    "col_name = dict_df.columns[(dict_df == 'None').all()] # finding the column with \"None\" word\n",
    "dict_df = dict_df.drop(col_name, axis=1) # delete the identified columns\n",
    "dict_df = dict_df.replace(to_replace=\"None\", value=np.nan) # Replacing all \"None\" to NaN, which will be empty when converted to CSV"
   ]
  },
  {
   "cell_type": "code",
   "execution_count": 11,
   "id": "1b8151ff",
   "metadata": {},
   "outputs": [],
   "source": [
    "# saving dict as csv\n",
    "dict_df.to_csv(\"timed_dict_csv.csv\", index=False)"
   ]
  },
  {
   "cell_type": "code",
   "execution_count": 12,
   "id": "14616abd",
   "metadata": {},
   "outputs": [
    {
     "name": "stdout",
     "output_type": "stream",
     "text": [
      "9.762744188308716\n"
     ]
    }
   ],
   "source": [
    "print(time.time() - st)"
   ]
  },
  {
   "cell_type": "code",
   "execution_count": null,
   "id": "3a7d204e",
   "metadata": {},
   "outputs": [],
   "source": []
  },
  {
   "cell_type": "code",
   "execution_count": null,
   "id": "64dc8ae5",
   "metadata": {},
   "outputs": [],
   "source": []
  },
  {
   "cell_type": "code",
   "execution_count": null,
   "id": "deb96dcb",
   "metadata": {},
   "outputs": [],
   "source": []
  },
  {
   "cell_type": "code",
   "execution_count": null,
   "id": "d6047043",
   "metadata": {},
   "outputs": [],
   "source": []
  }
 ],
 "metadata": {
  "kernelspec": {
   "display_name": "Python 3 (ipykernel)",
   "language": "python",
   "name": "python3"
  },
  "language_info": {
   "codemirror_mode": {
    "name": "ipython",
    "version": 3
   },
   "file_extension": ".py",
   "mimetype": "text/x-python",
   "name": "python",
   "nbconvert_exporter": "python",
   "pygments_lexer": "ipython3",
   "version": "3.10.8"
  }
 },
 "nbformat": 4,
 "nbformat_minor": 5
}
