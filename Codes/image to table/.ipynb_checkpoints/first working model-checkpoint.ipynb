{
 "cells": [
  {
   "cell_type": "code",
   "execution_count": 1,
   "id": "aada7e1c",
   "metadata": {},
   "outputs": [
    {
     "ename": "TypeError",
     "evalue": "'ExtractedTable' object is not subscriptable",
     "output_type": "error",
     "traceback": [
      "\u001b[1;31m---------------------------------------------------------------------------\u001b[0m",
      "\u001b[1;31mTypeError\u001b[0m                                 Traceback (most recent call last)",
      "Cell \u001b[1;32mIn [1], line 24\u001b[0m\n\u001b[0;32m     22\u001b[0m \u001b[38;5;66;03m# Loop over the extracted tables and draw rectangles around them\u001b[39;00m\n\u001b[0;32m     23\u001b[0m \u001b[38;5;28;01mfor\u001b[39;00m table \u001b[38;5;129;01min\u001b[39;00m extracted_tables:\n\u001b[1;32m---> 24\u001b[0m     x, y, width, height \u001b[38;5;241m=\u001b[39m \u001b[43mtable\u001b[49m\u001b[43m[\u001b[49m\u001b[38;5;124;43m\"\u001b[39;49m\u001b[38;5;124;43mbbox\u001b[39;49m\u001b[38;5;124;43m\"\u001b[39;49m\u001b[43m]\u001b[49m\n\u001b[0;32m     25\u001b[0m     draw\u001b[38;5;241m.\u001b[39mrectangle((x, y, x \u001b[38;5;241m+\u001b[39m width, y \u001b[38;5;241m+\u001b[39m height), outline\u001b[38;5;241m=\u001b[39m\u001b[38;5;124m\"\u001b[39m\u001b[38;5;124mred\u001b[39m\u001b[38;5;124m\"\u001b[39m, width\u001b[38;5;241m=\u001b[39m\u001b[38;5;241m3\u001b[39m)\n\u001b[0;32m     27\u001b[0m \u001b[38;5;66;03m# Save the image with boxes around the detected tables\u001b[39;00m\n",
      "\u001b[1;31mTypeError\u001b[0m: 'ExtractedTable' object is not subscriptable"
     ]
    }
   ],
   "source": [
    "from img2table.document import Image\n",
    "from img2table.ocr import PaddleOCR\n",
    "from PIL import Image as PIL_Image, ImageDraw\n",
    "\n",
    "paddle_ocr = PaddleOCR(lang=\"en\")\n",
    "src = \"C:/Users/ASUS/Desktop/image to table/new.jpg\"\n",
    "\n",
    "# Instantiation of document, either an image or a PDF\n",
    "doc = Image(src, dpi=200)\n",
    "\n",
    "# Table extraction\n",
    "extracted_tables = doc.extract_tables(ocr=paddle_ocr,\n",
    "                                      implicit_rows=True,\n",
    "                                      min_confidence=50)\n",
    "\n",
    "# Load the image using PIL\n",
    "img = PIL_Image.open(src)\n",
    "\n",
    "# Create a draw object\n",
    "draw = ImageDraw.Draw(img)\n",
    "\n",
    "# Loop over the extracted tables and draw rectangles around them\n",
    "for table in extracted_tables:\n",
    "    x, y, width, height = table[\"bbox\"]\n",
    "    draw.rectangle((x, y, x + width, y + height), outline=\"red\", width=3)\n",
    "\n",
    "# Save the image with boxes around the detected tables\n",
    "img.save(\"C:/Users/ASUS/Desktop/image to table/new_with_boxes.jpg\")\n"
   ]
  },
  {
   "cell_type": "code",
   "execution_count": null,
   "id": "310165e4",
   "metadata": {},
   "outputs": [],
   "source": []
  }
 ],
 "metadata": {
  "kernelspec": {
   "display_name": "Python 3 (ipykernel)",
   "language": "python",
   "name": "python3"
  },
  "language_info": {
   "codemirror_mode": {
    "name": "ipython",
    "version": 3
   },
   "file_extension": ".py",
   "mimetype": "text/x-python",
   "name": "python",
   "nbconvert_exporter": "python",
   "pygments_lexer": "ipython3",
   "version": "3.10.8"
  }
 },
 "nbformat": 4,
 "nbformat_minor": 5
}
