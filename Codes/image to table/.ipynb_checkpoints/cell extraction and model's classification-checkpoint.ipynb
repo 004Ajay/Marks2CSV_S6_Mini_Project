{
 "cells": [
  {
   "cell_type": "code",
   "execution_count": 11,
   "id": "8f654aea",
   "metadata": {},
   "outputs": [],
   "source": [
    "from img2table.document.image import Image as imm\n",
    "from pdf2image import convert_from_path\n",
    "from PIL import Image as PIL_Image\n",
    "import numpy as np\n",
    "import cv2\n",
    "import io"
   ]
  },
  {
   "cell_type": "code",
   "execution_count": 2,
   "id": "af4253cf",
   "metadata": {},
   "outputs": [],
   "source": [
    "images = convert_from_path(\"D:/AJAYMON/AJAY/Programming/S6_Mini_Project/Codes/cell_extraction/ex_small.pdf\") # change PDF name here"
   ]
  },
  {
   "cell_type": "code",
   "execution_count": 5,
   "id": "018bd9ad",
   "metadata": {},
   "outputs": [],
   "source": [
    "def predict_image(image):\n",
    "    gray = cv2.cvtColor(image, cv2.COLOR_RGB2GRAY)\n",
    "    resized = cv2.resize(gray, (40, 40)) # 40x40 pixels is the input shape of model\n",
    "\n",
    "    # Expand the dimensions of the image to match the input shape of the model\n",
    "    im = np.expand_dims(resized, axis=0)\n",
    "\n",
    "    result = model.predict(im)\n",
    "    pred = np.argmax(result[0])\n",
    "\n",
    "    return pred"
   ]
  },
  {
   "cell_type": "code",
   "execution_count": 13,
   "id": "8101aa76",
   "metadata": {},
   "outputs": [
    {
     "ename": "error",
     "evalue": "OpenCV(4.7.0) d:\\a\\opencv-python\\opencv-python\\opencv\\modules\\imgproc\\src\\color.simd_helpers.hpp:92: error: (-2:Unspecified error) in function '__cdecl cv::impl::`anonymous-namespace'::CvtHelper<struct cv::impl::`anonymous namespace'::Set<3,4,-1>,struct cv::impl::A0x73cf019b::Set<1,-1,-1>,struct cv::impl::A0x73cf019b::Set<0,2,5>,2>::CvtHelper(const class cv::_InputArray &,const class cv::_OutputArray &,int)'\n> Invalid number of channels in input image:\n>     'VScn::contains(scn)'\n> where\n>     'scn' is 1\n",
     "output_type": "error",
     "traceback": [
      "\u001b[1;31m---------------------------------------------------------------------------\u001b[0m",
      "\u001b[1;31merror\u001b[0m                                     Traceback (most recent call last)",
      "Cell \u001b[1;32mIn [13], line 26\u001b[0m\n\u001b[0;32m     24\u001b[0m                 crp \u001b[38;5;241m=\u001b[39m crp\u001b[38;5;241m.\u001b[39mresize((\u001b[38;5;241m40\u001b[39m, \u001b[38;5;241m40\u001b[39m)) \u001b[38;5;66;03m# change the size of cell image output here\u001b[39;00m\n\u001b[0;32m     25\u001b[0m \u001b[38;5;66;03m#                 crp1.save(f\"D:/AJAYMON/AJAY/Programming/S6_Mini_Project/Codes/image to table/cell_extn/ima{a}.jpg\")\u001b[39;00m\n\u001b[1;32m---> 26\u001b[0m                 lst\u001b[38;5;241m.\u001b[39mappend(\u001b[43mpredict_image\u001b[49m\u001b[43m(\u001b[49m\u001b[43mnp\u001b[49m\u001b[38;5;241;43m.\u001b[39;49m\u001b[43marray\u001b[49m\u001b[43m(\u001b[49m\u001b[43mcrp\u001b[49m\u001b[43m)\u001b[49m\u001b[43m)\u001b[49m)\n\u001b[0;32m     27\u001b[0m                 a\u001b[38;5;241m+\u001b[39m\u001b[38;5;241m=\u001b[39m\u001b[38;5;241m1\u001b[39m\n",
      "Cell \u001b[1;32mIn [5], line 2\u001b[0m, in \u001b[0;36mpredict_image\u001b[1;34m(image)\u001b[0m\n\u001b[0;32m      1\u001b[0m \u001b[38;5;28;01mdef\u001b[39;00m \u001b[38;5;21mpredict_image\u001b[39m(image):\n\u001b[1;32m----> 2\u001b[0m     gray \u001b[38;5;241m=\u001b[39m \u001b[43mcv2\u001b[49m\u001b[38;5;241;43m.\u001b[39;49m\u001b[43mcvtColor\u001b[49m\u001b[43m(\u001b[49m\u001b[43mimage\u001b[49m\u001b[43m,\u001b[49m\u001b[43m \u001b[49m\u001b[43mcv2\u001b[49m\u001b[38;5;241;43m.\u001b[39;49m\u001b[43mCOLOR_RGB2GRAY\u001b[49m\u001b[43m)\u001b[49m\n\u001b[0;32m      3\u001b[0m     resized \u001b[38;5;241m=\u001b[39m cv2\u001b[38;5;241m.\u001b[39mresize(gray, (\u001b[38;5;241m40\u001b[39m, \u001b[38;5;241m40\u001b[39m)) \u001b[38;5;66;03m# 40x40 pixels is the input shape of model\u001b[39;00m\n\u001b[0;32m      5\u001b[0m     \u001b[38;5;66;03m# Expand the dimensions of the image to match the input shape of the model\u001b[39;00m\n",
      "\u001b[1;31merror\u001b[0m: OpenCV(4.7.0) d:\\a\\opencv-python\\opencv-python\\opencv\\modules\\imgproc\\src\\color.simd_helpers.hpp:92: error: (-2:Unspecified error) in function '__cdecl cv::impl::`anonymous-namespace'::CvtHelper<struct cv::impl::`anonymous namespace'::Set<3,4,-1>,struct cv::impl::A0x73cf019b::Set<1,-1,-1>,struct cv::impl::A0x73cf019b::Set<0,2,5>,2>::CvtHelper(const class cv::_InputArray &,const class cv::_OutputArray &,int)'\n> Invalid number of channels in input image:\n>     'VScn::contains(scn)'\n> where\n>     'scn' is 1\n"
     ]
    }
   ],
   "source": [
    "# Cropping & Saving the cropped image to folder\n",
    "a=0\n",
    "for i in range(len(images)):\n",
    "    img = images[i].convert('L') # convert('L') for gray scaling\n",
    "    _, height = img.size\n",
    "    cropped_img = img.crop((150, height / 2 + 50, 1600, height - 300)) # left, top, right, bottom\n",
    "    \n",
    "    img_bytes=io.BytesIO()\n",
    "    cropped_img.save(img_bytes, format='JPEG')\n",
    "    img_bytes.seek(0)\n",
    "    \n",
    "    doc = imm(img_bytes,dpi=200)\n",
    "    \n",
    "    extracted_tables = doc.extract_tables(implicit_rows=True, min_confidence=50)\n",
    "\n",
    "    img = PIL_Image.open(doc.src) # opening image for cell croppping\n",
    "    \n",
    "    lst = []\n",
    "    \n",
    "    for table in extracted_tables:\n",
    "        for row in table.content.values():\n",
    "            for cell in row:\n",
    "                crp = img.crop((cell.bbox.x1, cell.bbox.y1, cell.bbox.x2, cell.bbox.y2))\n",
    "                crp = crp.resize((40, 40)) # change the size of cell image output here\n",
    "#                 crp1.save(f\"D:/AJAYMON/AJAY/Programming/S6_Mini_Project/Codes/image to table/cell_extn/ima{a}.jpg\")\n",
    "                pred = predict_image(np.array(crp))\n",
    "                lst.append(pred)\n",
    "                a+=1"
   ]
  },
  {
   "cell_type": "code",
   "execution_count": null,
   "id": "423e7b5d",
   "metadata": {},
   "outputs": [],
   "source": [
    "lst"
   ]
  },
  {
   "cell_type": "code",
   "execution_count": 8,
   "id": "da644dd7",
   "metadata": {},
   "outputs": [
    {
     "data": {
      "text/plain": [
       "PIL.Image.Image"
      ]
     },
     "execution_count": 8,
     "metadata": {},
     "output_type": "execute_result"
    }
   ],
   "source": [
    "type(crp)"
   ]
  },
  {
   "cell_type": "code",
   "execution_count": 16,
   "id": "81f25503",
   "metadata": {},
   "outputs": [
    {
     "data": {
      "text/plain": [
       "array([[0.58431373, 0.71764706, 0.72156863, ..., 0.70588235, 0.72156863,\n",
       "        0.44313725],\n",
       "       [0.57254902, 0.71764706, 0.7254902 , ..., 0.70588235, 0.72156863,\n",
       "        0.44313725],\n",
       "       [0.57254902, 0.71764706, 0.72941176, ..., 0.70196078, 0.71372549,\n",
       "        0.43921569],\n",
       "       ...,\n",
       "       [0.46666667, 0.70980392, 0.71764706, ..., 0.67058824, 0.69019608,\n",
       "        0.51372549],\n",
       "       [0.4745098 , 0.71372549, 0.71372549, ..., 0.67843137, 0.67843137,\n",
       "        0.48235294],\n",
       "       [0.48627451, 0.72156863, 0.70588235, ..., 0.68627451, 0.68627451,\n",
       "        0.47843137]])"
      ]
     },
     "execution_count": 16,
     "metadata": {},
     "output_type": "execute_result"
    }
   ],
   "source": [
    "im = np.array(crp)/255\n",
    "im"
   ]
  },
  {
   "cell_type": "code",
   "execution_count": null,
   "id": "e971a269",
   "metadata": {},
   "outputs": [],
   "source": []
  },
  {
   "cell_type": "code",
   "execution_count": null,
   "id": "55fc49d1",
   "metadata": {},
   "outputs": [],
   "source": []
  },
  {
   "cell_type": "code",
   "execution_count": null,
   "id": "b3ac7cdb",
   "metadata": {},
   "outputs": [],
   "source": []
  }
 ],
 "metadata": {
  "kernelspec": {
   "display_name": "Python 3 (ipykernel)",
   "language": "python",
   "name": "python3"
  },
  "language_info": {
   "codemirror_mode": {
    "name": "ipython",
    "version": 3
   },
   "file_extension": ".py",
   "mimetype": "text/x-python",
   "name": "python",
   "nbconvert_exporter": "python",
   "pygments_lexer": "ipython3",
   "version": "3.10.8"
  }
 },
 "nbformat": 4,
 "nbformat_minor": 5
}
