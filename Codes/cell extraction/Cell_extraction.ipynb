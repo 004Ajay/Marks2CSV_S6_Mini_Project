{
 "cells": [
  {
   "cell_type": "code",
   "execution_count": 7,
   "id": "663a6401",
   "metadata": {},
   "outputs": [],
   "source": [
    "from img2table.document import Image\n",
    "from pdf2image import convert_from_path\n",
    "from PIL import Image as PIL_Image"
   ]
  },
  {
   "cell_type": "code",
   "execution_count": 8,
   "id": "e597a339",
   "metadata": {},
   "outputs": [],
   "source": [
    "images = convert_from_path('D:/AJAYMON/AJAY/Programming/S6_Mini_Project/Codes/cell extraction/new_exm.pdf') # change or give PDF name here....................new_exm.pdf"
   ]
  },
  {
   "cell_type": "code",
   "execution_count": 12,
   "id": "44a3e9aa",
   "metadata": {},
   "outputs": [],
   "source": [
    "# Cropping & Saving the cropped image to folder\n",
    "\n",
    "for i in range(len(images)):\n",
    "    img = images[i].convert('L') # convert('L') for gray scaling\n",
    "    _, height = img.size\n",
    "    cropped_img = img.crop((150, height / 2 + 50, 1600, height - 300)) # left, top, right, bottom\n",
    "    cropped_img.save(f\"D:/AJAYMON/AJAY/Programming/S6_Mini_Project/Codes/cell extraction/cropped_temp/cropped_ima{i}.jpg\")\n"
   ]
  },
  {
   "cell_type": "code",
   "execution_count": 13,
   "id": "beda4e9b",
   "metadata": {},
   "outputs": [],
   "source": [
    "# Getting the crooped image & extracting cell from it\n",
    "\n",
    "a=0\n",
    "for i in range(len(images)):\n",
    "    src = f\"D:/AJAYMON/AJAY/Programming/S6_Mini_Project/Codes/cell extraction/cropped_temp/cropped_ima{i}.jpg\"\n",
    "\n",
    "    doc = Image(src, dpi=200)\n",
    "    extracted_tables = doc.extract_tables(implicit_rows=True, min_confidence=50)\n",
    "\n",
    "    img = PIL_Image.open(src) # opening image for cell croppping\n",
    "    \n",
    "    for table in extracted_tables:\n",
    "        for row in table.content.values():\n",
    "            for cell in row:\n",
    "                crp = img.crop((cell.bbox.x1, cell.bbox.y1, cell.bbox.x2, cell.bbox.y2))\n",
    "                crp = crp.resize((40, 40)) # change the size of cell image output here\n",
    "                crp.save(f\"D:/AJAYMON/AJAY/Programming/S6_Mini_Project/Codes/cell extraction/temp/ima{a}.jpg\")\n",
    "                a+=1"
   ]
  },
  {
   "cell_type": "code",
   "execution_count": null,
   "id": "50743c84",
   "metadata": {},
   "outputs": [],
   "source": []
  },
  {
   "cell_type": "code",
   "execution_count": null,
   "id": "79ceeee8",
   "metadata": {},
   "outputs": [],
   "source": []
  }
 ],
 "metadata": {
  "kernelspec": {
   "display_name": "Python 3 (ipykernel)",
   "language": "python",
   "name": "python3"
  },
  "language_info": {
   "codemirror_mode": {
    "name": "ipython",
    "version": 3
   },
   "file_extension": ".py",
   "mimetype": "text/x-python",
   "name": "python",
   "nbconvert_exporter": "python",
   "pygments_lexer": "ipython3",
   "version": "3.10.8"
  }
 },
 "nbformat": 4,
 "nbformat_minor": 5
}
