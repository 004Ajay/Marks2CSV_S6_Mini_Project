{
 "cells": [
  {
   "cell_type": "code",
   "execution_count": 1,
   "id": "8f654aea",
   "metadata": {},
   "outputs": [],
   "source": [
    "from img2table.document.image import Image as imm\n",
    "from pdf2image import convert_from_path\n",
    "from PIL import Image as PIL_Image\n",
    "import io"
   ]
  },
  {
   "cell_type": "code",
   "execution_count": 2,
   "id": "af4253cf",
   "metadata": {},
   "outputs": [],
   "source": [
    "images = convert_from_path(\"D:/AJAYMON/AJAY/Programming/S6_Mini_Project/Codes/cell_extraction/ex_small.pdf\")\n",
    "# change or give PDF name here....................new_exm.pdf"
   ]
  },
  {
   "cell_type": "code",
   "execution_count": 4,
   "id": "8101aa76",
   "metadata": {},
   "outputs": [],
   "source": [
    "# Cropping & Saving the cropped image to folder\n",
    "a=0\n",
    "for i in range(len(images)):\n",
    "    img = images[i].convert('L') # convert('L') for gray scaling\n",
    "    _, height = img.size\n",
    "    cropped_img = img.crop((150, height / 2 + 50, 1600, height - 300)) # left, top, right, bottom\n",
    "    \n",
    "    img_bytes=io.BytesIO()\n",
    "    cropped_img.save(img_bytes,format='JPEG')\n",
    "    img_bytes.seek(0)\n",
    "    \n",
    "    doc = imm(img_bytes,dpi=200)\n",
    "    \n",
    "    extracted_tables = doc.extract_tables(implicit_rows=True, min_confidence=50)\n",
    "\n",
    "    img = PIL_Image.open(doc.src) # opening image for cell croppping\n",
    "    \n",
    "    for table in extracted_tables:\n",
    "        for row in table.content.values():\n",
    "            for cell in row:\n",
    "                crp = img.crop((cell.bbox.x1, cell.bbox.y1, cell.bbox.x2, cell.bbox.y2))\n",
    "                crp1 = crp.resize((40, 40)) # change the size of cell image output here\n",
    "                crp1.save(f\"D:/AJAYMON/AJAY/Programming/S6_Mini_Project/Codes/cell_extraction/temp/ima{a}.jpg\")\n",
    "                a+=1"
   ]
  },
  {
   "cell_type": "code",
   "execution_count": null,
   "id": "0d975e1c",
   "metadata": {},
   "outputs": [],
   "source": []
  }
 ],
 "metadata": {
  "kernelspec": {
   "display_name": "Python 3 (ipykernel)",
   "language": "python",
   "name": "python3"
  },
  "language_info": {
   "codemirror_mode": {
    "name": "ipython",
    "version": 3
   },
   "file_extension": ".py",
   "mimetype": "text/x-python",
   "name": "python",
   "nbconvert_exporter": "python",
   "pygments_lexer": "ipython3",
   "version": "3.10.8"
  }
 },
 "nbformat": 4,
 "nbformat_minor": 5
}
